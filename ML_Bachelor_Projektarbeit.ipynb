{
  "nbformat": 4,
  "nbformat_minor": 0,
  "metadata": {
    "colab": {
      "name": "ML_Bachelor_Projektarbeit.ipynb",
      "provenance": [],
      "collapsed_sections": [],
      "include_colab_link": true
    },
    "kernelspec": {
      "name": "python3",
      "display_name": "Python 3"
    }
  },
  "cells": [
    {
      "cell_type": "markdown",
      "metadata": {
        "id": "view-in-github",
        "colab_type": "text"
      },
      "source": [
        "<a href=\"https://colab.research.google.com/github/DanielDanger/mlBachelor/blob/daniel/ML_Bachelor_Projektarbeit.ipynb\" target=\"_parent\"><img src=\"https://colab.research.google.com/assets/colab-badge.svg\" alt=\"Open In Colab\"/></a>"
      ]
    },
    {
      "cell_type": "code",
      "metadata": {
        "id": "wU4cCpL63NEi"
      },
      "source": [
        "from pydrive.auth import GoogleAuth \r\n",
        "from pydrive.drive import GoogleDrive \r\n",
        "from google.colab import auth \r\n",
        "from oauth2client.client import GoogleCredentials \r\n",
        "\r\n",
        "\r\n",
        "# Authenticate and create the PyDrive client. \r\n",
        "auth.authenticate_user() \r\n",
        "gauth = GoogleAuth() \r\n",
        "gauth.credentials = GoogleCredentials.get_application_default() \r\n",
        "drive = GoogleDrive(gauth)"
      ],
      "execution_count": 1,
      "outputs": []
    },
    {
      "cell_type": "code",
      "metadata": {
        "id": "aJtH6o8e51az"
      },
      "source": [
        "import pandas as pd\r\n",
        "link = 'https://drive.google.com/file/d/1u1gYmv2sDvoo_Lh6J1QyDlb_ldtiH2G5/view?usp=sharing'\r\n",
        "\r\n",
        "# to get the id part of the file \r\n",
        "id = link.split(\"/\")[-2] \r\n",
        "  \r\n",
        "downloaded = drive.CreateFile({'id':id})  \r\n",
        "downloaded.GetContentFile('train.csv')   \r\n",
        "  \r\n",
        "df_train = pd.read_csv('train.csv') \r\n",
        "\r\n",
        "link = 'https://drive.google.com/file/d/1e-di8EI_pVCowDaZxb_SQlovzfKkB9_Z/view?usp=sharing'\r\n",
        "\r\n",
        "# to get the id part of the file \r\n",
        "id = link.split(\"/\")[-2] \r\n",
        "  \r\n",
        "downloaded = drive.CreateFile({'id':id})  \r\n",
        "downloaded.GetContentFile('test.csv')   \r\n",
        "  \r\n",
        "df_test = pd.read_csv('test.csv') \r\n"
      ],
      "execution_count": 2,
      "outputs": []
    },
    {
      "cell_type": "markdown",
      "metadata": {
        "id": "hDrZUjps3tzG"
      },
      "source": [
        "# Business Understanding "
      ]
    },
    {
      "cell_type": "markdown",
      "metadata": {
        "id": "5aCUeswZ5all"
      },
      "source": [
        "# Data Understanding"
      ]
    },
    {
      "cell_type": "markdown",
      "metadata": {
        "id": "zkVh_QGE6mJZ"
      },
      "source": [
        "Hier sollte ggf. mal eine Darstellung erfolgen, welche Werte nicht vorhanden sind "
      ]
    },
    {
      "cell_type": "markdown",
      "metadata": {
        "id": "m7hSxF7s5eVc"
      },
      "source": [
        "# Data Preparation"
      ]
    },
    {
      "cell_type": "markdown",
      "metadata": {
        "id": "_Fj7fs5Y9qPv"
      },
      "source": [
        "Als erstes muss der Basket in eine Liste transformiert werden -> dazu wird eine Funktion geschrieben. "
      ]
    },
    {
      "cell_type": "code",
      "metadata": {
        "id": "su3RCGgK93R9"
      },
      "source": [
        "import ast\r\n",
        "def calculate_basket_size(dfi): \r\n",
        "  dfi[\"basket_size\"] = dfi.basket.apply(lambda x: len(ast.literal_eval(x)))\r\n",
        "  return dfi"
      ],
      "execution_count": 3,
      "outputs": []
    },
    {
      "cell_type": "markdown",
      "metadata": {
        "id": "S3qXksrw-ule"
      },
      "source": [
        "Funktion, welche die Fehlenden Werte im Dataframe füllt "
      ]
    },
    {
      "cell_type": "code",
      "metadata": {
        "id": "AW4SR6LM8F6v"
      },
      "source": [
        "import statistics\r\n",
        "def fill_na(df):\r\n",
        "  df['totalAmount'].fillna((df['totalAmount'].mean()), inplace=True)\r\n",
        "  df[\"customerType\"].fillna(statistics.mode(df[\"customerType\"]), inplace= True)\r\n",
        "  return df"
      ],
      "execution_count": 4,
      "outputs": []
    },
    {
      "cell_type": "markdown",
      "metadata": {
        "id": "g-EhZKuoAxG5"
      },
      "source": [
        "Funktion, welche die Spalte *basket* in eine Liste transformiert und dem Dataframe anhängt"
      ]
    },
    {
      "cell_type": "code",
      "metadata": {
        "id": "VGjjVgPMAwaS"
      },
      "source": [
        "import json\r\n",
        "def transform_basket_tolist(dfp):\r\n",
        "  print(dfp)\r\n",
        "  basket_list = dfp[\"basket\"].values.tolist()\r\n",
        "  new_basket_list = []\r\n",
        "  for x in basket_list:\r\n",
        "    basket = json.loads(x)\r\n",
        "    new_basket_list.append(basket)\r\n",
        "  dfp[\"basket_new\"] = new_basket_list\r\n",
        "  return dfp"
      ],
      "execution_count": 5,
      "outputs": []
    },
    {
      "cell_type": "code",
      "metadata": {
        "id": "22URLxzBDGK6"
      },
      "source": [
        "def count_occurences(df):\r\n",
        "  df1 = df['basket_new'].explode()\r\n",
        "  df = df.join(pd.crosstab(df1.index, df1).add_prefix('Cat_')) # TransactionId wird aufgrund fehlender Relevanz nicht weiter betrachtet\r\n",
        "  print(df)\r\n",
        "  return df\r\n",
        "\r\n",
        "  #[['customerType','totalAmount','returnLabel']] DeDa rausgeworfen "
      ],
      "execution_count": 6,
      "outputs": []
    },
    {
      "cell_type": "code",
      "metadata": {
        "id": "h3ulC6UfJjdC"
      },
      "source": [
        "#Überprüfung, ob eine Kategorie im Basket vorhanden ist, One hot encoding der Kategorien \r\n",
        "def cat_in_basket(dfi):\r\n",
        "  i=0\r\n",
        "  while i<=5:\r\n",
        "    cat=\"Cat_\"+str(i)\r\n",
        "    dfi[cat]=dfi[cat].map(lambda x: 1 if x > 0 else 0)\r\n",
        "    i=i+1\r\n",
        "  return dfi"
      ],
      "execution_count": 7,
      "outputs": []
    },
    {
      "cell_type": "code",
      "metadata": {
        "id": "ZrUQVvgmhgnc"
      },
      "source": [
        "# CustomerType in 0 und 1 umbauen \r\n",
        "from pandas.api.types import is_string_dtype\r\n",
        "def map_customer(df): \r\n",
        "  if (is_string_dtype(df.customerType)):\r\n",
        "    df.customerType=df.customerType.map({'existing':1,'new':0})"
      ],
      "execution_count": 8,
      "outputs": []
    },
    {
      "cell_type": "code",
      "metadata": {
        "id": "GaY01W3q-vqf"
      },
      "source": [
        "# Funktion die Zählt, wie oft ist eine Kategorie in einem Warenkorb vorhanden\r\n",
        "def count_categories(dfi1): \r\n",
        "  df1 = dfi1['basket_new'].explode()\r\n",
        "  dfi1=dfi1[['customerType','totalAmount','returnLabel','basket_size']].join(pd.crosstab(df1.index, df1, colnames=['b']).add_prefix('Cat_')) # Das Teil muss ich nochmal checken \r\n",
        "  dfi1=dfi1[['customerType','Cat_0','Cat_1','Cat_2','Cat_3','Cat_4','Cat_5','totalAmount','returnLabel','basket_size']]\r\n",
        "  return dfi1"
      ],
      "execution_count": 9,
      "outputs": []
    },
    {
      "cell_type": "code",
      "metadata": {
        "id": "V4Oe7BetDE7D"
      },
      "source": [
        "#Diese Funktion berechnet das Verhätnis mit welcher Wahrscheinlichkeit ein Buch zurückgesendet wird. \r\n",
        "def cal_return_prob(dfi):\r\n",
        "    # Kennzahlen für den Bereich der Rücksendungen ermitteln \r\n",
        "    books_returned = dfi[dfi.returnLabel==1]\r\n",
        "    books_returned = books_returned.sum(axis = 0, skipna = True)\r\n",
        "    books_returned_array = books_returned[[\"Cat_0\",\"Cat_1\",\"Cat_2\",\"Cat_3\",\"Cat_4\",\"Cat_5\"]].to_numpy()  \r\n",
        "    #Summe aller Spalten -> dann nur die Kategorien rausfiltern \r\n",
        "    all_books = dfi.sum(axis = 0, skipna = True)\r\n",
        "    all_books_array = all_books[[\"Cat_0\",\"Cat_1\",\"Cat_2\",\"Cat_3\",\"Cat_4\",\"Cat_5\"]].to_numpy()\r\n",
        "\r\n",
        "    #Berechne das Rücksendeverhältnis der einzelnen Kategorien \r\n",
        "    verhältnis = books_returned_array / all_books_array\r\n",
        "\r\n",
        "    return verhältnis"
      ],
      "execution_count": 10,
      "outputs": []
    },
    {
      "cell_type": "code",
      "metadata": {
        "id": "BIsm7lr-dMOx"
      },
      "source": [
        "#Ermittelt für einen Warenkorb die Rücksendewahrscheinlichkeit \r\n",
        "def return_prob(dfi):\r\n",
        "  \r\n",
        "  verhältnis = cal_return_prob(dfi)\r\n",
        "  df_return = dfi\r\n",
        "  df_return[\"basket_size\"] = df_return.Cat_0+ df_return.Cat_1+df_return.Cat_2+df_return.Cat_3+df_return.Cat_4+df_return.Cat_5\r\n",
        "  df_return[\"return_prob\"] = (df_return.Cat_0*verhältnis[0]+df_return.Cat_1*verhältnis[1]+df_return.Cat_2*verhältnis[2]+df_return.Cat_3*verhältnis[3]+df_return.Cat_4*verhältnis[4]+df_return.Cat_5*verhältnis[5])/(\r\n",
        "  df_return.basket_size)\r\n",
        "  return df_return"
      ],
      "execution_count": 11,
      "outputs": []
    },
    {
      "cell_type": "code",
      "metadata": {
        "id": "t2aVMlDIDKCW"
      },
      "source": [
        "#Ermittelt den häufigsten Wert eines Warenkorbs \r\n",
        "from collections import Counter\r\n",
        "def top_category(df):\r\n",
        "  df[\"top_cat\"] = df.basket_new.apply(lambda x: Counter(x).most_common(1)[0][0])\r\n",
        "  return df"
      ],
      "execution_count": 12,
      "outputs": []
    },
    {
      "cell_type": "code",
      "metadata": {
        "id": "SoeD1hr6fezE"
      },
      "source": [
        "# Funktion zur Datenvorbereitung hier wird wirklich nur ein OneHot encoding durchgeführt. \r\n",
        "\r\n",
        "\r\n",
        "def prepare_data(dfi): \r\n",
        "    #dfi.drop(columns='transactionId',inplace=True)\r\n",
        "    map_customer(dfi)\r\n",
        "    transform0 = calculate_basket_size(dfi)\r\n",
        "    transform1 = transform_basket_tolist(transform0)\r\n",
        "    transform2 = count_occurences(transform1)\r\n",
        "     \r\n",
        "#print(prepare_data(df_test))\r\n",
        "\r\n"
      ],
      "execution_count": 13,
      "outputs": []
    },
    {
      "cell_type": "code",
      "metadata": {
        "id": "tVZYePDq-mDD"
      },
      "source": [
        "from sklearn.preprocessing import StandardScaler\r\n",
        " \r\n",
        "#Funktion, um Scaler mit den Parametern zu erstellen\r\n",
        "def get_scaler(dfi):\r\n",
        "  scaler = StandardScaler()\r\n",
        "  df_for_scaling = dfi.drop(columns=['returnLabel'])\r\n",
        "  scaler = scaler.fit(df_for_scaling)\r\n",
        "  return scaler\r\n",
        " \r\n",
        "#Funktion, um Daten zu skalieren\r\n",
        "def scale_data(scaler,dfi):\r\n",
        "  df_for_scaling = dfi.drop(columns=['returnLabel'])\r\n",
        "  scaled_data = scaler.transform(df_for_scaling)\r\n",
        "  return scaled_data"
      ],
      "execution_count": 14,
      "outputs": []
    },
    {
      "cell_type": "code",
      "metadata": {
        "id": "NtMcbMO7ATgG"
      },
      "source": [
        "# Funktion zur Datenvorbereitung hier wird solch eine Transformation durchgeführt, die für die jeweiligen Gruppen/Warenkörbe ermittelt, mit welchen Wahrscheinlichkeiten etwas zurück kommt.  \r\n",
        "\r\n",
        "\r\n",
        "\r\n",
        "def prepare_train(dfi): \r\n",
        "    #dfi.drop(columns='transactionId',inplace=True)\r\n",
        "    y_train = dfi.returnLabel\r\n",
        "    dfi = fill_na(dfi)\r\n",
        "    map_customer(dfi)\r\n",
        "    dfi = calculate_basket_size(dfi)\r\n",
        "    dfi = transform_basket_tolist(dfi)\r\n",
        "    dfi =  top_category(dfi)\r\n",
        "    # hier ist der Unterschied zur anderen prep. Funktion \r\n",
        "    dfi = count_categories(dfi) # Wichtig ist, dass diese Funktion vor der nächsten steht \r\n",
        "    #transform3 = cal_return_prob(transform2)\r\n",
        "    dfi = return_prob(dfi) \r\n",
        "    scaler = get_scaler(dfi)\r\n",
        "    x_train = scale_data(scaler,dfi)\r\n",
        "    \r\n",
        "    return x_train,y_train, scaler  \r\n",
        "\r\n",
        "def prepare_test(dfi,scaler): \r\n",
        "    dfi.dropna(axis=0, inplace=True)\r\n",
        "    df_test_Y = dfi.returnLabel\r\n",
        "    dfi = dfi.drop(columns=['transactionId'])\r\n",
        "    map_customer(dfi)\r\n",
        "    dfi = calculate_basket_size(dfi)\r\n",
        "    dfi = transform_basket_tolist(dfi)\r\n",
        "    dfi = top_category(dfi)\r\n",
        "    dfi = count_categories(dfi)\r\n",
        "    dfi = return_prob(dfi)\r\n",
        "    df_test_X = scale_data(scaler,dfi)\r\n",
        "    return df_test_X,df_test_Y"
      ],
      "execution_count": 15,
      "outputs": []
    },
    {
      "cell_type": "code",
      "metadata": {
        "colab": {
          "base_uri": "https://localhost:8080/",
          "height": 419
        },
        "id": "_oGmhpd7A3LW",
        "outputId": "e7505aa9-9d24-443a-b0bf-a2401feae21d"
      },
      "source": [
        "#x,scaler = prepare_train(df_test1)\r\n",
        "#df = pd.DataFrame(x, columns = [\"customerType\",\t\"Cat_0\",\t\"Cat_1\",\t\"Cat_2\",\t\"Cat_3\",\t\"Cat_4\",\t\"Cat_5\",\t\"totalAmount\"\t,\"basket_size\",\t\"return_prob\"])\r\n",
        "\r\n",
        "df_test"
      ],
      "execution_count": 16,
      "outputs": [
        {
          "output_type": "execute_result",
          "data": {
            "text/html": [
              "<div>\n",
              "<style scoped>\n",
              "    .dataframe tbody tr th:only-of-type {\n",
              "        vertical-align: middle;\n",
              "    }\n",
              "\n",
              "    .dataframe tbody tr th {\n",
              "        vertical-align: top;\n",
              "    }\n",
              "\n",
              "    .dataframe thead th {\n",
              "        text-align: right;\n",
              "    }\n",
              "</style>\n",
              "<table border=\"1\" class=\"dataframe\">\n",
              "  <thead>\n",
              "    <tr style=\"text-align: right;\">\n",
              "      <th></th>\n",
              "      <th>transactionId</th>\n",
              "      <th>basket</th>\n",
              "      <th>customerType</th>\n",
              "      <th>totalAmount</th>\n",
              "      <th>returnLabel</th>\n",
              "    </tr>\n",
              "  </thead>\n",
              "  <tbody>\n",
              "    <tr>\n",
              "      <th>0</th>\n",
              "      <td>9605027322</td>\n",
              "      <td>[4, 0, 3, 4, 1, 4, 3, 4]</td>\n",
              "      <td>new</td>\n",
              "      <td>80.0</td>\n",
              "      <td>1</td>\n",
              "    </tr>\n",
              "    <tr>\n",
              "      <th>1</th>\n",
              "      <td>8315649406</td>\n",
              "      <td>[4]</td>\n",
              "      <td>existing</td>\n",
              "      <td>26.0</td>\n",
              "      <td>0</td>\n",
              "    </tr>\n",
              "    <tr>\n",
              "      <th>2</th>\n",
              "      <td>5151646801</td>\n",
              "      <td>[1, 3, 5]</td>\n",
              "      <td>existing</td>\n",
              "      <td>147.0</td>\n",
              "      <td>0</td>\n",
              "    </tr>\n",
              "    <tr>\n",
              "      <th>3</th>\n",
              "      <td>8101967972</td>\n",
              "      <td>[3]</td>\n",
              "      <td>existing</td>\n",
              "      <td>37.0</td>\n",
              "      <td>1</td>\n",
              "    </tr>\n",
              "    <tr>\n",
              "      <th>4</th>\n",
              "      <td>2887044104</td>\n",
              "      <td>[0, 0, 2, 5, 2]</td>\n",
              "      <td>existing</td>\n",
              "      <td>375.0</td>\n",
              "      <td>0</td>\n",
              "    </tr>\n",
              "    <tr>\n",
              "      <th>...</th>\n",
              "      <td>...</td>\n",
              "      <td>...</td>\n",
              "      <td>...</td>\n",
              "      <td>...</td>\n",
              "      <td>...</td>\n",
              "    </tr>\n",
              "    <tr>\n",
              "      <th>5995</th>\n",
              "      <td>8254392242</td>\n",
              "      <td>[3, 4, 4]</td>\n",
              "      <td>existing</td>\n",
              "      <td>192.0</td>\n",
              "      <td>1</td>\n",
              "    </tr>\n",
              "    <tr>\n",
              "      <th>5996</th>\n",
              "      <td>5691788621</td>\n",
              "      <td>[4, 4, 3, 4, 1, 4]</td>\n",
              "      <td>new</td>\n",
              "      <td>360.0</td>\n",
              "      <td>1</td>\n",
              "    </tr>\n",
              "    <tr>\n",
              "      <th>5997</th>\n",
              "      <td>1449561534</td>\n",
              "      <td>[3, 4, 4, 4]</td>\n",
              "      <td>existing</td>\n",
              "      <td>252.0</td>\n",
              "      <td>0</td>\n",
              "    </tr>\n",
              "    <tr>\n",
              "      <th>5998</th>\n",
              "      <td>9039960511</td>\n",
              "      <td>[5, 1]</td>\n",
              "      <td>existing</td>\n",
              "      <td>50.0</td>\n",
              "      <td>0</td>\n",
              "    </tr>\n",
              "    <tr>\n",
              "      <th>5999</th>\n",
              "      <td>9995451059</td>\n",
              "      <td>[1, 4, 5, 0, 3, 0, 3, 0]</td>\n",
              "      <td>existing</td>\n",
              "      <td>512.0</td>\n",
              "      <td>0</td>\n",
              "    </tr>\n",
              "  </tbody>\n",
              "</table>\n",
              "<p>6000 rows × 5 columns</p>\n",
              "</div>"
            ],
            "text/plain": [
              "      transactionId                    basket  ... totalAmount  returnLabel\n",
              "0        9605027322  [4, 0, 3, 4, 1, 4, 3, 4]  ...        80.0            1\n",
              "1        8315649406                       [4]  ...        26.0            0\n",
              "2        5151646801                 [1, 3, 5]  ...       147.0            0\n",
              "3        8101967972                       [3]  ...        37.0            1\n",
              "4        2887044104           [0, 0, 2, 5, 2]  ...       375.0            0\n",
              "...             ...                       ...  ...         ...          ...\n",
              "5995     8254392242                 [3, 4, 4]  ...       192.0            1\n",
              "5996     5691788621        [4, 4, 3, 4, 1, 4]  ...       360.0            1\n",
              "5997     1449561534              [3, 4, 4, 4]  ...       252.0            0\n",
              "5998     9039960511                    [5, 1]  ...        50.0            0\n",
              "5999     9995451059  [1, 4, 5, 0, 3, 0, 3, 0]  ...       512.0            0\n",
              "\n",
              "[6000 rows x 5 columns]"
            ]
          },
          "metadata": {
            "tags": []
          },
          "execution_count": 16
        }
      ]
    },
    {
      "cell_type": "code",
      "metadata": {
        "colab": {
          "base_uri": "https://localhost:8080/"
        },
        "id": "IsCWTXW5cPOq",
        "outputId": "1948ba68-01c6-49f6-be92-f1cf8f76800f"
      },
      "source": [
        "X_train,y_train,scaler = prepare_train(df_train)\r\n",
        "X_test,y_test = prepare_test(df_test,scaler)\r\n",
        "\r\n"
      ],
      "execution_count": 17,
      "outputs": [
        {
          "output_type": "stream",
          "text": [
            "       transactionId  ... basket_size\n",
            "0         7934161612  ...           1\n",
            "1         5308629088  ...           4\n",
            "2         1951363325  ...           4\n",
            "3         6713597713  ...           1\n",
            "4         8352683669  ...           4\n",
            "...              ...  ...         ...\n",
            "24995     8178087221  ...           9\n",
            "24996     8955146476  ...          12\n",
            "24997     7770630838  ...           6\n",
            "24998     3758775159  ...           2\n",
            "24999     7697226342  ...           5\n",
            "\n",
            "[25000 rows x 6 columns]\n",
            "                        basket  customerType  ...  returnLabel  basket_size\n",
            "0     [4, 0, 3, 4, 1, 4, 3, 4]             0  ...            1            8\n",
            "1                          [4]             1  ...            0            1\n",
            "2                    [1, 3, 5]             1  ...            0            3\n",
            "3                          [3]             1  ...            1            1\n",
            "4              [0, 0, 2, 5, 2]             1  ...            0            5\n",
            "...                        ...           ...  ...          ...          ...\n",
            "5995                 [3, 4, 4]             1  ...            1            3\n",
            "5996        [4, 4, 3, 4, 1, 4]             0  ...            1            6\n",
            "5997              [3, 4, 4, 4]             1  ...            0            4\n",
            "5998                    [5, 1]             1  ...            0            2\n",
            "5999  [1, 4, 5, 0, 3, 0, 3, 0]             1  ...            0            8\n",
            "\n",
            "[5744 rows x 5 columns]\n"
          ],
          "name": "stdout"
        }
      ]
    },
    {
      "cell_type": "markdown",
      "metadata": {
        "id": "jiK1t8lHJXW9"
      },
      "source": [
        "Diese Funktion macht eine Darstellung, wie oft welche Buchkategorien in den Rücksenden enthalten waren.\r\n",
        "\r\n",
        "Das Teil muss isoliert betrachtet werden "
      ]
    },
    {
      "cell_type": "code",
      "metadata": {
        "id": "9h8pVu4p5sws",
        "colab": {
          "base_uri": "https://localhost:8080/",
          "height": 932
        },
        "outputId": "63fe8e4b-6a91-4c48-cd7e-69de5dc4c88c"
      },
      "source": [
        "df_train_new = count_occurences(df=transform_basket_tolist(df_train))\r\n",
        "\r\n",
        "import matplotlib.pyplot as plt\r\n",
        "import numpy as np\r\n",
        "\r\n",
        "\r\n",
        "\r\n",
        "# Hole alle Rücksendungen aus dem Daframe\r\n",
        "df_train_return = df_train_new[df_train['returnLabel']==1] \r\n",
        "\r\n",
        "cat_array = df_train_return.drop(columns=[\"totalAmount\",\"returnLabel\",\"transactionId\",\"basket\",\"basket_new\",\"top_cat\",\"customerType\",\"basket_size\"]) # Wirf alles bis auf die Kategorien raus \r\n",
        "\r\n",
        "# Wie viele Objekte sind im Dataframe vorhanden? \r\n",
        "df_calc = cat_array.sum(axis = 0, skipna = True) \r\n",
        "# Transformiere alle relevaten Spalten in ein NumpyArray damit wir es im Barchart darstellen können \r\n",
        "#cat_array = df_calc.drop(columns=[\"totalAmount\",\"returnLabel\"]).to_numpy()\r\n",
        "\r\n",
        "print(df_calc)\r\n",
        "\r\n",
        "\r\n",
        "fig = plt.figure()\r\n",
        "ax = fig.add_axes([0,0,1,1])\r\n",
        "cats = ['Cat_0', 'Cat_1', 'Cat_2', 'Cat_3', 'Cat_4', 'Cat_5'] #Label für die X Achse \r\n",
        "\r\n",
        "\r\n",
        "ax.bar(cats,list(df_calc))\r\n",
        "plt.show()"
      ],
      "execution_count": 18,
      "outputs": [
        {
          "output_type": "stream",
          "text": [
            "       transactionId  ... top_cat\n",
            "0         7934161612  ...       3\n",
            "1         5308629088  ...       3\n",
            "2         1951363325  ...       3\n",
            "3         6713597713  ...       2\n",
            "4         8352683669  ...       4\n",
            "...              ...  ...     ...\n",
            "24995     8178087221  ...       4\n",
            "24996     8955146476  ...       5\n",
            "24997     7770630838  ...       4\n",
            "24998     3758775159  ...       5\n",
            "24999     7697226342  ...       4\n",
            "\n",
            "[25000 rows x 8 columns]\n",
            "       transactionId                                basket  ...  Cat_4  Cat_5\n",
            "0         7934161612                                   [3]  ...      0      0\n",
            "1         5308629088                          [5, 3, 0, 3]  ...      0      1\n",
            "2         1951363325                          [3, 3, 1, 4]  ...      1      0\n",
            "3         6713597713                                   [2]  ...      0      0\n",
            "4         8352683669                          [4, 4, 4, 4]  ...      4      0\n",
            "...              ...                                   ...  ...    ...    ...\n",
            "24995     8178087221           [4, 3, 2, 4, 2, 2, 4, 1, 0]  ...      3      0\n",
            "24996     8955146476  [5, 5, 5, 0, 0, 2, 4, 1, 2, 4, 5, 2]  ...      2      4\n",
            "24997     7770630838                    [1, 3, 4, 4, 2, 0]  ...      2      0\n",
            "24998     3758775159                                [5, 3]  ...      0      1\n",
            "24999     7697226342                       [4, 4, 0, 3, 4]  ...      3      0\n",
            "\n",
            "[25000 rows x 14 columns]\n",
            "Cat_0     3065\n",
            "Cat_1     3185\n",
            "Cat_2     3056\n",
            "Cat_3     9498\n",
            "Cat_4    15835\n",
            "Cat_5        0\n",
            "dtype: int64\n"
          ],
          "name": "stdout"
        },
        {
          "output_type": "display_data",
          "data": {
            "image/png": "[encoded data removed]",
            "text/plain": [
              "<Figure size 432x288 with 1 Axes>"
            ]
          },
          "metadata": {
            "tags": [],
            "needs_background": "light"
          }
        }
      ]
    },
    {
      "cell_type": "code",
      "metadata": {
        "colab": {
          "base_uri": "https://localhost:8080/",
          "height": 1000
        },
        "id": "0vv-w_R7L-ms",
        "outputId": "d6ae2aae-2b16-4380-ffa8-0448a6eb296a"
      },
      "source": [
        "import matplotlib.pyplot as plt\r\n",
        "import numpy as np\r\n",
        "\r\n",
        "\r\n",
        "df_train_new = count_occurences(df=transform_basket_tolist(df_train))\r\n",
        "\r\n",
        "N = 6\r\n",
        "books_returned = df_train_new[df_train['returnLabel']==1] \r\n",
        "books_notreturned = df_train_new[df_train['returnLabel']==0]\r\n",
        "\r\n",
        "\r\n",
        "ind = np.arange(N)    # the x locations for the groups\r\n",
        "width = 0.6       # the width of the bars: can also be len(x) sequence\r\n",
        "\r\n",
        "array_books_returned = books_returned.drop(columns=[\"totalAmount\",\"returnLabel\",\"transactionId\",\"basket\",\"basket_new\"]) \r\n",
        "df_calc_books_returned = array_books_returned.sum(axis = 0, skipna = True)\r\n",
        "print(array_books_returned)\r\n",
        "\r\n",
        "array_books_noreturned = books_notreturned.drop(columns=[\"totalAmount\",\"returnLabel\",\"transactionId\",\"basket\",\"basket_new\",\"customerType\"])\r\n",
        "df_calc_books_notreturned = array_books_noreturned.sum(axis = 0, skipna = True) # CustomerType wird automatisch geworfen \r\n",
        "\r\n",
        "plt.figure(figsize=(20,9))\r\n",
        "\r\n",
        "p1 = plt.bar(ind, list(df_calc_books_returned), width)\r\n",
        "p2 = plt.bar(ind, list(df_calc_books_notreturned), width,\r\n",
        "             bottom=list(df_calc_books_returned))\r\n",
        "\r\n",
        "\r\n",
        "plt.ylabel('Sum')\r\n",
        "plt.title('Book returned vs. not Returned')\r\n",
        "plt.xticks(ind, ('Cat_0','Cat_1', 'Cat_2', 'Cat_3', 'Cat_4', 'Cat_5'))\r\n",
        "plt.yticks(np.arange(0, 40000, 5000))\r\n",
        "plt.legend((p1[0], p2[0]), ('Books returned', 'Books no returned'))\r\n",
        "\r\n",
        "plt.show()\r\n"
      ],
      "execution_count": 19,
      "outputs": [
        {
          "output_type": "stream",
          "text": [
            "       transactionId  ... top_cat\n",
            "0         7934161612  ...       3\n",
            "1         5308629088  ...       3\n",
            "2         1951363325  ...       3\n",
            "3         6713597713  ...       2\n",
            "4         8352683669  ...       4\n",
            "...              ...  ...     ...\n",
            "24995     8178087221  ...       4\n",
            "24996     8955146476  ...       5\n",
            "24997     7770630838  ...       4\n",
            "24998     3758775159  ...       5\n",
            "24999     7697226342  ...       4\n",
            "\n",
            "[25000 rows x 8 columns]\n",
            "       transactionId                                basket  ...  Cat_4  Cat_5\n",
            "0         7934161612                                   [3]  ...      0      0\n",
            "1         5308629088                          [5, 3, 0, 3]  ...      0      1\n",
            "2         1951363325                          [3, 3, 1, 4]  ...      1      0\n",
            "3         6713597713                                   [2]  ...      0      0\n",
            "4         8352683669                          [4, 4, 4, 4]  ...      4      0\n",
            "...              ...                                   ...  ...    ...    ...\n",
            "24995     8178087221           [4, 3, 2, 4, 2, 2, 4, 1, 0]  ...      3      0\n",
            "24996     8955146476  [5, 5, 5, 0, 0, 2, 4, 1, 2, 4, 5, 2]  ...      2      4\n",
            "24997     7770630838                    [1, 3, 4, 4, 2, 0]  ...      2      0\n",
            "24998     3758775159                                [5, 3]  ...      0      1\n",
            "24999     7697226342                       [4, 4, 0, 3, 4]  ...      3      0\n",
            "\n",
            "[25000 rows x 14 columns]\n",
            "       customerType  basket_size  top_cat  Cat_0  ...  Cat_2  Cat_3  Cat_4  Cat_5\n",
            "2                 0            4        3      0  ...      0      2      1      0\n",
            "4                 0            4        4      0  ...      0      0      4      0\n",
            "5                 0            4        4      0  ...      0      1      3      0\n",
            "6                 1            2        3      0  ...      0      1      1      0\n",
            "7                 0            5        4      0  ...      0      0      4      0\n",
            "...             ...          ...      ...    ...  ...    ...    ...    ...    ...\n",
            "24991             0            4        4      0  ...      0      1      3      0\n",
            "24992             1            6        2      0  ...      3      1      1      0\n",
            "24994             0            7        3      1  ...      0      3      2      0\n",
            "24995             0            9        4      1  ...      3      1      3      0\n",
            "24999             0            5        4      1  ...      0      1      3      0\n",
            "\n",
            "[7457 rows x 9 columns]\n"
          ],
          "name": "stdout"
        },
        {
          "output_type": "error",
          "ename": "ValueError",
          "evalue": "ignored",
          "traceback": [
            "\u001b[0;31m---------------------------------------------------------------------------\u001b[0m",
            "\u001b[0;31mValueError\u001b[0m                                Traceback (most recent call last)",
            "\u001b[0;32m<ipython-input-19-562fc677d15d>\u001b[0m in \u001b[0;36m<module>\u001b[0;34m()\u001b[0m\n\u001b[1;32m     22\u001b[0m \u001b[0mplt\u001b[0m\u001b[0;34m.\u001b[0m\u001b[0mfigure\u001b[0m\u001b[0;34m(\u001b[0m\u001b[0mfigsize\u001b[0m\u001b[0;34m=\u001b[0m\u001b[0;34m(\u001b[0m\u001b[0;36m20\u001b[0m\u001b[0;34m,\u001b[0m\u001b[0;36m9\u001b[0m\u001b[0;34m)\u001b[0m\u001b[0;34m)\u001b[0m\u001b[0;34m\u001b[0m\u001b[0;34m\u001b[0m\u001b[0m\n\u001b[1;32m     23\u001b[0m \u001b[0;34m\u001b[0m\u001b[0m\n\u001b[0;32m---> 24\u001b[0;31m \u001b[0mp1\u001b[0m \u001b[0;34m=\u001b[0m \u001b[0mplt\u001b[0m\u001b[0;34m.\u001b[0m\u001b[0mbar\u001b[0m\u001b[0;34m(\u001b[0m\u001b[0mind\u001b[0m\u001b[0;34m,\u001b[0m \u001b[0mlist\u001b[0m\u001b[0;34m(\u001b[0m\u001b[0mdf_calc_books_returned\u001b[0m\u001b[0;34m)\u001b[0m\u001b[0;34m,\u001b[0m \u001b[0mwidth\u001b[0m\u001b[0;34m)\u001b[0m\u001b[0;34m\u001b[0m\u001b[0;34m\u001b[0m\u001b[0m\n\u001b[0m\u001b[1;32m     25\u001b[0m p2 = plt.bar(ind, list(df_calc_books_notreturned), width,\n\u001b[1;32m     26\u001b[0m              bottom=list(df_calc_books_returned))\n",
            "\u001b[0;32m/usr/local/lib/python3.6/dist-packages/matplotlib/pyplot.py\u001b[0m in \u001b[0;36mbar\u001b[0;34m(x, height, width, bottom, align, data, **kwargs)\u001b[0m\n\u001b[1;32m   2407\u001b[0m     return gca().bar(\n\u001b[1;32m   2408\u001b[0m         \u001b[0mx\u001b[0m\u001b[0;34m,\u001b[0m \u001b[0mheight\u001b[0m\u001b[0;34m,\u001b[0m \u001b[0mwidth\u001b[0m\u001b[0;34m=\u001b[0m\u001b[0mwidth\u001b[0m\u001b[0;34m,\u001b[0m \u001b[0mbottom\u001b[0m\u001b[0;34m=\u001b[0m\u001b[0mbottom\u001b[0m\u001b[0;34m,\u001b[0m \u001b[0malign\u001b[0m\u001b[0;34m=\u001b[0m\u001b[0malign\u001b[0m\u001b[0;34m,\u001b[0m\u001b[0;34m\u001b[0m\u001b[0;34m\u001b[0m\u001b[0m\n\u001b[0;32m-> 2409\u001b[0;31m         **({\"data\": data} if data is not None else {}), **kwargs)\n\u001b[0m\u001b[1;32m   2410\u001b[0m \u001b[0;34m\u001b[0m\u001b[0m\n\u001b[1;32m   2411\u001b[0m \u001b[0;34m\u001b[0m\u001b[0m\n",
            "\u001b[0;32m/usr/local/lib/python3.6/dist-packages/matplotlib/__init__.py\u001b[0m in \u001b[0;36minner\u001b[0;34m(ax, data, *args, **kwargs)\u001b[0m\n\u001b[1;32m   1563\u001b[0m     \u001b[0;32mdef\u001b[0m \u001b[0minner\u001b[0m\u001b[0;34m(\u001b[0m\u001b[0max\u001b[0m\u001b[0;34m,\u001b[0m \u001b[0;34m*\u001b[0m\u001b[0margs\u001b[0m\u001b[0;34m,\u001b[0m \u001b[0mdata\u001b[0m\u001b[0;34m=\u001b[0m\u001b[0;32mNone\u001b[0m\u001b[0;34m,\u001b[0m \u001b[0;34m**\u001b[0m\u001b[0mkwargs\u001b[0m\u001b[0;34m)\u001b[0m\u001b[0;34m:\u001b[0m\u001b[0;34m\u001b[0m\u001b[0;34m\u001b[0m\u001b[0m\n\u001b[1;32m   1564\u001b[0m         \u001b[0;32mif\u001b[0m \u001b[0mdata\u001b[0m \u001b[0;32mis\u001b[0m \u001b[0;32mNone\u001b[0m\u001b[0;34m:\u001b[0m\u001b[0;34m\u001b[0m\u001b[0;34m\u001b[0m\u001b[0m\n\u001b[0;32m-> 1565\u001b[0;31m             \u001b[0;32mreturn\u001b[0m \u001b[0mfunc\u001b[0m\u001b[0;34m(\u001b[0m\u001b[0max\u001b[0m\u001b[0;34m,\u001b[0m \u001b[0;34m*\u001b[0m\u001b[0mmap\u001b[0m\u001b[0;34m(\u001b[0m\u001b[0msanitize_sequence\u001b[0m\u001b[0;34m,\u001b[0m \u001b[0margs\u001b[0m\u001b[0;34m)\u001b[0m\u001b[0;34m,\u001b[0m \u001b[0;34m**\u001b[0m\u001b[0mkwargs\u001b[0m\u001b[0;34m)\u001b[0m\u001b[0;34m\u001b[0m\u001b[0;34m\u001b[0m\u001b[0m\n\u001b[0m\u001b[1;32m   1566\u001b[0m \u001b[0;34m\u001b[0m\u001b[0m\n\u001b[1;32m   1567\u001b[0m         \u001b[0mbound\u001b[0m \u001b[0;34m=\u001b[0m \u001b[0mnew_sig\u001b[0m\u001b[0;34m.\u001b[0m\u001b[0mbind\u001b[0m\u001b[0;34m(\u001b[0m\u001b[0max\u001b[0m\u001b[0;34m,\u001b[0m \u001b[0;34m*\u001b[0m\u001b[0margs\u001b[0m\u001b[0;34m,\u001b[0m \u001b[0;34m**\u001b[0m\u001b[0mkwargs\u001b[0m\u001b[0;34m)\u001b[0m\u001b[0;34m\u001b[0m\u001b[0;34m\u001b[0m\u001b[0m\n",
            "\u001b[0;32m/usr/local/lib/python3.6/dist-packages/matplotlib/axes/_axes.py\u001b[0m in \u001b[0;36mbar\u001b[0;34m(self, x, height, width, bottom, align, **kwargs)\u001b[0m\n\u001b[1;32m   2340\u001b[0m         x, height, width, y, linewidth = np.broadcast_arrays(\n\u001b[1;32m   2341\u001b[0m             \u001b[0;31m# Make args iterable too.\u001b[0m\u001b[0;34m\u001b[0m\u001b[0;34m\u001b[0m\u001b[0;34m\u001b[0m\u001b[0m\n\u001b[0;32m-> 2342\u001b[0;31m             np.atleast_1d(x), height, width, y, linewidth)\n\u001b[0m\u001b[1;32m   2343\u001b[0m \u001b[0;34m\u001b[0m\u001b[0m\n\u001b[1;32m   2344\u001b[0m         \u001b[0;31m# Now that units have been converted, set the tick locations.\u001b[0m\u001b[0;34m\u001b[0m\u001b[0;34m\u001b[0m\u001b[0;34m\u001b[0m\u001b[0m\n",
            "\u001b[0;32m<__array_function__ internals>\u001b[0m in \u001b[0;36mbroadcast_arrays\u001b[0;34m(*args, **kwargs)\u001b[0m\n",
            "\u001b[0;32m/usr/local/lib/python3.6/dist-packages/numpy/lib/stride_tricks.py\u001b[0m in \u001b[0;36mbroadcast_arrays\u001b[0;34m(subok, *args)\u001b[0m\n\u001b[1;32m    256\u001b[0m     \u001b[0margs\u001b[0m \u001b[0;34m=\u001b[0m \u001b[0;34m[\u001b[0m\u001b[0mnp\u001b[0m\u001b[0;34m.\u001b[0m\u001b[0marray\u001b[0m\u001b[0;34m(\u001b[0m\u001b[0m_m\u001b[0m\u001b[0;34m,\u001b[0m \u001b[0mcopy\u001b[0m\u001b[0;34m=\u001b[0m\u001b[0;32mFalse\u001b[0m\u001b[0;34m,\u001b[0m \u001b[0msubok\u001b[0m\u001b[0;34m=\u001b[0m\u001b[0msubok\u001b[0m\u001b[0;34m)\u001b[0m \u001b[0;32mfor\u001b[0m \u001b[0m_m\u001b[0m \u001b[0;32min\u001b[0m \u001b[0margs\u001b[0m\u001b[0;34m]\u001b[0m\u001b[0;34m\u001b[0m\u001b[0;34m\u001b[0m\u001b[0m\n\u001b[1;32m    257\u001b[0m \u001b[0;34m\u001b[0m\u001b[0m\n\u001b[0;32m--> 258\u001b[0;31m     \u001b[0mshape\u001b[0m \u001b[0;34m=\u001b[0m \u001b[0m_broadcast_shape\u001b[0m\u001b[0;34m(\u001b[0m\u001b[0;34m*\u001b[0m\u001b[0margs\u001b[0m\u001b[0;34m)\u001b[0m\u001b[0;34m\u001b[0m\u001b[0;34m\u001b[0m\u001b[0m\n\u001b[0m\u001b[1;32m    259\u001b[0m \u001b[0;34m\u001b[0m\u001b[0m\n\u001b[1;32m    260\u001b[0m     \u001b[0;32mif\u001b[0m \u001b[0mall\u001b[0m\u001b[0;34m(\u001b[0m\u001b[0marray\u001b[0m\u001b[0;34m.\u001b[0m\u001b[0mshape\u001b[0m \u001b[0;34m==\u001b[0m \u001b[0mshape\u001b[0m \u001b[0;32mfor\u001b[0m \u001b[0marray\u001b[0m \u001b[0;32min\u001b[0m \u001b[0margs\u001b[0m\u001b[0;34m)\u001b[0m\u001b[0;34m:\u001b[0m\u001b[0;34m\u001b[0m\u001b[0;34m\u001b[0m\u001b[0m\n",
            "\u001b[0;32m/usr/local/lib/python3.6/dist-packages/numpy/lib/stride_tricks.py\u001b[0m in \u001b[0;36m_broadcast_shape\u001b[0;34m(*args)\u001b[0m\n\u001b[1;32m    187\u001b[0m     \u001b[0;31m# use the old-iterator because np.nditer does not handle size 0 arrays\u001b[0m\u001b[0;34m\u001b[0m\u001b[0;34m\u001b[0m\u001b[0;34m\u001b[0m\u001b[0m\n\u001b[1;32m    188\u001b[0m     \u001b[0;31m# consistently\u001b[0m\u001b[0;34m\u001b[0m\u001b[0;34m\u001b[0m\u001b[0;34m\u001b[0m\u001b[0m\n\u001b[0;32m--> 189\u001b[0;31m     \u001b[0mb\u001b[0m \u001b[0;34m=\u001b[0m \u001b[0mnp\u001b[0m\u001b[0;34m.\u001b[0m\u001b[0mbroadcast\u001b[0m\u001b[0;34m(\u001b[0m\u001b[0;34m*\u001b[0m\u001b[0margs\u001b[0m\u001b[0;34m[\u001b[0m\u001b[0;34m:\u001b[0m\u001b[0;36m32\u001b[0m\u001b[0;34m]\u001b[0m\u001b[0;34m)\u001b[0m\u001b[0;34m\u001b[0m\u001b[0;34m\u001b[0m\u001b[0m\n\u001b[0m\u001b[1;32m    190\u001b[0m     \u001b[0;31m# unfortunately, it cannot handle 32 or more arguments directly\u001b[0m\u001b[0;34m\u001b[0m\u001b[0;34m\u001b[0m\u001b[0;34m\u001b[0m\u001b[0m\n\u001b[1;32m    191\u001b[0m     \u001b[0;32mfor\u001b[0m \u001b[0mpos\u001b[0m \u001b[0;32min\u001b[0m \u001b[0mrange\u001b[0m\u001b[0;34m(\u001b[0m\u001b[0;36m32\u001b[0m\u001b[0;34m,\u001b[0m \u001b[0mlen\u001b[0m\u001b[0;34m(\u001b[0m\u001b[0margs\u001b[0m\u001b[0;34m)\u001b[0m\u001b[0;34m,\u001b[0m \u001b[0;36m31\u001b[0m\u001b[0;34m)\u001b[0m\u001b[0;34m:\u001b[0m\u001b[0;34m\u001b[0m\u001b[0;34m\u001b[0m\u001b[0m\n",
            "\u001b[0;31mValueError\u001b[0m: shape mismatch: objects cannot be broadcast to a single shape"
          ]
        },
        {
          "output_type": "display_data",
          "data": {
            "image/png": "[encoded data removed]",
            "text/plain": [
              "<Figure size 1440x648 with 1 Axes>"
            ]
          },
          "metadata": {
            "tags": [],
            "needs_background": "light"
          }
        }
      ]
    },
    {
      "cell_type": "code",
      "metadata": {
        "id": "AUKsr6BzLEqW"
      },
      "source": [
        "import matplotlib.pyplot as plt\r\n",
        "import numpy as np\r\n",
        "\r\n",
        "\r\n",
        "df_train_new = count_occurences(df=transform_basket_tolist(df_train))\r\n",
        "\r\n",
        "N = 2\r\n",
        "returned_by_existing_customer = df_train_new[(df_train_new['returnLabel']==1) & (df_train_new['customerType'] == 'existing')][\"customerType\"].count()\r\n",
        "not_returned_by_existing_customer = df_train_new[(df_train_new['returnLabel']==0) & (df_train_new['customerType'] == 'existing')][\"customerType\"].count()\r\n",
        "\r\n",
        "returned_by_new_customer = df_train_new[(df_train_new['returnLabel']==1) & (df_train_new['customerType'] == 'new')][\"customerType\"].count()\r\n",
        "not_returned_by_new_customer = df_train_new[(df_train_new['returnLabel']==0) & (df_train_new['customerType'] == 'new')][\"customerType\"].count()\r\n",
        "\r\n",
        "ind = np.arange(N)    # the x locations for the groups\r\n",
        "width = 0.6       # the width of the bars: can also be len(x) sequence\r\n",
        "\r\n",
        "returned_list = list((returned_by_existing_customer,returned_by_new_customer))\r\n",
        "not_returned_list = list((not_returned_by_existing_customer,not_returned_by_new_customer))\r\n",
        "\r\n",
        "array_books_noreturned = books_notreturned.drop(columns=[\"totalAmount\",\"returnLabel\"])\r\n",
        "df_calc_books_notreturned = array_books_noreturned.sum(axis = 0, skipna = True)\r\n",
        "\r\n",
        "plt.figure(figsize=(20,9))\r\n",
        "\r\n",
        "p1 = plt.bar(ind,returned_list , width)\r\n",
        "p2 = plt.bar(ind, not_returned_list, width,\r\n",
        "             bottom=returned_list)\r\n",
        "\r\n",
        "\r\n",
        "plt.ylabel('Sum')\r\n",
        "plt.title('Book returned vs. not Returned')\r\n",
        "plt.xticks(ind, ('existing customer', 'new customer'))\r\n",
        "plt.yticks(np.arange(0, 40000, 5000))\r\n",
        "plt.legend((p1[0], p2[0]), ('Books returned', 'Books no returned'))\r\n",
        "\r\n",
        "plt.show()"
      ],
      "execution_count": null,
      "outputs": []
    },
    {
      "cell_type": "code",
      "metadata": {
        "colab": {
          "base_uri": "https://localhost:8080/",
          "height": 1000
        },
        "id": "6CNoy5ikXIv2",
        "outputId": "ddd5c34a-337d-4bc0-83c8-9c1c8c66b0ad"
      },
      "source": [
        "df_train_new = count_occurences(df=transform_basket_tolist(df_train))\r\n",
        "\r\n",
        "N = 6\r\n",
        "books_returned = df_train_new[(df_train_new['returnLabel']==1) & (df_train_new['customerType'] == 'existing')] \r\n",
        "books_notreturned = df_train_new[(df_train_new['returnLabel']==0) & (df_train_new['customerType'] == 'existing')] \r\n",
        "\r\n",
        "\r\n",
        "books_returned_new_customer = df_train_new[(df_train_new['returnLabel']==1) & (df_train_new['customerType'] == 'new')] \r\n",
        "books_notreturned_new_customer = df_train_new[(df_train_new['returnLabel']==0) & (df_train_new['customerType'] == 'new')] \r\n",
        "\r\n",
        "\r\n",
        "\r\n",
        "ind = np.arange(N)    # the x locations for the groups\r\n",
        "width = 0.6       # the width of the bars: can also be len(x) sequence\r\n",
        "\r\n",
        "array_books_returned = books_returned.drop(columns=[\"totalAmount\",\"returnLabel\",\"transactionId\",\"basket\",\"basket_new\",\"customerType\"]) \r\n",
        "df_calc_books_returned = array_books_returned.sum(axis = 0, skipna = True)\r\n",
        "\r\n",
        "array_books_noreturned = books_notreturned.drop(columns=[\"totalAmount\",\"returnLabel\",\"transactionId\",\"basket\",\"basket_new\",\"customerType\"])\r\n",
        "df_calc_books_notreturned = array_books_noreturned.sum(axis = 0, skipna = True)\r\n",
        "\r\n",
        "############# New Customer ###########\r\n",
        "\r\n",
        "array_books_returned_new = books_returned_new_customer.drop(columns=[\"totalAmount\",\"returnLabel\",\"transactionId\",\"basket\",\"basket_new\",\"customerType\"]) \r\n",
        "df_calc_books_returned_new = array_books_returned_new.sum(axis = 0, skipna = True)\r\n",
        "\r\n",
        "\r\n",
        "array_books_noreturned_new = books_notreturned_new_customer.drop(columns=[\"totalAmount\",\"returnLabel\",\"transactionId\",\"basket\",\"basket_new\",\"customerType\"])\r\n",
        "df_calc_books_notreturned_new = array_books_noreturned_new.sum(axis = 0, skipna = True)\r\n",
        "\r\n",
        "############ ###################\r\n",
        "\r\n",
        "\r\n",
        "\r\n",
        "\r\n",
        "plt.figure(figsize=(20,9))\r\n",
        "\r\n",
        "p1 = plt.bar(ind, list(df_calc_books_returned), width)\r\n",
        "p2 = plt.bar(ind, list(df_calc_books_notreturned), width,\r\n",
        "             bottom=list(df_calc_books_returned))\r\n",
        "\r\n",
        "\r\n",
        "\r\n",
        "\r\n",
        "plt.ylabel('Sum')\r\n",
        "plt.title('Book returned vs. not Returned')\r\n",
        "plt.xticks(ind, ('Cat_0','Cat_1', 'Cat_2', 'Cat_3', 'Cat_4', 'Cat_5'))\r\n",
        "plt.yticks(np.arange(0, 40000, 5000))\r\n",
        "plt.legend((p1[0], p2[0]), ('Books returned', 'Books no returned'))\r\n",
        "\r\n",
        "plt.show()\r\n",
        "\r\n",
        "plt.figure(figsize=(20,9))\r\n",
        "\r\n",
        "p3 = plt.bar(ind, list(df_calc_books_returned_new), width)\r\n",
        "p4 = plt.bar(ind, list(df_calc_books_notreturned_new), width,\r\n",
        "             bottom=list(df_calc_books_notreturned_new))\r\n",
        "\r\n",
        "\r\n",
        "plt.ylabel('Sum')\r\n",
        "plt.title('Book returned vs. not Returned')\r\n",
        "plt.xticks(ind, ('Cat_0','Cat_1', 'Cat_2', 'Cat_3', 'Cat_4', 'Cat_5'))\r\n",
        "plt.yticks(np.arange(0, 40000, 5000))\r\n",
        "plt.legend((p3[0], p4[0]), ('Books returned', 'Books no returned'))\r\n",
        "\r\n",
        "plt.show()"
      ],
      "execution_count": null,
      "outputs": [
        {
          "output_type": "stream",
          "text": [
            "       transactionId  ...                            basket_new\n",
            "0         7934161612  ...                                   [3]\n",
            "1         5308629088  ...                          [5, 3, 0, 3]\n",
            "2         1951363325  ...                          [3, 3, 1, 4]\n",
            "3         6713597713  ...                                   [2]\n",
            "4         8352683669  ...                          [4, 4, 4, 4]\n",
            "...              ...  ...                                   ...\n",
            "24995     8178087221  ...           [4, 3, 2, 4, 2, 2, 4, 1, 0]\n",
            "24996     8955146476  ...  [5, 5, 5, 0, 0, 2, 4, 1, 2, 4, 5, 2]\n",
            "24997     7770630838  ...                    [1, 3, 4, 4, 2, 0]\n",
            "24998     3758775159  ...                                [5, 3]\n",
            "24999     7697226342  ...                       [4, 4, 0, 3, 4]\n",
            "\n",
            "[25000 rows x 6 columns]\n",
            "       transactionId                                basket  ... Cat_4  Cat_5\n",
            "0         7934161612                                   [3]  ...     0      0\n",
            "1         5308629088                          [5, 3, 0, 3]  ...     0      1\n",
            "2         1951363325                          [3, 3, 1, 4]  ...     1      0\n",
            "3         6713597713                                   [2]  ...     0      0\n",
            "4         8352683669                          [4, 4, 4, 4]  ...     4      0\n",
            "...              ...                                   ...  ...   ...    ...\n",
            "24995     8178087221           [4, 3, 2, 4, 2, 2, 4, 1, 0]  ...     3      0\n",
            "24996     8955146476  [5, 5, 5, 0, 0, 2, 4, 1, 2, 4, 5, 2]  ...     2      4\n",
            "24997     7770630838                    [1, 3, 4, 4, 2, 0]  ...     2      0\n",
            "24998     3758775159                                [5, 3]  ...     0      1\n",
            "24999     7697226342                       [4, 4, 0, 3, 4]  ...     3      0\n",
            "\n",
            "[25000 rows x 12 columns]\n"
          ],
          "name": "stdout"
        },
        {
          "output_type": "display_data",
          "data": {
            "image/png": "[encoded data removed]",
            "text/plain": [
              "<Figure size 1440x648 with 1 Axes>"
            ]
          },
          "metadata": {
            "tags": [],
            "needs_background": "light"
          }
        },
        {
          "output_type": "display_data",
          "data": {
            "image/png": "[encoded data removed]",
            "text/plain": [
              "<Figure size 1440x648 with 1 Axes>"
            ]
          },
          "metadata": {
            "tags": [],
            "needs_background": "light"
          }
        }
      ]
    },
    {
      "cell_type": "markdown",
      "metadata": {
        "id": "VP9oSXSg5i1z"
      },
      "source": [
        "# Modeling"
      ]
    },
    {
      "cell_type": "markdown",
      "metadata": {
        "id": "X8h73mspkavp"
      },
      "source": [
        "Logistische Regression"
      ]
    },
    {
      "cell_type": "code",
      "metadata": {
        "colab": {
          "base_uri": "https://localhost:8080/"
        },
        "id": "sCzgn7tIHEOv",
        "outputId": "93e8be9e-4e58-42cb-93af-9e8295768bcf"
      },
      "source": [
        "from sklearn.linear_model import LogisticRegression\r\n",
        "from sklearn.model_selection import GridSearchCV\r\n",
        "\r\n",
        "parameter_candidates = [{'C': [0.1,1,4,5,6,10,30,100], 'penalty': ['l1','l2']}]\r\n",
        "clf_log = LogisticRegression(random_state=0)\r\n",
        "grid_clf_log = GridSearchCV(estimator=clf_log, param_grid=parameter_candidates, n_jobs=-1)\r\n",
        "grid_clf_log.fit(X_train, y_train)\r\n"
      ],
      "execution_count": 23,
      "outputs": [
        {
          "output_type": "execute_result",
          "data": {
            "text/plain": [
              "GridSearchCV(cv=None, error_score=nan,\n",
              "             estimator=LogisticRegression(C=1.0, class_weight=None, dual=False,\n",
              "                                          fit_intercept=True,\n",
              "                                          intercept_scaling=1, l1_ratio=None,\n",
              "                                          max_iter=100, multi_class='auto',\n",
              "                                          n_jobs=None, penalty='l2',\n",
              "                                          random_state=0, solver='lbfgs',\n",
              "                                          tol=0.0001, verbose=0,\n",
              "                                          warm_start=False),\n",
              "             iid='deprecated', n_jobs=-1,\n",
              "             param_grid=[{'C': [0.1, 1, 4, 5, 6, 10, 30, 100],\n",
              "                          'penalty': ['l1', 'l2']}],\n",
              "             pre_dispatch='2*n_jobs', refit=True, return_train_score=False,\n",
              "             scoring=None, verbose=0)"
            ]
          },
          "metadata": {
            "tags": []
          },
          "execution_count": 23
        }
      ]
    },
    {
      "cell_type": "code",
      "metadata": {
        "id": "tTX9-VXtfjLf",
        "colab": {
          "base_uri": "https://localhost:8080/"
        },
        "outputId": "0497c631-ccbc-4ed7-b12f-1a8ea82ce7b2"
      },
      "source": [
        "log_reg_best_est_C= grid_clf_log.best_estimator_.C\r\n",
        "log_reg_best_est_pen=grid_clf_log.best_estimator_.penalty\r\n",
        "print('Best C:', grid_clf_log.best_estimator_.C) \r\n",
        "print('Best penalty:', grid_clf_log.best_estimator_.penalty)"
      ],
      "execution_count": 25,
      "outputs": [
        {
          "output_type": "stream",
          "text": [
            "Best C: 30\n",
            "Best penalty: l2\n"
          ],
          "name": "stdout"
        }
      ]
    },
    {
      "cell_type": "code",
      "metadata": {
        "colab": {
          "base_uri": "https://localhost:8080/"
        },
        "id": "yI1jHn83kI4N",
        "outputId": "87f8c9eb-9b8b-4c3e-d734-f303be8db842"
      },
      "source": [
        "#Trainieren des optimalen Modells\r\n",
        "clf_log = LogisticRegression(random_state=0, C=log_reg_best_est_C, penalty=log_reg_best_est_pen)\r\n",
        "clf_log.fit(X_train, y_train)"
      ],
      "execution_count": 26,
      "outputs": [
        {
          "output_type": "execute_result",
          "data": {
            "text/plain": [
              "LogisticRegression(C=30, class_weight=None, dual=False, fit_intercept=True,\n",
              "                   intercept_scaling=1, l1_ratio=None, max_iter=100,\n",
              "                   multi_class='auto', n_jobs=None, penalty='l2',\n",
              "                   random_state=0, solver='lbfgs', tol=0.0001, verbose=0,\n",
              "                   warm_start=False)"
            ]
          },
          "metadata": {
            "tags": []
          },
          "execution_count": 26
        }
      ]
    },
    {
      "cell_type": "markdown",
      "metadata": {
        "id": "ZtZ-VwuDkdTb"
      },
      "source": [
        "Random Forest"
      ]
    },
    {
      "cell_type": "code",
      "metadata": {
        "colab": {
          "base_uri": "https://localhost:8080/"
        },
        "id": "IYYZJIT2igPo",
        "outputId": "5baebfff-1b7b-4b32-d63a-e54e991326a5"
      },
      "source": [
        "from sklearn.ensemble import RandomForestClassifier\r\n",
        "parameter_candidates = [{'n_estimators': [60,80,100,120,40], 'max_depth': [2,3,4,5]}]\r\n",
        "clf_rfc = RandomForestClassifier(random_state=0)\r\n",
        "grid_clf_rfc = GridSearchCV(estimator=clf_rfc, param_grid=parameter_candidates, n_jobs=-1)\r\n",
        "grid_clf_rfc.fit(X_train, y_train)"
      ],
      "execution_count": 27,
      "outputs": [
        {
          "output_type": "execute_result",
          "data": {
            "text/plain": [
              "GridSearchCV(cv=None, error_score=nan,\n",
              "             estimator=RandomForestClassifier(bootstrap=True, ccp_alpha=0.0,\n",
              "                                              class_weight=None,\n",
              "                                              criterion='gini', max_depth=None,\n",
              "                                              max_features='auto',\n",
              "                                              max_leaf_nodes=None,\n",
              "                                              max_samples=None,\n",
              "                                              min_impurity_decrease=0.0,\n",
              "                                              min_impurity_split=None,\n",
              "                                              min_samples_leaf=1,\n",
              "                                              min_samples_split=2,\n",
              "                                              min_weight_fraction_leaf=0.0,\n",
              "                                              n_estimators=100, n_jobs=None,\n",
              "                                              oob_score=False, random_state=0,\n",
              "                                              verbose=0, warm_start=False),\n",
              "             iid='deprecated', n_jobs=-1,\n",
              "             param_grid=[{'max_depth': [2, 3, 4, 5],\n",
              "                          'n_estimators': [60, 80, 100, 120, 40]}],\n",
              "             pre_dispatch='2*n_jobs', refit=True, return_train_score=False,\n",
              "             scoring=None, verbose=0)"
            ]
          },
          "metadata": {
            "tags": []
          },
          "execution_count": 27
        }
      ]
    },
    {
      "cell_type": "code",
      "metadata": {
        "colab": {
          "base_uri": "https://localhost:8080/"
        },
        "id": "oY4ekmP6kIea",
        "outputId": "e125c7e8-55f4-4dd3-a7ee-6dd27a9e2bf7"
      },
      "source": [
        "ran_for_best_est_n=grid_clf_rfc.best_estimator_.n_estimators\r\n",
        "ran_for_best_est_depth=grid_clf_rfc.best_estimator_.max_depth\r\n",
        "print('Best n_estimators:', grid_clf_rfc.best_estimator_.n_estimators) \r\n",
        "print('Best max_depth:', grid_clf_rfc.best_estimator_.max_depth)"
      ],
      "execution_count": 28,
      "outputs": [
        {
          "output_type": "stream",
          "text": [
            "Best n_estimators: 80\n",
            "Best max_depth: 5\n"
          ],
          "name": "stdout"
        }
      ]
    },
    {
      "cell_type": "code",
      "metadata": {
        "colab": {
          "base_uri": "https://localhost:8080/"
        },
        "id": "64dR-udLk5HG",
        "outputId": "d9657332-03c6-4a83-d1ca-5761e91473bf"
      },
      "source": [
        "clf_rfc = RandomForestClassifier(random_state=0, max_depth=ran_for_best_est_depth, n_estimators=ran_for_best_est_n)\r\n",
        "clf_rfc.fit(X_train, y_train)"
      ],
      "execution_count": 29,
      "outputs": [
        {
          "output_type": "execute_result",
          "data": {
            "text/plain": [
              "RandomForestClassifier(bootstrap=True, ccp_alpha=0.0, class_weight=None,\n",
              "                       criterion='gini', max_depth=5, max_features='auto',\n",
              "                       max_leaf_nodes=None, max_samples=None,\n",
              "                       min_impurity_decrease=0.0, min_impurity_split=None,\n",
              "                       min_samples_leaf=1, min_samples_split=2,\n",
              "                       min_weight_fraction_leaf=0.0, n_estimators=80,\n",
              "                       n_jobs=None, oob_score=False, random_state=0, verbose=0,\n",
              "                       warm_start=False)"
            ]
          },
          "metadata": {
            "tags": []
          },
          "execution_count": 29
        }
      ]
    },
    {
      "cell_type": "markdown",
      "metadata": {
        "id": "NkhTP5YClBV7"
      },
      "source": [
        "Gradient Boosting Tree"
      ]
    },
    {
      "cell_type": "code",
      "metadata": {
        "colab": {
          "base_uri": "https://localhost:8080/"
        },
        "id": "UpbwFCqFEnXW",
        "outputId": "71f148cc-c232-4fad-ab09-35192dc5b97e"
      },
      "source": [
        "from sklearn.ensemble import GradientBoostingClassifier\r\n",
        "parameter_candidates = [{'n_estimators': [60,80,100,120,40], 'max_depth': [2,3,4,5]}]\r\n",
        "clf_gbc = GradientBoostingClassifier(random_state=0)\r\n",
        "grid_clf_gbc = GridSearchCV(estimator=clf_gbc, param_grid=parameter_candidates, n_jobs=-1)\r\n",
        "grid_clf_gbc.fit(X_train, y_train)"
      ],
      "execution_count": 30,
      "outputs": [
        {
          "output_type": "execute_result",
          "data": {
            "text/plain": [
              "GridSearchCV(cv=None, error_score=nan,\n",
              "             estimator=GradientBoostingClassifier(ccp_alpha=0.0,\n",
              "                                                  criterion='friedman_mse',\n",
              "                                                  init=None, learning_rate=0.1,\n",
              "                                                  loss='deviance', max_depth=3,\n",
              "                                                  max_features=None,\n",
              "                                                  max_leaf_nodes=None,\n",
              "                                                  min_impurity_decrease=0.0,\n",
              "                                                  min_impurity_split=None,\n",
              "                                                  min_samples_leaf=1,\n",
              "                                                  min_samples_split=2,\n",
              "                                                  min_weight_fraction_leaf=0.0,\n",
              "                                                  n_estimators=100,\n",
              "                                                  n_iter_no_change=None,\n",
              "                                                  presort='deprecated',\n",
              "                                                  random_state=0, subsample=1.0,\n",
              "                                                  tol=0.0001,\n",
              "                                                  validation_fraction=0.1,\n",
              "                                                  verbose=0, warm_start=False),\n",
              "             iid='deprecated', n_jobs=-1,\n",
              "             param_grid=[{'max_depth': [2, 3, 4, 5],\n",
              "                          'n_estimators': [60, 80, 100, 120, 40]}],\n",
              "             pre_dispatch='2*n_jobs', refit=True, return_train_score=False,\n",
              "             scoring=None, verbose=0)"
            ]
          },
          "metadata": {
            "tags": []
          },
          "execution_count": 30
        }
      ]
    },
    {
      "cell_type": "code",
      "metadata": {
        "colab": {
          "base_uri": "https://localhost:8080/"
        },
        "id": "vSklX366lPZJ",
        "outputId": "8f4f1a1a-cb77-47e5-b52a-67697ac41696"
      },
      "source": [
        "grad_boost_best_est_n=grid_clf_gbc.best_estimator_.n_estimators\r\n",
        "grad_boost_best_est_depth=grid_clf_gbc.best_estimator_.max_depth\r\n",
        "print('Best n_estimators:', grid_clf_gbc.best_estimator_.n_estimators) \r\n",
        "print('Best max_depth:', grid_clf_gbc.best_estimator_.max_depth)"
      ],
      "execution_count": 31,
      "outputs": [
        {
          "output_type": "stream",
          "text": [
            "Best n_estimators: 100\n",
            "Best max_depth: 5\n"
          ],
          "name": "stdout"
        }
      ]
    },
    {
      "cell_type": "code",
      "metadata": {
        "colab": {
          "base_uri": "https://localhost:8080/"
        },
        "id": "vyozZLJ1ldLd",
        "outputId": "3b5e6228-273f-4170-ec30-ac87a96cd6a5"
      },
      "source": [
        "clf_gbc = GradientBoostingClassifier(random_state=0, max_depth=grad_boost_best_est_depth, n_estimators=grad_boost_best_est_n)\r\n",
        "clf_gbc.fit(X_train, y_train)"
      ],
      "execution_count": 33,
      "outputs": [
        {
          "output_type": "execute_result",
          "data": {
            "text/plain": [
              "GradientBoostingClassifier(ccp_alpha=0.0, criterion='friedman_mse', init=None,\n",
              "                           learning_rate=0.1, loss='deviance', max_depth=5,\n",
              "                           max_features=None, max_leaf_nodes=None,\n",
              "                           min_impurity_decrease=0.0, min_impurity_split=None,\n",
              "                           min_samples_leaf=1, min_samples_split=2,\n",
              "                           min_weight_fraction_leaf=0.0, n_estimators=100,\n",
              "                           n_iter_no_change=None, presort='deprecated',\n",
              "                           random_state=0, subsample=1.0, tol=0.0001,\n",
              "                           validation_fraction=0.1, verbose=0,\n",
              "                           warm_start=False)"
            ]
          },
          "metadata": {
            "tags": []
          },
          "execution_count": 33
        }
      ]
    },
    {
      "cell_type": "markdown",
      "metadata": {
        "id": "vZENZlIf5mOU"
      },
      "source": [
        "# Evaluation"
      ]
    },
    {
      "cell_type": "markdown",
      "metadata": {
        "id": "Nlgr1syTl7RG"
      },
      "source": [
        "Logistische Regression"
      ]
    },
    {
      "cell_type": "code",
      "metadata": {
        "colab": {
          "base_uri": "https://localhost:8080/"
        },
        "id": "UEWAGxDDl8wK",
        "outputId": "e23aa555-cb15-423b-8711-f2ae4aa2a327"
      },
      "source": [
        "\r\n",
        "from sklearn.metrics import accuracy_score\r\n",
        "from sklearn.metrics import precision_score\r\n",
        "from sklearn.metrics import recall_score\r\n",
        "\r\n",
        "log_predictions = clf_log.predict(X_test)\r\n",
        "log_acc=accuracy_score(y_test, log_predictions)\r\n",
        "log_prec=precision_score(y_test, log_predictions)\r\n",
        "log_rec=recall_score(y_test, log_predictions)\r\n",
        "\r\n",
        "print(\"Logistic Regression Accuracy:\"+ str(log_acc))\r\n",
        "print(\"Logistic Regression Precision:\"+ str(log_prec))\r\n",
        "print(\"Logistic Regression Recall:\"+ str(log_rec))"
      ],
      "execution_count": 37,
      "outputs": [
        {
          "output_type": "stream",
          "text": [
            "Logistic Regression Accuracy:0.9122562674094707\n",
            "Logistic Regression Precision:0.9087791495198903\n",
            "Logistic Regression Recall:0.78125\n"
          ],
          "name": "stdout"
        }
      ]
    },
    {
      "cell_type": "markdown",
      "metadata": {
        "id": "YDB0_DCtmjf7"
      },
      "source": [
        "Random Forest"
      ]
    },
    {
      "cell_type": "code",
      "metadata": {
        "colab": {
          "base_uri": "https://localhost:8080/"
        },
        "id": "_20nArUwmG76",
        "outputId": "0e439472-e2af-4ef9-be29-2fd21f7c853c"
      },
      "source": [
        "rfc_predictions = clf_rfc.predict(X_test)\r\n",
        "rfc_acc=accuracy_score(y_test, rfc_predictions)\r\n",
        "rfc_prec=precision_score(y_test, rfc_predictions)\r\n",
        "rfc_rec=recall_score(y_test, rfc_predictions)\r\n",
        "\r\n",
        "print(\"Logistic Regression Accuracy:\"+ str(rfc_acc))\r\n",
        "print(\"Logistic Regression Precision:\"+ str(rfc_prec))\r\n",
        "print(\"Logistic Regression Recall:\"+ str(rfc_rec))"
      ],
      "execution_count": 38,
      "outputs": [
        {
          "output_type": "stream",
          "text": [
            "Logistic Regression Accuracy:0.9089484679665738\n",
            "Logistic Regression Precision:0.8970886932972241\n",
            "Logistic Regression Recall:0.78125\n"
          ],
          "name": "stdout"
        }
      ]
    },
    {
      "cell_type": "markdown",
      "metadata": {
        "id": "qQACKC5ym0Xg"
      },
      "source": [
        "Gradient Boosting Classifier"
      ]
    },
    {
      "cell_type": "code",
      "metadata": {
        "colab": {
          "base_uri": "https://localhost:8080/"
        },
        "id": "GqLZIsUHmwNX",
        "outputId": "4c75bb24-28c7-46aa-8211-b38a9fc478db"
      },
      "source": [
        "gbc_predictions = clf_gbc.predict(X_test)\r\n",
        "gbc_acc=accuracy_score(y_test, gbc_predictions)\r\n",
        "gbc_prec=precision_score(y_test, gbc_predictions)\r\n",
        "gbc_rec=recall_score(y_test, gbc_predictions)\r\n",
        "\r\n",
        "print(\"Logistic Regression Accuracy:\"+ str(gbc_acc))\r\n",
        "print(\"Logistic Regression Precision:\"+ str(gbc_prec))\r\n",
        "print(\"Logistic Regression Recall:\"+ str(gbc_rec))"
      ],
      "execution_count": 39,
      "outputs": [
        {
          "output_type": "stream",
          "text": [
            "Logistic Regression Accuracy:0.9129526462395543\n",
            "Logistic Regression Precision:0.8873056994818653\n",
            "Logistic Regression Recall:0.8077830188679245\n"
          ],
          "name": "stdout"
        }
      ]
    },
    {
      "cell_type": "code",
      "metadata": {
        "id": "qewxzkiAnA-Z"
      },
      "source": [
        ""
      ],
      "execution_count": null,
      "outputs": []
    }
  ]
}
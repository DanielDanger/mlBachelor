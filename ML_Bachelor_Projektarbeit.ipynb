{
  "nbformat": 4,
  "nbformat_minor": 0,
  "metadata": {
    "colab": {
      "name": "ML_Bachelor_Projektarbeit.ipynb",
      "provenance": [],
      "collapsed_sections": [],
      "include_colab_link": true
    },
    "kernelspec": {
      "name": "python3",
      "display_name": "Python 3"
    }
  },
  "cells": [
    {
      "cell_type": "markdown",
      "metadata": {
        "id": "view-in-github",
        "colab_type": "text"
      },
      "source": [
        "<a href=\"https://colab.research.google.com/github/DanielDanger/mlBachelor/blob/daniel/ML_Bachelor_Projektarbeit.ipynb\" target=\"_parent\"><img src=\"https://colab.research.google.com/assets/colab-badge.svg\" alt=\"Open In Colab\"/></a>"
      ]
    },
    {
      "cell_type": "code",
      "metadata": {
        "id": "wU4cCpL63NEi"
      },
      "source": [
        "from pydrive.auth import GoogleAuth \r\n",
        "from pydrive.drive import GoogleDrive \r\n",
        "from google.colab import auth \r\n",
        "from oauth2client.client import GoogleCredentials \r\n",
        "\r\n",
        "\r\n",
        "# Authenticate and create the PyDrive client. \r\n",
        "auth.authenticate_user() \r\n",
        "gauth = GoogleAuth() \r\n",
        "gauth.credentials = GoogleCredentials.get_application_default() \r\n",
        "drive = GoogleDrive(gauth)"
      ],
      "execution_count": 106,
      "outputs": []
    },
    {
      "cell_type": "code",
      "metadata": {
        "id": "aJtH6o8e51az"
      },
      "source": [
        "import pandas as pd\r\n",
        "link = 'https://drive.google.com/file/d/1u1gYmv2sDvoo_Lh6J1QyDlb_ldtiH2G5/view?usp=sharing'\r\n",
        "\r\n",
        "# to get the id part of the file \r\n",
        "id = link.split(\"/\")[-2] \r\n",
        "  \r\n",
        "downloaded = drive.CreateFile({'id':id})  \r\n",
        "downloaded.GetContentFile('train.csv')   \r\n",
        "  \r\n",
        "df_train = pd.read_csv('train.csv') \r\n",
        "\r\n",
        "link = 'https://drive.google.com/file/d/1e-di8EI_pVCowDaZxb_SQlovzfKkB9_Z/view?usp=sharing'\r\n",
        "\r\n",
        "# to get the id part of the file \r\n",
        "id = link.split(\"/\")[-2] \r\n",
        "  \r\n",
        "downloaded = drive.CreateFile({'id':id})  \r\n",
        "downloaded.GetContentFile('test.csv')   \r\n",
        "  \r\n",
        "df_test = pd.read_csv('test.csv') \r\n"
      ],
      "execution_count": 115,
      "outputs": []
    },
    {
      "cell_type": "markdown",
      "metadata": {
        "id": "hDrZUjps3tzG"
      },
      "source": [
        "# Business Understanding "
      ]
    },
    {
      "cell_type": "markdown",
      "metadata": {
        "id": "5aCUeswZ5all"
      },
      "source": [
        "# Data Understanding"
      ]
    },
    {
      "cell_type": "markdown",
      "metadata": {
        "id": "zkVh_QGE6mJZ"
      },
      "source": [
        "Hier sollte ggf. mal eine Darstellung erfolgen, welche Werte nicht vorhanden sind "
      ]
    },
    {
      "cell_type": "markdown",
      "metadata": {
        "id": "m7hSxF7s5eVc"
      },
      "source": [
        "# Data Preparation"
      ]
    },
    {
      "cell_type": "markdown",
      "metadata": {
        "id": "_Fj7fs5Y9qPv"
      },
      "source": [
        "Als erstes muss der Basket in eine Liste transformiert werden -> dazu wird eine Funktion geschrieben. "
      ]
    },
    {
      "cell_type": "code",
      "metadata": {
        "id": "su3RCGgK93R9"
      },
      "source": [
        "import ast\r\n",
        "def calculate_basket_size(dfi): \r\n",
        "  dfi[\"basket_size\"] = dfi.basket.apply(lambda x: len(ast.literal_eval(x)))\r\n",
        "  return dfi"
      ],
      "execution_count": 108,
      "outputs": []
    },
    {
      "cell_type": "markdown",
      "metadata": {
        "id": "S3qXksrw-ule"
      },
      "source": [
        "Funktion, welche die Fehlenden Werte im Dataframe füllt "
      ]
    },
    {
      "cell_type": "code",
      "metadata": {
        "id": "AW4SR6LM8F6v"
      },
      "source": [
        "import statistics\r\n",
        "def fill_na(df):\r\n",
        "  df['totalAmount'].fillna((df['totalAmount'].mean()), inplace=True)\r\n",
        "  df[\"customerType\"].fillna(statistics.mode(df[\"customerType\"]), inplace= True)\r\n",
        "  return df"
      ],
      "execution_count": 61,
      "outputs": []
    },
    {
      "cell_type": "markdown",
      "metadata": {
        "id": "g-EhZKuoAxG5"
      },
      "source": [
        "Funktion, welche die Spalte *basket* in eine Liste transformiert und dem Dataframe anhängt"
      ]
    },
    {
      "cell_type": "code",
      "metadata": {
        "id": "VGjjVgPMAwaS"
      },
      "source": [
        "import json\r\n",
        "def transform_basket_tolist(dfp):\r\n",
        "  print(dfp)\r\n",
        "  basket_list = dfp[\"basket\"].values.tolist()\r\n",
        "  new_basket_list = []\r\n",
        "  for x in basket_list:\r\n",
        "    basket = json.loads(x)\r\n",
        "    new_basket_list.append(basket)\r\n",
        "  dfp[\"basket_new\"] = new_basket_list\r\n",
        "  return dfp"
      ],
      "execution_count": 62,
      "outputs": []
    },
    {
      "cell_type": "code",
      "metadata": {
        "id": "22URLxzBDGK6"
      },
      "source": [
        "def count_occurences(df):\r\n",
        "  df1 = df['basket_new'].explode()\r\n",
        "  df = df.join(pd.crosstab(df1.index, df1).add_prefix('Cat_')) # TransactionId wird aufgrund fehlender Relevanz nicht weiter betrachtet\r\n",
        "  print(df)\r\n",
        "  return df\r\n",
        "\r\n",
        "  #[['customerType','totalAmount','returnLabel']] DeDa rausgeworfen "
      ],
      "execution_count": 63,
      "outputs": []
    },
    {
      "cell_type": "code",
      "metadata": {
        "id": "h3ulC6UfJjdC"
      },
      "source": [
        "#Überprüfung, ob eine Kategorie im Basket vorhanden ist, One hot encoding der Kategorien \r\n",
        "def cat_in_basket(dfi):\r\n",
        "  i=0\r\n",
        "  while i<=5:\r\n",
        "    cat=\"Cat_\"+str(i)\r\n",
        "    dfi[cat]=dfi[cat].map(lambda x: 1 if x > 0 else 0)\r\n",
        "    i=i+1\r\n",
        "  return dfi"
      ],
      "execution_count": 64,
      "outputs": []
    },
    {
      "cell_type": "code",
      "metadata": {
        "id": "ZrUQVvgmhgnc"
      },
      "source": [
        "# CustomerType in 0 und 1 umbauen \r\n",
        "from pandas.api.types import is_string_dtype\r\n",
        "def map_customer(df): \r\n",
        "  if (is_string_dtype(df.customerType)):\r\n",
        "    df.customerType=df.customerType.map({'existing':1,'new':0})"
      ],
      "execution_count": 83,
      "outputs": []
    },
    {
      "cell_type": "code",
      "metadata": {
        "id": "GaY01W3q-vqf"
      },
      "source": [
        "# Funktion die Zählt, wie oft ist eine Kategorie in einem Warenkorb vorhanden\r\n",
        "def count_categories(dfi1): \r\n",
        "  df1 = dfi1['basket_new'].explode()\r\n",
        "  dfi1=dfi1[['customerType','totalAmount','returnLabel','basket_size']].join(pd.crosstab(df1.index, df1, colnames=['b']).add_prefix('Cat_')) # Das Teil muss ich nochmal checken \r\n",
        "  dfi1=dfi1[['customerType','Cat_0','Cat_1','Cat_2','Cat_3','Cat_4','Cat_5','totalAmount','returnLabel','basket_size']]\r\n",
        "  return dfi1"
      ],
      "execution_count": 66,
      "outputs": []
    },
    {
      "cell_type": "code",
      "metadata": {
        "id": "V4Oe7BetDE7D"
      },
      "source": [
        "#Diese Funktion berechnet das Verhätnis mit welcher Wahrscheinlichkeit ein Buch zurückgesendet wird. \r\n",
        "def cal_return_prob(dfi):\r\n",
        "    # Kennzahlen für den Bereich der Rücksendungen ermitteln \r\n",
        "    books_returned = dfi[dfi.returnLabel==1]\r\n",
        "    books_returned = books_returned.sum(axis = 0, skipna = True)\r\n",
        "    books_returned_array = books_returned[[\"Cat_0\",\"Cat_1\",\"Cat_2\",\"Cat_3\",\"Cat_4\",\"Cat_5\"]].to_numpy()  \r\n",
        "    #Summe aller Spalten -> dann nur die Kategorien rausfiltern \r\n",
        "    all_books = dfi.sum(axis = 0, skipna = True)\r\n",
        "    all_books_array = all_books[[\"Cat_0\",\"Cat_1\",\"Cat_2\",\"Cat_3\",\"Cat_4\",\"Cat_5\"]].to_numpy()\r\n",
        "\r\n",
        "    #Berechne das Rücksendeverhältnis der einzelnen Kategorien \r\n",
        "    verhältnis = books_returned_array / all_books_array\r\n",
        "\r\n",
        "    return verhältnis"
      ],
      "execution_count": 67,
      "outputs": []
    },
    {
      "cell_type": "code",
      "metadata": {
        "id": "BIsm7lr-dMOx"
      },
      "source": [
        "#Ermittelt für einen Warenkorb die Rücksendewahrscheinlichkeit \r\n",
        "def return_prob(dfi):\r\n",
        "  \r\n",
        "  verhältnis = cal_return_prob(dfi)\r\n",
        "  df_return = dfi\r\n",
        "  df_return[\"basket_size\"] = df_return.Cat_0+ df_return.Cat_1+df_return.Cat_2+df_return.Cat_3+df_return.Cat_4+df_return.Cat_5\r\n",
        "  df_return[\"return_prob\"] = (df_return.Cat_0*verhältnis[0]+df_return.Cat_1*verhältnis[1]+df_return.Cat_2*verhältnis[2]+df_return.Cat_3*verhältnis[3]+df_return.Cat_4*verhältnis[4]+df_return.Cat_5*verhältnis[5])/(\r\n",
        "  df_return.basket_size)\r\n",
        "  return df_return"
      ],
      "execution_count": 68,
      "outputs": []
    },
    {
      "cell_type": "code",
      "metadata": {
        "id": "SoeD1hr6fezE"
      },
      "source": [
        "# Funktion zur Datenvorbereitung hier wird wirklich nur ein OneHot encoding durchgeführt. \r\n",
        "\r\n",
        "\r\n",
        "def prepare_data(dfi): \r\n",
        "    #dfi.drop(columns='transactionId',inplace=True)\r\n",
        "    map_customer(dfi)\r\n",
        "    transform0 = calculate_basket_size(dfi)\r\n",
        "    transform1 = transform_basket_tolist(transform0)\r\n",
        "    transform2 = count_occurences(transform1)\r\n",
        "     \r\n",
        "#print(prepare_data(df_test))\r\n",
        "\r\n"
      ],
      "execution_count": 69,
      "outputs": []
    },
    {
      "cell_type": "code",
      "metadata": {
        "id": "tVZYePDq-mDD"
      },
      "source": [
        "from sklearn.preprocessing import StandardScaler\r\n",
        " \r\n",
        "#Funktion, um Scaler mit den Parametern zu erstellen\r\n",
        "def get_scaler(dfi):\r\n",
        "  scaler = StandardScaler()\r\n",
        "  df_for_scaling = dfi.drop(columns=['returnLabel'])\r\n",
        "  scaler = scaler.fit(df_for_scaling)\r\n",
        "  return scaler\r\n",
        " \r\n",
        "#Funktion, um Daten zu skalieren\r\n",
        "def scale_data(scaler,dfi):\r\n",
        "  df_for_scaling = dfi.drop(columns=['returnLabel'])\r\n",
        "  scaled_data = scaler.transform(df_for_scaling)\r\n",
        "  return scaled_data"
      ],
      "execution_count": 70,
      "outputs": []
    },
    {
      "cell_type": "code",
      "metadata": {
        "id": "NtMcbMO7ATgG"
      },
      "source": [
        "# Funktion zur Datenvorbereitung hier wird solch eine Transformation durchgeführt, die für die jeweiligen Gruppen/Warenkörbe ermittelt, mit welchen Wahrscheinlichkeiten etwas zurück kommt.  \r\n",
        "\r\n",
        "\r\n",
        "\r\n",
        "def prepare_train(dfi): \r\n",
        "    #dfi.drop(columns='transactionId',inplace=True)\r\n",
        "    y_train = dfi.returnLabel\r\n",
        "    dfi = fill_na(dfi)\r\n",
        "    map_customer(dfi)\r\n",
        "    transform0 = calculate_basket_size(dfi)\r\n",
        "    transform1 = transform_basket_tolist(transform0)\r\n",
        "    # hier ist der Unterschied zur anderen prep. Funktion \r\n",
        "    transform2 = count_categories(transform1) # Wichtig ist, dass diese Funktion vor der nächsten steht \r\n",
        "    #transform3 = cal_return_prob(transform2)\r\n",
        "    transform3 = return_prob(transform2) \r\n",
        "    scaler = get_scaler(transform3)\r\n",
        "    x_train = scale_data(scaler,transform3)\r\n",
        "    \r\n",
        "    return x_train,y_train, scaler  \r\n",
        "\r\n",
        "def prepare_test(dfi,scaler): \r\n",
        "    dfi.dropna(axis=0, inplace=True)\r\n",
        "    df_test_Y = dfi.returnLabel\r\n",
        "    dfi = dfi.drop(columns=['transactionId'])\r\n",
        "    map_customer(dfi)\r\n",
        "    transform0 = calculate_basket_size(dfi)\r\n",
        "    transform1 = transform_basket_tolist(transform0)\r\n",
        "    transform2 = count_categories(transform1)\r\n",
        "    transform3 = return_prob(transform2)\r\n",
        "    df_test_X = scale_data(scaler,transform3)\r\n",
        "    return df_test_X,df_test_Y"
      ],
      "execution_count": 116,
      "outputs": []
    },
    {
      "cell_type": "code",
      "metadata": {
        "colab": {
          "base_uri": "https://localhost:8080/",
          "height": 419
        },
        "id": "_oGmhpd7A3LW",
        "outputId": "7a241da2-4f26-4c5c-d7fe-3834c9eba058"
      },
      "source": [
        "#x,scaler = prepare_train(df_test1)\r\n",
        "#df = pd.DataFrame(x, columns = [\"customerType\",\t\"Cat_0\",\t\"Cat_1\",\t\"Cat_2\",\t\"Cat_3\",\t\"Cat_4\",\t\"Cat_5\",\t\"totalAmount\"\t,\"basket_size\",\t\"return_prob\"])\r\n",
        "\r\n",
        "df_test"
      ],
      "execution_count": 110,
      "outputs": [
        {
          "output_type": "execute_result",
          "data": {
            "text/html": [
              "<div>\n",
              "<style scoped>\n",
              "    .dataframe tbody tr th:only-of-type {\n",
              "        vertical-align: middle;\n",
              "    }\n",
              "\n",
              "    .dataframe tbody tr th {\n",
              "        vertical-align: top;\n",
              "    }\n",
              "\n",
              "    .dataframe thead th {\n",
              "        text-align: right;\n",
              "    }\n",
              "</style>\n",
              "<table border=\"1\" class=\"dataframe\">\n",
              "  <thead>\n",
              "    <tr style=\"text-align: right;\">\n",
              "      <th></th>\n",
              "      <th>transactionId</th>\n",
              "      <th>basket</th>\n",
              "      <th>customerType</th>\n",
              "      <th>totalAmount</th>\n",
              "      <th>returnLabel</th>\n",
              "    </tr>\n",
              "  </thead>\n",
              "  <tbody>\n",
              "    <tr>\n",
              "      <th>0</th>\n",
              "      <td>9605027322</td>\n",
              "      <td>[4, 0, 3, 4, 1, 4, 3, 4]</td>\n",
              "      <td>new</td>\n",
              "      <td>80.0</td>\n",
              "      <td>1</td>\n",
              "    </tr>\n",
              "    <tr>\n",
              "      <th>1</th>\n",
              "      <td>8315649406</td>\n",
              "      <td>[4]</td>\n",
              "      <td>existing</td>\n",
              "      <td>26.0</td>\n",
              "      <td>0</td>\n",
              "    </tr>\n",
              "    <tr>\n",
              "      <th>2</th>\n",
              "      <td>5151646801</td>\n",
              "      <td>[1, 3, 5]</td>\n",
              "      <td>existing</td>\n",
              "      <td>147.0</td>\n",
              "      <td>0</td>\n",
              "    </tr>\n",
              "    <tr>\n",
              "      <th>3</th>\n",
              "      <td>8101967972</td>\n",
              "      <td>[3]</td>\n",
              "      <td>existing</td>\n",
              "      <td>37.0</td>\n",
              "      <td>1</td>\n",
              "    </tr>\n",
              "    <tr>\n",
              "      <th>4</th>\n",
              "      <td>2887044104</td>\n",
              "      <td>[0, 0, 2, 5, 2]</td>\n",
              "      <td>existing</td>\n",
              "      <td>375.0</td>\n",
              "      <td>0</td>\n",
              "    </tr>\n",
              "    <tr>\n",
              "      <th>...</th>\n",
              "      <td>...</td>\n",
              "      <td>...</td>\n",
              "      <td>...</td>\n",
              "      <td>...</td>\n",
              "      <td>...</td>\n",
              "    </tr>\n",
              "    <tr>\n",
              "      <th>5995</th>\n",
              "      <td>8254392242</td>\n",
              "      <td>[3, 4, 4]</td>\n",
              "      <td>existing</td>\n",
              "      <td>192.0</td>\n",
              "      <td>1</td>\n",
              "    </tr>\n",
              "    <tr>\n",
              "      <th>5996</th>\n",
              "      <td>5691788621</td>\n",
              "      <td>[4, 4, 3, 4, 1, 4]</td>\n",
              "      <td>new</td>\n",
              "      <td>360.0</td>\n",
              "      <td>1</td>\n",
              "    </tr>\n",
              "    <tr>\n",
              "      <th>5997</th>\n",
              "      <td>1449561534</td>\n",
              "      <td>[3, 4, 4, 4]</td>\n",
              "      <td>existing</td>\n",
              "      <td>252.0</td>\n",
              "      <td>0</td>\n",
              "    </tr>\n",
              "    <tr>\n",
              "      <th>5998</th>\n",
              "      <td>9039960511</td>\n",
              "      <td>[5, 1]</td>\n",
              "      <td>existing</td>\n",
              "      <td>50.0</td>\n",
              "      <td>0</td>\n",
              "    </tr>\n",
              "    <tr>\n",
              "      <th>5999</th>\n",
              "      <td>9995451059</td>\n",
              "      <td>[1, 4, 5, 0, 3, 0, 3, 0]</td>\n",
              "      <td>existing</td>\n",
              "      <td>512.0</td>\n",
              "      <td>0</td>\n",
              "    </tr>\n",
              "  </tbody>\n",
              "</table>\n",
              "<p>6000 rows × 5 columns</p>\n",
              "</div>"
            ],
            "text/plain": [
              "      transactionId                    basket  ... totalAmount  returnLabel\n",
              "0        9605027322  [4, 0, 3, 4, 1, 4, 3, 4]  ...        80.0            1\n",
              "1        8315649406                       [4]  ...        26.0            0\n",
              "2        5151646801                 [1, 3, 5]  ...       147.0            0\n",
              "3        8101967972                       [3]  ...        37.0            1\n",
              "4        2887044104           [0, 0, 2, 5, 2]  ...       375.0            0\n",
              "...             ...                       ...  ...         ...          ...\n",
              "5995     8254392242                 [3, 4, 4]  ...       192.0            1\n",
              "5996     5691788621        [4, 4, 3, 4, 1, 4]  ...       360.0            1\n",
              "5997     1449561534              [3, 4, 4, 4]  ...       252.0            0\n",
              "5998     9039960511                    [5, 1]  ...        50.0            0\n",
              "5999     9995451059  [1, 4, 5, 0, 3, 0, 3, 0]  ...       512.0            0\n",
              "\n",
              "[6000 rows x 5 columns]"
            ]
          },
          "metadata": {
            "tags": []
          },
          "execution_count": 110
        }
      ]
    },
    {
      "cell_type": "code",
      "metadata": {
        "colab": {
          "base_uri": "https://localhost:8080/"
        },
        "id": "IsCWTXW5cPOq",
        "outputId": "592a6afa-2394-4f1b-bbd1-fdeaf7ce41be"
      },
      "source": [
        "X_train,y_train,scaler = prepare_train(df_train)\r\n",
        "X_test,y_test = prepare_test(df_test,scaler)\r\n",
        "\r\n"
      ],
      "execution_count": 117,
      "outputs": [
        {
          "output_type": "stream",
          "text": [
            "       transactionId  ... basket_size\n",
            "0         7934161612  ...           1\n",
            "1         5308629088  ...           4\n",
            "2         1951363325  ...           4\n",
            "3         6713597713  ...           1\n",
            "4         8352683669  ...           4\n",
            "...              ...  ...         ...\n",
            "24995     8178087221  ...           9\n",
            "24996     8955146476  ...          12\n",
            "24997     7770630838  ...           6\n",
            "24998     3758775159  ...           2\n",
            "24999     7697226342  ...           5\n",
            "\n",
            "[25000 rows x 6 columns]\n",
            "                        basket  customerType  ...  returnLabel  basket_size\n",
            "0     [4, 0, 3, 4, 1, 4, 3, 4]             0  ...            1            8\n",
            "1                          [4]             1  ...            0            1\n",
            "2                    [1, 3, 5]             1  ...            0            3\n",
            "3                          [3]             1  ...            1            1\n",
            "4              [0, 0, 2, 5, 2]             1  ...            0            5\n",
            "...                        ...           ...  ...          ...          ...\n",
            "5995                 [3, 4, 4]             1  ...            1            3\n",
            "5996        [4, 4, 3, 4, 1, 4]             0  ...            1            6\n",
            "5997              [3, 4, 4, 4]             1  ...            0            4\n",
            "5998                    [5, 1]             1  ...            0            2\n",
            "5999  [1, 4, 5, 0, 3, 0, 3, 0]             1  ...            0            8\n",
            "\n",
            "[5744 rows x 5 columns]\n"
          ],
          "name": "stdout"
        }
      ]
    },
    {
      "cell_type": "code",
      "metadata": {
        "colab": {
          "base_uri": "https://localhost:8080/"
        },
        "id": "ctUpdXEcRD58",
        "outputId": "b9d241b3-46f8-4a22-fa64-17431da039c3"
      },
      "source": [
        ""
      ],
      "execution_count": 73,
      "outputs": [
        {
          "output_type": "execute_result",
          "data": {
            "text/plain": [
              "array([[-2.52229324,  0.38295497,  0.38062661, ..., -0.86399027,\n",
              "         1.20602532,  0.97648537],\n",
              "       [ 0.39646461, -0.78045254, -0.77687955, ..., -1.1098655 ,\n",
              "        -1.36833245,  1.9218931 ],\n",
              "       [ 0.39646461, -0.78045254,  0.38062661, ..., -0.55892285,\n",
              "        -0.63280166, -0.78959004],\n",
              "       ...,\n",
              "       [ 0.39646461, -0.78045254, -0.77687955, ..., -0.08083213,\n",
              "        -0.26503626,  1.69160759],\n",
              "       [ 0.39646461, -0.78045254,  0.38062661, ..., -1.00058762,\n",
              "        -1.00056705, -1.6847606 ],\n",
              "       [ 0.39646461,  2.70976999,  0.38062661, ...,  1.10301157,\n",
              "         1.20602532, -0.27840891]])"
            ]
          },
          "metadata": {
            "tags": []
          },
          "execution_count": 73
        }
      ]
    },
    {
      "cell_type": "markdown",
      "metadata": {
        "id": "jiK1t8lHJXW9"
      },
      "source": [
        "Diese Funktion macht eine Darstellung, wie oft welche Buchkategorien in den Rücksenden enthalten waren.\r\n",
        "\r\n",
        "Das Teil muss isoliert betrachtet werden "
      ]
    },
    {
      "cell_type": "code",
      "metadata": {
        "id": "9h8pVu4p5sws",
        "colab": {
          "base_uri": "https://localhost:8080/",
          "height": 456
        },
        "outputId": "ef4b553b-e4dc-46cb-fd4b-cbda49af0e6e"
      },
      "source": [
        "df_train_new = count_occurences(df=transform_basket_tolist(df_train))\r\n",
        "\r\n",
        "import matplotlib.pyplot as plt\r\n",
        "import numpy as np\r\n",
        "\r\n",
        "\r\n",
        "\r\n",
        "# Hole alle Rücksendungen aus dem Daframe\r\n",
        "df_train_return = df_train_new[df_train['returnLabel']==1] \r\n",
        "\r\n",
        "cat_array = df_train_return.drop(columns=[\"totalAmount\",\"returnLabel\"]) # Wirf alles bis auf die Kategorien raus \r\n",
        "\r\n",
        "# Wie viele Objekte sind im Dataframe vorhanden? \r\n",
        "df_calc = cat_array.sum(axis = 0, skipna = True) \r\n",
        "# Transformiere alle relevaten Spalten in ein NumpyArray damit wir es im Barchart darstellen können \r\n",
        "#cat_array = df_calc.drop(columns=[\"totalAmount\",\"returnLabel\"]).to_numpy()\r\n",
        "\r\n",
        "print(df_calc)\r\n",
        "\r\n",
        "\r\n",
        "fig = plt.figure()\r\n",
        "ax = fig.add_axes([0,0,1,1])\r\n",
        "cats = ['Cat_0', 'Cat_1', 'Cat_2', 'Cat_3', 'Cat_4', 'Cat_5'] #Label für die X Achse \r\n",
        "\r\n",
        "\r\n",
        "ax.bar(cats,list(df_calc))\r\n",
        "plt.show()"
      ],
      "execution_count": null,
      "outputs": [
        {
          "output_type": "stream",
          "text": [
            "Cat_0     3065\n",
            "Cat_1     3185\n",
            "Cat_2     3056\n",
            "Cat_3     9498\n",
            "Cat_4    15835\n",
            "Cat_5        0\n",
            "dtype: int64\n"
          ],
          "name": "stdout"
        },
        {
          "output_type": "display_data",
          "data": {
            "image/png": "[encoded data removed]",
            "text/plain": [
              "<Figure size 432x288 with 1 Axes>"
            ]
          },
          "metadata": {
            "tags": [],
            "needs_background": "light"
          }
        }
      ]
    },
    {
      "cell_type": "code",
      "metadata": {
        "colab": {
          "base_uri": "https://localhost:8080/",
          "height": 554
        },
        "id": "0vv-w_R7L-ms",
        "outputId": "785268c8-3337-4813-c292-3c7aa785ad69"
      },
      "source": [
        "import matplotlib.pyplot as plt\r\n",
        "import numpy as np\r\n",
        "\r\n",
        "\r\n",
        "df_train_new = count_occurences(df=transform_basket_tolist(df_train))\r\n",
        "\r\n",
        "N = 6\r\n",
        "books_returned = df_train_new[df_train['returnLabel']==1] \r\n",
        "books_notreturned = df_train_new[df_train['returnLabel']==0]\r\n",
        "\r\n",
        "\r\n",
        "ind = np.arange(N)    # the x locations for the groups\r\n",
        "width = 0.6       # the width of the bars: can also be len(x) sequence\r\n",
        "\r\n",
        "array_books_returned = books_returned.drop(columns=[\"totalAmount\",\"returnLabel\"]) \r\n",
        "df_calc_books_returned = array_books_returned.sum(axis = 0, skipna = True)\r\n",
        "\r\n",
        "\r\n",
        "array_books_noreturned = books_notreturned.drop(columns=[\"totalAmount\",\"returnLabel\"])\r\n",
        "df_calc_books_notreturned = array_books_noreturned.sum(axis = 0, skipna = True) # CustomerType wird automatisch geworfen \r\n",
        "\r\n",
        "plt.figure(figsize=(20,9))\r\n",
        "\r\n",
        "p1 = plt.bar(ind, list(df_calc_books_returned), width)\r\n",
        "p2 = plt.bar(ind, list(df_calc_books_notreturned), width,\r\n",
        "             bottom=list(df_calc_books_returned))\r\n",
        "\r\n",
        "\r\n",
        "plt.ylabel('Sum')\r\n",
        "plt.title('Book returned vs. not Returned')\r\n",
        "plt.xticks(ind, ('Cat_0','Cat_1', 'Cat_2', 'Cat_3', 'Cat_4', 'Cat_5'))\r\n",
        "plt.yticks(np.arange(0, 40000, 5000))\r\n",
        "plt.legend((p1[0], p2[0]), ('Books returned', 'Books no returned'))\r\n",
        "\r\n",
        "plt.show()\r\n"
      ],
      "execution_count": null,
      "outputs": [
        {
          "output_type": "display_data",
          "data": {
            "image/png": "[encoded data removed]",
            "text/plain": [
              "<Figure size 1440x648 with 1 Axes>"
            ]
          },
          "metadata": {
            "tags": [],
            "needs_background": "light"
          }
        }
      ]
    },
    {
      "cell_type": "code",
      "metadata": {
        "colab": {
          "base_uri": "https://localhost:8080/",
          "height": 553
        },
        "id": "AUKsr6BzLEqW",
        "outputId": "711e6781-926f-4840-fa99-e63b8554ca55"
      },
      "source": [
        "import matplotlib.pyplot as plt\r\n",
        "import numpy as np\r\n",
        "\r\n",
        "\r\n",
        "df_train_new = count_occurences(df=transform_basket_tolist(df_train))\r\n",
        "\r\n",
        "N = 2\r\n",
        "returned_by_existing_customer = df_train_new[(df_train_new['returnLabel']==1) & (df_train_new['customerType'] == 'existing')][\"customerType\"].count()\r\n",
        "not_returned_by_existing_customer = df_train_new[(df_train_new['returnLabel']==0) & (df_train_new['customerType'] == 'existing')][\"customerType\"].count()\r\n",
        "\r\n",
        "returned_by_new_customer = df_train_new[(df_train_new['returnLabel']==1) & (df_train_new['customerType'] == 'new')][\"customerType\"].count()\r\n",
        "not_returned_by_new_customer = df_train_new[(df_train_new['returnLabel']==0) & (df_train_new['customerType'] == 'new')][\"customerType\"].count()\r\n",
        "\r\n",
        "ind = np.arange(N)    # the x locations for the groups\r\n",
        "width = 0.6       # the width of the bars: can also be len(x) sequence\r\n",
        "\r\n",
        "returned_list = list((returned_by_existing_customer,returned_by_new_customer))\r\n",
        "not_returned_list = list((not_returned_by_existing_customer,not_returned_by_new_customer))\r\n",
        "\r\n",
        "array_books_noreturned = books_notreturned.drop(columns=[\"totalAmount\",\"returnLabel\"])\r\n",
        "df_calc_books_notreturned = array_books_noreturned.sum(axis = 0, skipna = True)\r\n",
        "\r\n",
        "plt.figure(figsize=(20,9))\r\n",
        "\r\n",
        "p1 = plt.bar(ind,returned_list , width)\r\n",
        "p2 = plt.bar(ind, not_returned_list, width,\r\n",
        "             bottom=returned_list)\r\n",
        "\r\n",
        "\r\n",
        "plt.ylabel('Sum')\r\n",
        "plt.title('Book returned vs. not Returned')\r\n",
        "plt.xticks(ind, ('existing customer', 'new customer'))\r\n",
        "plt.yticks(np.arange(0, 40000, 5000))\r\n",
        "plt.legend((p1[0], p2[0]), ('Books returned', 'Books no returned'))\r\n",
        "\r\n",
        "plt.show()"
      ],
      "execution_count": null,
      "outputs": [
        {
          "output_type": "display_data",
          "data": {
            "image/png": "[encoded data removed]",
            "text/plain": [
              "<Figure size 1440x648 with 1 Axes>"
            ]
          },
          "metadata": {
            "tags": [],
            "needs_background": "light"
          }
        }
      ]
    },
    {
      "cell_type": "code",
      "metadata": {
        "colab": {
          "base_uri": "https://localhost:8080/",
          "height": 1000
        },
        "id": "6CNoy5ikXIv2",
        "outputId": "dfccd4cf-2fbb-4d19-f493-a139d75c50f4"
      },
      "source": [
        "df_train_new = count_occurences(df=transform_basket_tolist(df_train))\r\n",
        "\r\n",
        "N = 6\r\n",
        "books_returned = df_train_new[(df_train_new['returnLabel']==1) & (df_train_new['customerType'] == 'existing')] \r\n",
        "books_notreturned = df_train_new[(df_train_new['returnLabel']==0) & (df_train_new['customerType'] == 'existing')] \r\n",
        "\r\n",
        "\r\n",
        "books_returned_new_customer = df_train_new[(df_train_new['returnLabel']==1) & (df_train_new['customerType'] == 'new')] \r\n",
        "books_notreturned_new_customer = df_train_new[(df_train_new['returnLabel']==0) & (df_train_new['customerType'] == 'new')] \r\n",
        "\r\n",
        "\r\n",
        "\r\n",
        "ind = np.arange(N)    # the x locations for the groups\r\n",
        "width = 0.6       # the width of the bars: can also be len(x) sequence\r\n",
        "\r\n",
        "array_books_returned = books_returned.drop(columns=[\"totalAmount\",\"returnLabel\",\"customerType\"]) \r\n",
        "df_calc_books_returned = array_books_returned.sum(axis = 0, skipna = True)\r\n",
        "\r\n",
        "array_books_noreturned = books_notreturned.drop(columns=[\"totalAmount\",\"returnLabel\",\"customerType\"])\r\n",
        "df_calc_books_notreturned = array_books_noreturned.sum(axis = 0, skipna = True)\r\n",
        "\r\n",
        "############# New Customer ###########\r\n",
        "\r\n",
        "array_books_returned_new = books_returned_new_customer.drop(columns=[\"totalAmount\",\"returnLabel\",\"customerType\"]) \r\n",
        "df_calc_books_returned_new = array_books_returned_new.sum(axis = 0, skipna = True)\r\n",
        "\r\n",
        "\r\n",
        "array_books_noreturned_new = books_notreturned_new_customer.drop(columns=[\"totalAmount\",\"returnLabel\",\"customerType\"])\r\n",
        "df_calc_books_notreturned_new = array_books_noreturned_new.sum(axis = 0, skipna = True)\r\n",
        "\r\n",
        "############ ###################\r\n",
        "\r\n",
        "\r\n",
        "\r\n",
        "\r\n",
        "plt.figure(figsize=(20,9))\r\n",
        "\r\n",
        "p1 = plt.bar(ind, list(df_calc_books_returned), width)\r\n",
        "p2 = plt.bar(ind, list(df_calc_books_notreturned), width,\r\n",
        "             bottom=list(df_calc_books_returned))\r\n",
        "\r\n",
        "\r\n",
        "\r\n",
        "\r\n",
        "plt.ylabel('Sum')\r\n",
        "plt.title('Book returned vs. not Returned')\r\n",
        "plt.xticks(ind, ('Cat_0','Cat_1', 'Cat_2', 'Cat_3', 'Cat_4', 'Cat_5'))\r\n",
        "plt.yticks(np.arange(0, 40000, 5000))\r\n",
        "plt.legend((p1[0], p2[0]), ('Books returned', 'Books no returned'))\r\n",
        "\r\n",
        "plt.show()\r\n",
        "\r\n",
        "plt.figure(figsize=(20,9))\r\n",
        "\r\n",
        "p3 = plt.bar(ind, list(df_calc_books_returned_new), width)\r\n",
        "p4 = plt.bar(ind, list(df_calc_books_notreturned_new), width,\r\n",
        "             bottom=list(df_calc_books_notreturned_new))\r\n",
        "\r\n",
        "\r\n",
        "plt.ylabel('Sum')\r\n",
        "plt.title('Book returned vs. not Returned')\r\n",
        "plt.xticks(ind, ('Cat_0','Cat_1', 'Cat_2', 'Cat_3', 'Cat_4', 'Cat_5'))\r\n",
        "plt.yticks(np.arange(0, 40000, 5000))\r\n",
        "plt.legend((p3[0], p4[0]), ('Books returned', 'Books no returned'))\r\n",
        "\r\n",
        "plt.show()"
      ],
      "execution_count": null,
      "outputs": [
        {
          "output_type": "display_data",
          "data": {
            "image/png": "[encoded data removed]",
            "text/plain": [
              "<Figure size 1440x648 with 1 Axes>"
            ]
          },
          "metadata": {
            "tags": [],
            "needs_background": "light"
          }
        },
        {
          "output_type": "display_data",
          "data": {
            "image/png": "[encoded data removed]",
            "text/plain": [
              "<Figure size 1440x648 with 1 Axes>"
            ]
          },
          "metadata": {
            "tags": [],
            "needs_background": "light"
          }
        }
      ]
    },
    {
      "cell_type": "markdown",
      "metadata": {
        "id": "VP9oSXSg5i1z"
      },
      "source": [
        "# Modeling"
      ]
    },
    {
      "cell_type": "code",
      "metadata": {
        "colab": {
          "base_uri": "https://localhost:8080/"
        },
        "id": "sCzgn7tIHEOv",
        "outputId": "ad7a5583-34c6-496a-f27c-d7fa1fefa8db"
      },
      "source": [
        "from sklearn.model_selection import train_test_split\r\n",
        "from sklearn.linear_model import LogisticRegression\r\n",
        "from sklearn.metrics import accuracy_score\r\n",
        "\r\n",
        "logisticRegr = LogisticRegression(max_iter=1000) # Gradient Descent mit max. 1000 Schritten\r\n",
        "logisticRegr.fit(X_train, y_train)"
      ],
      "execution_count": 118,
      "outputs": [
        {
          "output_type": "execute_result",
          "data": {
            "text/plain": [
              "LogisticRegression(C=1.0, class_weight=None, dual=False, fit_intercept=True,\n",
              "                   intercept_scaling=1, l1_ratio=None, max_iter=1000,\n",
              "                   multi_class='auto', n_jobs=None, penalty='l2',\n",
              "                   random_state=None, solver='lbfgs', tol=0.0001, verbose=0,\n",
              "                   warm_start=False)"
            ]
          },
          "metadata": {
            "tags": []
          },
          "execution_count": 118
        }
      ]
    },
    {
      "cell_type": "code",
      "metadata": {
        "id": "tTX9-VXtfjLf"
      },
      "source": [
        "predictions = logisticRegr.predict(X_test)\r\n"
      ],
      "execution_count": 119,
      "outputs": []
    },
    {
      "cell_type": "code",
      "metadata": {
        "colab": {
          "base_uri": "https://localhost:8080/"
        },
        "id": "IYYZJIT2igPo",
        "outputId": "e7f54a02-be68-4e8f-cf6e-9ca2c7012b71"
      },
      "source": [
        "# Accuracy_Score berechnen \r\n",
        "from sklearn.metrics import accuracy_score\r\n",
        "accuracy_score(y_test, predictions)"
      ],
      "execution_count": 120,
      "outputs": [
        {
          "output_type": "execute_result",
          "data": {
            "text/plain": [
              "0.9122562674094707"
            ]
          },
          "metadata": {
            "tags": []
          },
          "execution_count": 120
        }
      ]
    },
    {
      "cell_type": "markdown",
      "metadata": {
        "id": "vZENZlIf5mOU"
      },
      "source": [
        "# Evaluation"
      ]
    }
  ]
}
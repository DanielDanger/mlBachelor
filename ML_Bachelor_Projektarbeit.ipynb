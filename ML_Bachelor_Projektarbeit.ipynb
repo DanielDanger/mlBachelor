{
  "nbformat": 4,
  "nbformat_minor": 0,
  "metadata": {
    "colab": {
      "name": "ML_Bachelor_Projektarbeit.ipynb",
      "provenance": [],
      "collapsed_sections": [],
      "include_colab_link": true
    },
    "kernelspec": {
      "name": "python3",
      "display_name": "Python 3"
    }
  },
  "cells": [
    {
      "cell_type": "markdown",
      "metadata": {
        "id": "view-in-github",
        "colab_type": "text"
      },
      "source": [
        "<a href=\"https://colab.research.google.com/github/DanielDanger/mlBachelor/blob/daniel/ML_Bachelor_Projektarbeit.ipynb\" target=\"_parent\"><img src=\"https://colab.research.google.com/assets/colab-badge.svg\" alt=\"Open In Colab\"/></a>"
      ]
    },
    {
      "cell_type": "markdown",
      "metadata": {
        "id": "tlp-hNwS6lYR"
      },
      "source": [
        "# **ML Bachelor Projekt**\r\n",
        "\r\n",
        "**Teamname: 285603**\r\n",
        "- Daniel Degenhardt - Matnr. 72387\r\n",
        "- Christoph Göbler - Matnr. 138478\r\n",
        "- Oktay Kutschera - Matnr. 74738\r\n"
      ]
    },
    {
      "cell_type": "markdown",
      "metadata": {
        "id": "uVLx5etp7yyj"
      },
      "source": [
        "## Erläuterung der Vorgehensweise:\r\n",
        "Zur Entwicklung der verschiedenen Machine Learning Modelle haben wir uns an dem im Bereich der Data Science oft verwendeten CRISP-DM Modell orientiert. Aufgrund der Relevanz für diese Arbeit, haben wir uns hierbei vor allem auf die Schritte der Data Preparation, des Modellings und der Evaluation konzentriert. "
      ]
    },
    {
      "cell_type": "markdown",
      "metadata": {
        "id": "Pr3C6MaR7NTT"
      },
      "source": [
        "### Erster Schritt: Laden der Datensätze in das Dokument & Importieren aller zunächst relevanten Libraries für die Arbeit in Google Colab"
      ]
    },
    {
      "cell_type": "code",
      "metadata": {
        "id": "wU4cCpL63NEi"
      },
      "source": [
        "from pydrive.auth import GoogleAuth \r\n",
        "from pydrive.drive import GoogleDrive \r\n",
        "from google.colab import auth \r\n",
        "from oauth2client.client import GoogleCredentials \r\n",
        "\r\n",
        "\r\n",
        "# Authenticate and create the PyDrive client. \r\n",
        "auth.authenticate_user() \r\n",
        "gauth = GoogleAuth() \r\n",
        "gauth.credentials = GoogleCredentials.get_application_default() \r\n",
        "drive = GoogleDrive(gauth)"
      ],
      "execution_count": 1,
      "outputs": []
    },
    {
      "cell_type": "code",
      "metadata": {
        "id": "aJtH6o8e51az"
      },
      "source": [
        "import pandas as pd\r\n",
        "link = 'https://drive.google.com/file/d/1u1gYmv2sDvoo_Lh6J1QyDlb_ldtiH2G5/view?usp=sharing'\r\n",
        "\r\n",
        "# Break up the string with / being the seperator and returns a list of strings. [-2] gets the second to last part of the list which is the ID.\r\n",
        "id = link.split(\"/\")[-2] \r\n",
        "  \r\n",
        "downloaded = drive.CreateFile({'id':id})  \r\n",
        "downloaded.GetContentFile('train.csv')   \r\n",
        "  \r\n",
        "df_train = pd.read_csv('train.csv') \r\n",
        "\r\n",
        "link = 'https://drive.google.com/file/d/1e-di8EI_pVCowDaZxb_SQlovzfKkB9_Z/view?usp=sharing'\r\n",
        "\r\n",
        "# to get the id part of the file \r\n",
        "id = link.split(\"/\")[-2] \r\n",
        "  \r\n",
        "downloaded = drive.CreateFile({'id':id})  \r\n",
        "downloaded.GetContentFile('test.csv')   \r\n",
        "  \r\n",
        "df_test = pd.read_csv('test.csv') \r\n"
      ],
      "execution_count": 2,
      "outputs": []
    },
    {
      "cell_type": "markdown",
      "metadata": {
        "id": "tYDmp9KGpiLB"
      },
      "source": [
        "# **Hier Daten laden** "
      ]
    },
    {
      "cell_type": "code",
      "metadata": {
        "id": "6fiZw_iSpfyT"
      },
      "source": [
        "#df_train = \r\n",
        "#df_test = "
      ],
      "execution_count": 3,
      "outputs": []
    },
    {
      "cell_type": "markdown",
      "metadata": {
        "id": "hDrZUjps3tzG"
      },
      "source": [
        "# **Business Understanding**"
      ]
    },
    {
      "cell_type": "markdown",
      "metadata": {
        "id": "wEm4rLWY9yIE"
      },
      "source": [
        "Wurde sich durch das zugehörige PDF-Dokument, in dem die Aufgabenstellung dargelegt wird, angeeignet."
      ]
    },
    {
      "cell_type": "markdown",
      "metadata": {
        "id": "5aCUeswZ5all"
      },
      "source": [
        "\r\n",
        "\r\n",
        "# **Data Understanding**"
      ]
    },
    {
      "cell_type": "markdown",
      "metadata": {
        "id": "8hVvkCiKO150"
      },
      "source": [
        "Wurde sich vorwiegend ebenfalls durch das zugehörige PDF-Dokument angeeignet, indem die Features sowie deren Ausprägungen kompakt und verständlich dargelegt wurden."
      ]
    },
    {
      "cell_type": "markdown",
      "metadata": {
        "id": "3eGfcYPq9rxP"
      },
      "source": [
        "Darstellung des Training-Datensatzes"
      ]
    },
    {
      "cell_type": "code",
      "metadata": {
        "id": "lAlvoY6T9pNN",
        "colab": {
          "base_uri": "https://localhost:8080/",
          "height": 415
        },
        "outputId": "f06525d6-81ab-4736-cda7-fb618e1519a0"
      },
      "source": [
        "df_train"
      ],
      "execution_count": 4,
      "outputs": [
        {
          "output_type": "execute_result",
          "data": {
            "text/html": [
              "<div>\n",
              "<style scoped>\n",
              "    .dataframe tbody tr th:only-of-type {\n",
              "        vertical-align: middle;\n",
              "    }\n",
              "\n",
              "    .dataframe tbody tr th {\n",
              "        vertical-align: top;\n",
              "    }\n",
              "\n",
              "    .dataframe thead th {\n",
              "        text-align: right;\n",
              "    }\n",
              "</style>\n",
              "<table border=\"1\" class=\"dataframe\">\n",
              "  <thead>\n",
              "    <tr style=\"text-align: right;\">\n",
              "      <th></th>\n",
              "      <th>transactionId</th>\n",
              "      <th>basket</th>\n",
              "      <th>customerType</th>\n",
              "      <th>totalAmount</th>\n",
              "      <th>returnLabel</th>\n",
              "    </tr>\n",
              "  </thead>\n",
              "  <tbody>\n",
              "    <tr>\n",
              "      <th>0</th>\n",
              "      <td>7934161612</td>\n",
              "      <td>[3]</td>\n",
              "      <td>existing</td>\n",
              "      <td>77.0</td>\n",
              "      <td>0</td>\n",
              "    </tr>\n",
              "    <tr>\n",
              "      <th>1</th>\n",
              "      <td>5308629088</td>\n",
              "      <td>[5, 3, 0, 3]</td>\n",
              "      <td>existing</td>\n",
              "      <td>64.0</td>\n",
              "      <td>0</td>\n",
              "    </tr>\n",
              "    <tr>\n",
              "      <th>2</th>\n",
              "      <td>1951363325</td>\n",
              "      <td>[3, 3, 1, 4]</td>\n",
              "      <td>new</td>\n",
              "      <td>308.0</td>\n",
              "      <td>1</td>\n",
              "    </tr>\n",
              "    <tr>\n",
              "      <th>3</th>\n",
              "      <td>6713597713</td>\n",
              "      <td>[2]</td>\n",
              "      <td>existing</td>\n",
              "      <td>74.0</td>\n",
              "      <td>0</td>\n",
              "    </tr>\n",
              "    <tr>\n",
              "      <th>4</th>\n",
              "      <td>8352683669</td>\n",
              "      <td>[4, 4, 4, 4]</td>\n",
              "      <td>new</td>\n",
              "      <td>324.0</td>\n",
              "      <td>1</td>\n",
              "    </tr>\n",
              "    <tr>\n",
              "      <th>...</th>\n",
              "      <td>...</td>\n",
              "      <td>...</td>\n",
              "      <td>...</td>\n",
              "      <td>...</td>\n",
              "      <td>...</td>\n",
              "    </tr>\n",
              "    <tr>\n",
              "      <th>24995</th>\n",
              "      <td>8178087221</td>\n",
              "      <td>[4, 3, 2, 4, 2, 2, 4, 1, 0]</td>\n",
              "      <td>new</td>\n",
              "      <td>756.0</td>\n",
              "      <td>1</td>\n",
              "    </tr>\n",
              "    <tr>\n",
              "      <th>24996</th>\n",
              "      <td>8955146476</td>\n",
              "      <td>[5, 5, 5, 0, 0, 2, 4, 1, 2, 4, 5, 2]</td>\n",
              "      <td>existing</td>\n",
              "      <td>600.0</td>\n",
              "      <td>0</td>\n",
              "    </tr>\n",
              "    <tr>\n",
              "      <th>24997</th>\n",
              "      <td>7770630838</td>\n",
              "      <td>[1, 3, 4, 4, 2, 0]</td>\n",
              "      <td>existing</td>\n",
              "      <td>252.0</td>\n",
              "      <td>0</td>\n",
              "    </tr>\n",
              "    <tr>\n",
              "      <th>24998</th>\n",
              "      <td>3758775159</td>\n",
              "      <td>[5, 3]</td>\n",
              "      <td>existing</td>\n",
              "      <td>66.0</td>\n",
              "      <td>0</td>\n",
              "    </tr>\n",
              "    <tr>\n",
              "      <th>24999</th>\n",
              "      <td>7697226342</td>\n",
              "      <td>[4, 4, 0, 3, 4]</td>\n",
              "      <td>new</td>\n",
              "      <td>170.0</td>\n",
              "      <td>1</td>\n",
              "    </tr>\n",
              "  </tbody>\n",
              "</table>\n",
              "<p>25000 rows × 5 columns</p>\n",
              "</div>"
            ],
            "text/plain": [
              "       transactionId  ... returnLabel\n",
              "0         7934161612  ...           0\n",
              "1         5308629088  ...           0\n",
              "2         1951363325  ...           1\n",
              "3         6713597713  ...           0\n",
              "4         8352683669  ...           1\n",
              "...              ...  ...         ...\n",
              "24995     8178087221  ...           1\n",
              "24996     8955146476  ...           0\n",
              "24997     7770630838  ...           0\n",
              "24998     3758775159  ...           0\n",
              "24999     7697226342  ...           1\n",
              "\n",
              "[25000 rows x 5 columns]"
            ]
          },
          "metadata": {
            "tags": []
          },
          "execution_count": 4
        }
      ]
    },
    {
      "cell_type": "markdown",
      "metadata": {
        "id": "TOJC9ro2Ohu4"
      },
      "source": [
        "Untersuchung des Datensatzes nach den Datentypen. Eine solche Untersuchung ist vor allem für die Data Preparation relevant, indem hiermit notwendige Datentransformationen herausgefiltert werden können."
      ]
    },
    {
      "cell_type": "code",
      "metadata": {
        "colab": {
          "base_uri": "https://localhost:8080/"
        },
        "id": "rvLliH7tOhDZ",
        "outputId": "ada2a2f2-d165-43d6-faa5-15dc8af10c09"
      },
      "source": [
        "df_train.dtypes"
      ],
      "execution_count": 5,
      "outputs": [
        {
          "output_type": "execute_result",
          "data": {
            "text/plain": [
              "transactionId      int64\n",
              "basket            object\n",
              "customerType      object\n",
              "totalAmount      float64\n",
              "returnLabel        int64\n",
              "dtype: object"
            ]
          },
          "metadata": {
            "tags": []
          },
          "execution_count": 5
        }
      ]
    },
    {
      "cell_type": "markdown",
      "metadata": {
        "id": "Sql-eCB09vJ8"
      },
      "source": [
        "Untersuchung des Datensatzes nach fehlenden Werten"
      ]
    },
    {
      "cell_type": "code",
      "metadata": {
        "colab": {
          "base_uri": "https://localhost:8080/"
        },
        "id": "DpikhQxM98KI",
        "outputId": "3ff5ea1a-ef03-4057-d317-6f677e315892"
      },
      "source": [
        "df_train.info()"
      ],
      "execution_count": 6,
      "outputs": [
        {
          "output_type": "stream",
          "text": [
            "<class 'pandas.core.frame.DataFrame'>\n",
            "RangeIndex: 25000 entries, 0 to 24999\n",
            "Data columns (total 5 columns):\n",
            " #   Column         Non-Null Count  Dtype  \n",
            "---  ------         --------------  -----  \n",
            " 0   transactionId  25000 non-null  int64  \n",
            " 1   basket         25000 non-null  object \n",
            " 2   customerType   24483 non-null  object \n",
            " 3   totalAmount    24516 non-null  float64\n",
            " 4   returnLabel    25000 non-null  int64  \n",
            "dtypes: float64(1), int64(2), object(2)\n",
            "memory usage: 976.7+ KB\n"
          ],
          "name": "stdout"
        }
      ]
    },
    {
      "cell_type": "markdown",
      "metadata": {
        "id": "JPz_3-pJemYb"
      },
      "source": [
        "**Hinweis: die nachfolgenden beiden Funktionen wurden aufgrund der Notwendigkeit zur Erstellung des Schaubildes vorgezogen und sind daher nicht, wie sonst üblich, im \"Data Preparation\" Part verankert. **"
      ]
    },
    {
      "cell_type": "markdown",
      "metadata": {
        "id": "-PtxvFqjebdl"
      },
      "source": [
        "Funktion, welche das Datenfeld des `basket` Features in eine Liste transformiert und dem Dataframe anhängt."
      ]
    },
    {
      "cell_type": "code",
      "metadata": {
        "id": "mcfShaKoebsG"
      },
      "source": [
        "import json\r\n",
        "def transform_basket_tolist(dfp):\r\n",
        "  print(dfp)\r\n",
        "  basket_list = dfp[\"basket\"].values.tolist()\r\n",
        "  new_basket_list = []\r\n",
        "  for x in basket_list:\r\n",
        "    basket = json.loads(x) #Transformation der basket_list Strings in Liste. Convert a json object/array to a python dict/list.\r\n",
        "    new_basket_list.append(basket)\r\n",
        "  dfp[\"basket_new\"] = new_basket_list\r\n",
        "  return dfp"
      ],
      "execution_count": 7,
      "outputs": []
    },
    {
      "cell_type": "markdown",
      "metadata": {
        "id": "YykIk_GGcqSW"
      },
      "source": [
        "Hilfsfunktion, die für die Erstellung des nachfolgenden Charts benötigt wird.\r\n",
        "Konkret wird mithilfe dieser Funktion die Gesamtsumme der verkauften Bücher pro Kategorie berechnet."
      ]
    },
    {
      "cell_type": "code",
      "metadata": {
        "id": "WTzeIpPfcqcf"
      },
      "source": [
        "def count_occurences(df):\r\n",
        "  df1 = df['basket_new'].explode() # Explode Function löst die Werte im Basket auf -> erstellt für jeden Wert eine neue Zeile, wobei der Zeilenindex der Ursprungstabelle als Referenz verwendet wird\r\n",
        "  df = df.join(pd.crosstab(df1.index, df1).add_prefix('Cat_')) # Crosstab: Aggregiert die Werte des df1 Dataframes anhand der Indizes -> Wie oft kommt dieser Wert im Index vor? -> Spalte für jeden Wert\r\n",
        "  return df\r\n"
      ],
      "execution_count": 8,
      "outputs": []
    },
    {
      "cell_type": "markdown",
      "metadata": {
        "id": "V4nfek-pclCR"
      },
      "source": [
        "Eine erste Analyse des Datensatzes, mit der die Anzahl der Rücksendungen pro Kategorie betrachtet werden sollen."
      ]
    },
    {
      "cell_type": "code",
      "metadata": {
        "colab": {
          "base_uri": "https://localhost:8080/",
          "height": 701
        },
        "id": "eXQQ2tPgclMI",
        "outputId": "a63bc5ed-bc52-4772-8569-333a542f0514"
      },
      "source": [
        "df_train_new = count_occurences(df=transform_basket_tolist(df_train))\r\n",
        "\r\n",
        "import matplotlib.pyplot as plt\r\n",
        "import numpy as np\r\n",
        "\r\n",
        "\r\n",
        "# Hole alle Rücksendungen aus dem Dataframe\r\n",
        "df_train_return = df_train_new[df_train['returnLabel']==1] \r\n",
        "\r\n",
        "cat_array = df_train_return.drop(columns=[\"totalAmount\",\"returnLabel\",\"transactionId\",\"basket\",\"basket_new\",\"customerType\"]) # Wirf alles bis auf die Kategorien raus \r\n",
        "\r\n",
        "# Wie viele Objekte sind im Dataframe vorhanden? Axis = 0 refers to the columns (you go down the column).\r\n",
        "df_calc = cat_array.sum(axis = 0, skipna = True) \r\n",
        "# Transformiere alle relevanten Spalten in ein NumpyArray, damit wir es im Barchart darstellen können \r\n",
        "#cat_array = df_calc.drop(columns=[\"totalAmount\",\"returnLabel\"]).to_numpy()\r\n",
        "\r\n",
        "print(df_calc)\r\n",
        "\r\n",
        "fig = plt.figure()\r\n",
        "# [left, bottom, width, height]\r\n",
        "ax = fig.add_axes([0,0,1,1])\r\n",
        "cats = ['Cat_0', 'Cat_1', 'Cat_2', 'Cat_3', 'Cat_4', 'Cat_5'] #Label für die X Achse \r\n",
        "\r\n",
        "\r\n",
        "ax.bar(cats,list(df_calc))\r\n",
        "plt.show()"
      ],
      "execution_count": 9,
      "outputs": [
        {
          "output_type": "stream",
          "text": [
            "       transactionId  ... returnLabel\n",
            "0         7934161612  ...           0\n",
            "1         5308629088  ...           0\n",
            "2         1951363325  ...           1\n",
            "3         6713597713  ...           0\n",
            "4         8352683669  ...           1\n",
            "...              ...  ...         ...\n",
            "24995     8178087221  ...           1\n",
            "24996     8955146476  ...           0\n",
            "24997     7770630838  ...           0\n",
            "24998     3758775159  ...           0\n",
            "24999     7697226342  ...           1\n",
            "\n",
            "[25000 rows x 5 columns]\n",
            "Cat_0     3065\n",
            "Cat_1     3185\n",
            "Cat_2     3056\n",
            "Cat_3     9498\n",
            "Cat_4    15835\n",
            "Cat_5        0\n",
            "dtype: int64\n"
          ],
          "name": "stdout"
        },
        {
          "output_type": "display_data",
          "data": {
            "image/png": "[encoded data removed]",
            "text/plain": [
              "<Figure size 432x288 with 1 Axes>"
            ]
          },
          "metadata": {
            "tags": [],
            "needs_background": "light"
          }
        }
      ]
    },
    {
      "cell_type": "markdown",
      "metadata": {
        "id": "m7hSxF7s5eVc"
      },
      "source": [
        "# **Data Preparation**\r\n",
        "\r\n",
        "Generell wurden die verschiedenen relevanten Transformationen ganz nach dem Prinzip der Modularisierung in verschiedene Funktionen untergliedert. Mithilfe dieser Modularisierung können Datensätze möglichst flexibel und individuell transformiert werden."
      ]
    },
    {
      "cell_type": "markdown",
      "metadata": {
        "id": "_Fj7fs5Y9qPv"
      },
      "source": [
        "Funktion, welche die Anzahl der bestellten Bücher ermittelt."
      ]
    },
    {
      "cell_type": "code",
      "metadata": {
        "id": "su3RCGgK93R9"
      },
      "source": [
        "import ast\r\n",
        "def calculate_basket_size(dfi):\r\n",
        "  # ast.literal_eval safely evaluates strings containing Python expressions without the need to parse the values oneself. \r\n",
        "  dfi[\"basket_size\"] = dfi.basket.apply(lambda x: len(ast.literal_eval(x))) # ast.literal_eval formatiert den String in das entsprechende Listen-Format \r\n",
        "  return dfi\r\n"
      ],
      "execution_count": 10,
      "outputs": []
    },
    {
      "cell_type": "markdown",
      "metadata": {
        "id": "S3qXksrw-ule"
      },
      "source": [
        "Funktion, welche die fehlenden Werte im Dataframe auffüllt."
      ]
    },
    {
      "cell_type": "code",
      "metadata": {
        "id": "AW4SR6LM8F6v"
      },
      "source": [
        "import statistics\r\n",
        "def fill_na(df):\r\n",
        "  df['totalAmount'].fillna((df['totalAmount'].mean()), inplace=True)\r\n",
        "  df[\"customerType\"].fillna(statistics.mode(df[\"customerType\"]), inplace= True)\r\n",
        "  return df\r\n",
        "# inplace=True -> direkt im Dataframe durchführen"
      ],
      "execution_count": 11,
      "outputs": []
    },
    {
      "cell_type": "markdown",
      "metadata": {
        "id": "Ecb6r3XA-lJT"
      },
      "source": [
        "Funktion zur Überprüfung, ob eine Buch-Kategorie im `basket` vorhanden ist. Konkreter: One Hot Encoding der Bücher-Kategorien."
      ]
    },
    {
      "cell_type": "code",
      "metadata": {
        "id": "h3ulC6UfJjdC"
      },
      "source": [
        "def cat_in_basket(dfi):\r\n",
        "  i=0\r\n",
        "  while i<=5:\r\n",
        "    cat=\"Cat_\"+str(i)\r\n",
        "    # .map() Returns a list of the results after applying the given function to each item of a given iterable (list, tuple etc.) \r\n",
        "    dfi[cat]=dfi[cat].map(lambda x: 1 if x > 0 else 0) # Gehe durch jede einzelne Kategorie, wenn Wert der Kategorie größer 1 ist -> setze Zelleninhalt auf 1\r\n",
        "    i=i+1\r\n",
        "  return dfi"
      ],
      "execution_count": 12,
      "outputs": []
    },
    {
      "cell_type": "markdown",
      "metadata": {
        "id": "7arVoANK-3NR"
      },
      "source": [
        "One Hot Encoding des `customerType`."
      ]
    },
    {
      "cell_type": "code",
      "metadata": {
        "id": "ZrUQVvgmhgnc"
      },
      "source": [
        "from pandas.api.types import is_string_dtype\r\n",
        "def map_customer(df): \r\n",
        "  if (is_string_dtype(df.customerType)):\r\n",
        "    df.customerType=df.customerType.map({'existing':1,'new':0})"
      ],
      "execution_count": 13,
      "outputs": []
    },
    {
      "cell_type": "markdown",
      "metadata": {
        "id": "qrexhU9RkQ9v"
      },
      "source": [
        "Funktion, die das Vorkommen einer Buchkategorie im Warenkorb in Form der absoluten Häufigkeit zählt."
      ]
    },
    {
      "cell_type": "code",
      "metadata": {
        "id": "GaY01W3q-vqf"
      },
      "source": [
        "def count_categories(dfi1): \r\n",
        "  df1 = dfi1['basket_new'].explode()\r\n",
        "  dfi1=dfi1[['customerType','totalAmount','returnLabel','basket_size']].join(pd.crosstab(df1.index, df1).add_prefix('Cat_'))\r\n",
        "  dfi1=dfi1[['customerType','Cat_0','Cat_1','Cat_2','Cat_3','Cat_4','Cat_5','totalAmount','returnLabel','basket_size']]\r\n",
        "  return dfi1"
      ],
      "execution_count": 14,
      "outputs": []
    },
    {
      "cell_type": "markdown",
      "metadata": {
        "id": "JZ1lq190_Cf3"
      },
      "source": [
        "Funktion, mit der das Rücksendeverhältnis / die Rücksendewahrscheinlichkeit einer Buchkategorie bestimmt wird."
      ]
    },
    {
      "cell_type": "code",
      "metadata": {
        "id": "V4Oe7BetDE7D"
      },
      "source": [
        "def cal_return_prob(dfi):\r\n",
        "    # Kennzahlen für den Bereich der Rücksendungen ermitteln \r\n",
        "    books_returned = dfi[dfi.returnLabel==1]\r\n",
        "    books_returned = books_returned.sum(axis = 0, skipna = True) #Summe aller Spalten -> dann nur die Kategorien rausfiltern \r\n",
        "    books_returned_array = books_returned[[\"Cat_0\",\"Cat_1\",\"Cat_2\",\"Cat_3\",\"Cat_4\",\"Cat_5\"]].to_numpy() #Convert the DataFrame to a NumPy array.\r\n",
        "    #Ergebnis: Anzahl der Bücher, die pro Kategorie zurückgeschickt wurden\r\n",
        "    all_books = dfi.sum(axis = 0, skipna = True)\r\n",
        "    all_books_array = all_books[[\"Cat_0\",\"Cat_1\",\"Cat_2\",\"Cat_3\",\"Cat_4\",\"Cat_5\"]].to_numpy()\r\n",
        "\r\n",
        "    #Berechne das Rücksendeverhältnis der einzelnen Kategorien \r\n",
        "    verhältnis = books_returned_array / all_books_array\r\n",
        "\r\n",
        "    return verhältnis"
      ],
      "execution_count": 15,
      "outputs": []
    },
    {
      "cell_type": "markdown",
      "metadata": {
        "id": "oYee780J_Rhj"
      },
      "source": [
        "Funktion, mit der die Rücksendewahrscheinlichkeit eines Warenkorbs berechnet wird."
      ]
    },
    {
      "cell_type": "code",
      "metadata": {
        "id": "BIsm7lr-dMOx"
      },
      "source": [
        "def return_prob(dfi):\r\n",
        "  \r\n",
        "  verhältnis = cal_return_prob(dfi)\r\n",
        "  df_return = dfi\r\n",
        "  df_return[\"basket_size\"] = df_return.Cat_0+ df_return.Cat_1+df_return.Cat_2+df_return.Cat_3+df_return.Cat_4+df_return.Cat_5\r\n",
        "  df_return[\"return_prob\"] = (df_return.Cat_0*verhältnis[0]+df_return.Cat_1*verhältnis[1]+df_return.Cat_2*verhältnis[2]+df_return.Cat_3*verhältnis[3]+df_return.Cat_4*verhältnis[4]+df_return.Cat_5*verhältnis[5])/(\r\n",
        "  df_return.basket_size)\r\n",
        "  return df_return"
      ],
      "execution_count": 16,
      "outputs": []
    },
    {
      "cell_type": "markdown",
      "metadata": {
        "id": "UWEVg_3d_Y7a"
      },
      "source": [
        "Funktion, mit der die am häufigsten im Warenkorb vorkommende Buchkategorie bestimmt wird."
      ]
    },
    {
      "cell_type": "code",
      "metadata": {
        "id": "t2aVMlDIDKCW"
      },
      "source": [
        "from collections import Counter\r\n",
        "def top_category(df):\r\n",
        "  df[\"top_cat\"] = df.basket_new.apply(lambda x: Counter(x).most_common(1)[0][0]) # Gibt ein sortiertes Array zurück, häufigster Wert steht an erster Stelle\r\n",
        "  return df"
      ],
      "execution_count": 17,
      "outputs": []
    },
    {
      "cell_type": "markdown",
      "metadata": {
        "id": "44q_4n9d_v19"
      },
      "source": [
        "Die für die Skalierung der Daten benötigten Funktionen."
      ]
    },
    {
      "cell_type": "code",
      "metadata": {
        "id": "tVZYePDq-mDD"
      },
      "source": [
        "from sklearn.preprocessing import StandardScaler\r\n",
        " \r\n",
        "#Funktion, um Scaler mit den Parametern zu erstellen\r\n",
        "def get_scaler(dfi):\r\n",
        "  scaler = StandardScaler()\r\n",
        "  df_for_scaling = dfi.drop(columns=['returnLabel'])\r\n",
        "  scaler = scaler.fit(df_for_scaling)\r\n",
        "  return scaler\r\n",
        " \r\n",
        "#Funktion, um Daten zu skalieren\r\n",
        "def scale_data(scaler,dfi):\r\n",
        "  df_for_scaling = dfi.drop(columns=['returnLabel'])\r\n",
        "  scaled_data = scaler.transform(df_for_scaling)\r\n",
        "  return scaled_data"
      ],
      "execution_count": 18,
      "outputs": []
    },
    {
      "cell_type": "markdown",
      "metadata": {
        "id": "QeA0ekYw_7fV"
      },
      "source": [
        "Die \"eigentliche\" finale Transformationsfunktion, die alle vorher aufgelisteten Funktionen zur Datenvorbereitung aufruft. Das Ergebnis dieses Ablaufs ist der finale für das Training bzw. das Testen zu verwendende Datensatz."
      ]
    },
    {
      "cell_type": "code",
      "metadata": {
        "id": "NtMcbMO7ATgG"
      },
      "source": [
        "\r\n",
        "def prepare_train(dfi): \r\n",
        "    dfi.drop(columns='transactionId',inplace=True)\r\n",
        "    y_train = dfi.returnLabel\r\n",
        "    dfi = fill_na(dfi)\r\n",
        "    map_customer(dfi)\r\n",
        "    dfi = calculate_basket_size(dfi)\r\n",
        "    dfi = transform_basket_tolist(dfi)\r\n",
        "    dfi =  top_category(dfi)\r\n",
        "    dfi = count_categories(dfi) \r\n",
        "    dfi = return_prob(dfi) \r\n",
        "    scaler = get_scaler(dfi)\r\n",
        "    x_train = scale_data(scaler,dfi)\r\n",
        "    \r\n",
        "    return x_train,y_train, scaler  \r\n",
        "\r\n",
        "def prepare_test(dfi,scaler): \r\n",
        "    dfi.dropna(axis=0, inplace=True)\r\n",
        "    df_test_Y = dfi.returnLabel\r\n",
        "    dfi = dfi.drop(columns=['transactionId'])\r\n",
        "    map_customer(dfi)\r\n",
        "    dfi = calculate_basket_size(dfi)\r\n",
        "    dfi = transform_basket_tolist(dfi)\r\n",
        "    dfi = top_category(dfi)\r\n",
        "    dfi = count_categories(dfi)\r\n",
        "    dfi = return_prob(dfi)\r\n",
        "    df_test_X = scale_data(scaler,dfi)\r\n",
        "    return df_test_X,df_test_Y"
      ],
      "execution_count": 19,
      "outputs": []
    },
    {
      "cell_type": "code",
      "metadata": {
        "colab": {
          "base_uri": "https://localhost:8080/"
        },
        "id": "IsCWTXW5cPOq",
        "outputId": "13099fa8-d9c0-48a5-cb1b-4914543469f1"
      },
      "source": [
        "X_train,y_train,scaler = prepare_train(df_train)\r\n",
        "\r\n"
      ],
      "execution_count": 20,
      "outputs": [
        {
          "output_type": "stream",
          "text": [
            "                                     basket  ...  basket_size\n",
            "0                                       [3]  ...            1\n",
            "1                              [5, 3, 0, 3]  ...            4\n",
            "2                              [3, 3, 1, 4]  ...            4\n",
            "3                                       [2]  ...            1\n",
            "4                              [4, 4, 4, 4]  ...            4\n",
            "...                                     ...  ...          ...\n",
            "24995           [4, 3, 2, 4, 2, 2, 4, 1, 0]  ...            9\n",
            "24996  [5, 5, 5, 0, 0, 2, 4, 1, 2, 4, 5, 2]  ...           12\n",
            "24997                    [1, 3, 4, 4, 2, 0]  ...            6\n",
            "24998                                [5, 3]  ...            2\n",
            "24999                       [4, 4, 0, 3, 4]  ...            5\n",
            "\n",
            "[25000 rows x 6 columns]\n"
          ],
          "name": "stdout"
        }
      ]
    },
    {
      "cell_type": "code",
      "metadata": {
        "colab": {
          "base_uri": "https://localhost:8080/"
        },
        "id": "2Jcb4lybgLCo",
        "outputId": "ba6e6dda-60b4-4aa9-dcc5-2faf41c43843"
      },
      "source": [
        "X_test,y_test = prepare_test(df_test,scaler)"
      ],
      "execution_count": 21,
      "outputs": [
        {
          "output_type": "stream",
          "text": [
            "                        basket  customerType  ...  returnLabel  basket_size\n",
            "0     [4, 0, 3, 4, 1, 4, 3, 4]             0  ...            1            8\n",
            "1                          [4]             1  ...            0            1\n",
            "2                    [1, 3, 5]             1  ...            0            3\n",
            "3                          [3]             1  ...            1            1\n",
            "4              [0, 0, 2, 5, 2]             1  ...            0            5\n",
            "...                        ...           ...  ...          ...          ...\n",
            "5995                 [3, 4, 4]             1  ...            1            3\n",
            "5996        [4, 4, 3, 4, 1, 4]             0  ...            1            6\n",
            "5997              [3, 4, 4, 4]             1  ...            0            4\n",
            "5998                    [5, 1]             1  ...            0            2\n",
            "5999  [1, 4, 5, 0, 3, 0, 3, 0]             1  ...            0            8\n",
            "\n",
            "[5744 rows x 5 columns]\n"
          ],
          "name": "stdout"
        }
      ]
    },
    {
      "cell_type": "markdown",
      "metadata": {
        "id": "VP9oSXSg5i1z"
      },
      "source": [
        "# Modeling"
      ]
    },
    {
      "cell_type": "markdown",
      "metadata": {
        "id": "gfhTja6Gg5W-"
      },
      "source": [
        "Hier erfolgt zunächst die Auswahl der besten Parameter, wobei mit eben diesen dann im Anschluss bereits das jeweilige ML-Modell trainiert wird."
      ]
    },
    {
      "cell_type": "markdown",
      "metadata": {
        "id": "X8h73mspkavp"
      },
      "source": [
        "Logistische Regression"
      ]
    },
    {
      "cell_type": "code",
      "metadata": {
        "colab": {
          "base_uri": "https://localhost:8080/"
        },
        "id": "sCzgn7tIHEOv",
        "outputId": "85762c6c-0dce-48ab-8ad6-03ab51c04ce7"
      },
      "source": [
        "from sklearn.linear_model import LogisticRegression\r\n",
        "from sklearn.model_selection import GridSearchCV\r\n",
        "\r\n",
        "parameter_candidates = [{'C': [0.1,1,4,5,6,10,30,100], 'penalty': ['l1','l2']}]\r\n",
        "clf_log = LogisticRegression(random_state=0)\r\n",
        "grid_clf_log = GridSearchCV(estimator=clf_log, param_grid=parameter_candidates, n_jobs=-1)\r\n",
        "grid_clf_log.fit(X_train, y_train)\r\n"
      ],
      "execution_count": 22,
      "outputs": [
        {
          "output_type": "execute_result",
          "data": {
            "text/plain": [
              "GridSearchCV(cv=None, error_score=nan,\n",
              "             estimator=LogisticRegression(C=1.0, class_weight=None, dual=False,\n",
              "                                          fit_intercept=True,\n",
              "                                          intercept_scaling=1, l1_ratio=None,\n",
              "                                          max_iter=100, multi_class='auto',\n",
              "                                          n_jobs=None, penalty='l2',\n",
              "                                          random_state=0, solver='lbfgs',\n",
              "                                          tol=0.0001, verbose=0,\n",
              "                                          warm_start=False),\n",
              "             iid='deprecated', n_jobs=-1,\n",
              "             param_grid=[{'C': [0.1, 1, 4, 5, 6, 10, 30, 100],\n",
              "                          'penalty': ['l1', 'l2']}],\n",
              "             pre_dispatch='2*n_jobs', refit=True, return_train_score=False,\n",
              "             scoring=None, verbose=0)"
            ]
          },
          "metadata": {
            "tags": []
          },
          "execution_count": 22
        }
      ]
    },
    {
      "cell_type": "code",
      "metadata": {
        "id": "tTX9-VXtfjLf",
        "colab": {
          "base_uri": "https://localhost:8080/"
        },
        "outputId": "fb9a896d-4d86-4178-ceff-31ee117038b4"
      },
      "source": [
        "log_reg_best_est_C= grid_clf_log.best_estimator_.C\r\n",
        "log_reg_best_est_pen=grid_clf_log.best_estimator_.penalty\r\n",
        "print('Best C:', grid_clf_log.best_estimator_.C) \r\n",
        "print('Best penalty:', grid_clf_log.best_estimator_.penalty)"
      ],
      "execution_count": 23,
      "outputs": [
        {
          "output_type": "stream",
          "text": [
            "Best C: 30\n",
            "Best penalty: l2\n"
          ],
          "name": "stdout"
        }
      ]
    },
    {
      "cell_type": "code",
      "metadata": {
        "colab": {
          "base_uri": "https://localhost:8080/"
        },
        "id": "yI1jHn83kI4N",
        "outputId": "ed423252-1d88-4340-d8b3-5af23f6a1371"
      },
      "source": [
        "#Trainieren des optimalen Modells\r\n",
        "clf_log = LogisticRegression(random_state=0, C=log_reg_best_est_C, penalty=log_reg_best_est_pen)\r\n",
        "clf_log.fit(X_train, y_train)"
      ],
      "execution_count": 24,
      "outputs": [
        {
          "output_type": "execute_result",
          "data": {
            "text/plain": [
              "LogisticRegression(C=30, class_weight=None, dual=False, fit_intercept=True,\n",
              "                   intercept_scaling=1, l1_ratio=None, max_iter=100,\n",
              "                   multi_class='auto', n_jobs=None, penalty='l2',\n",
              "                   random_state=0, solver='lbfgs', tol=0.0001, verbose=0,\n",
              "                   warm_start=False)"
            ]
          },
          "metadata": {
            "tags": []
          },
          "execution_count": 24
        }
      ]
    },
    {
      "cell_type": "markdown",
      "metadata": {
        "id": "ZtZ-VwuDkdTb"
      },
      "source": [
        "Random Forest"
      ]
    },
    {
      "cell_type": "code",
      "metadata": {
        "colab": {
          "base_uri": "https://localhost:8080/"
        },
        "id": "IYYZJIT2igPo",
        "outputId": "5ffc0579-15cc-4118-b4ce-e0a7ea69ed78"
      },
      "source": [
        "from sklearn.ensemble import RandomForestClassifier\r\n",
        "parameter_candidates = [{'n_estimators': [60,80,100,120,40], 'max_depth': [2,3,4,5]}]\r\n",
        "clf_rfc = RandomForestClassifier(random_state=0)\r\n",
        "grid_clf_rfc = GridSearchCV(estimator=clf_rfc, param_grid=parameter_candidates, n_jobs=-1)\r\n",
        "grid_clf_rfc.fit(X_train, y_train)"
      ],
      "execution_count": 25,
      "outputs": [
        {
          "output_type": "execute_result",
          "data": {
            "text/plain": [
              "GridSearchCV(cv=None, error_score=nan,\n",
              "             estimator=RandomForestClassifier(bootstrap=True, ccp_alpha=0.0,\n",
              "                                              class_weight=None,\n",
              "                                              criterion='gini', max_depth=None,\n",
              "                                              max_features='auto',\n",
              "                                              max_leaf_nodes=None,\n",
              "                                              max_samples=None,\n",
              "                                              min_impurity_decrease=0.0,\n",
              "                                              min_impurity_split=None,\n",
              "                                              min_samples_leaf=1,\n",
              "                                              min_samples_split=2,\n",
              "                                              min_weight_fraction_leaf=0.0,\n",
              "                                              n_estimators=100, n_jobs=None,\n",
              "                                              oob_score=False, random_state=0,\n",
              "                                              verbose=0, warm_start=False),\n",
              "             iid='deprecated', n_jobs=-1,\n",
              "             param_grid=[{'max_depth': [2, 3, 4, 5],\n",
              "                          'n_estimators': [60, 80, 100, 120, 40]}],\n",
              "             pre_dispatch='2*n_jobs', refit=True, return_train_score=False,\n",
              "             scoring=None, verbose=0)"
            ]
          },
          "metadata": {
            "tags": []
          },
          "execution_count": 25
        }
      ]
    },
    {
      "cell_type": "code",
      "metadata": {
        "colab": {
          "base_uri": "https://localhost:8080/"
        },
        "id": "oY4ekmP6kIea",
        "outputId": "0d18ba39-6007-44f5-fd8f-9a2b4340a3a6"
      },
      "source": [
        "ran_for_best_est_n=grid_clf_rfc.best_estimator_.n_estimators\r\n",
        "ran_for_best_est_depth=grid_clf_rfc.best_estimator_.max_depth\r\n",
        "print('Best n_estimators:', grid_clf_rfc.best_estimator_.n_estimators) \r\n",
        "print('Best max_depth:', grid_clf_rfc.best_estimator_.max_depth)"
      ],
      "execution_count": 26,
      "outputs": [
        {
          "output_type": "stream",
          "text": [
            "Best n_estimators: 80\n",
            "Best max_depth: 5\n"
          ],
          "name": "stdout"
        }
      ]
    },
    {
      "cell_type": "code",
      "metadata": {
        "colab": {
          "base_uri": "https://localhost:8080/"
        },
        "id": "64dR-udLk5HG",
        "outputId": "73af2582-e31d-4ea2-d111-b96cf310fc5f"
      },
      "source": [
        "clf_rfc = RandomForestClassifier(random_state=0, max_depth=ran_for_best_est_depth, n_estimators=ran_for_best_est_n)\r\n",
        "clf_rfc.fit(X_train, y_train)"
      ],
      "execution_count": 27,
      "outputs": [
        {
          "output_type": "execute_result",
          "data": {
            "text/plain": [
              "RandomForestClassifier(bootstrap=True, ccp_alpha=0.0, class_weight=None,\n",
              "                       criterion='gini', max_depth=5, max_features='auto',\n",
              "                       max_leaf_nodes=None, max_samples=None,\n",
              "                       min_impurity_decrease=0.0, min_impurity_split=None,\n",
              "                       min_samples_leaf=1, min_samples_split=2,\n",
              "                       min_weight_fraction_leaf=0.0, n_estimators=80,\n",
              "                       n_jobs=None, oob_score=False, random_state=0, verbose=0,\n",
              "                       warm_start=False)"
            ]
          },
          "metadata": {
            "tags": []
          },
          "execution_count": 27
        }
      ]
    },
    {
      "cell_type": "markdown",
      "metadata": {
        "id": "NkhTP5YClBV7"
      },
      "source": [
        "Gradient Boosting Tree"
      ]
    },
    {
      "cell_type": "code",
      "metadata": {
        "colab": {
          "base_uri": "https://localhost:8080/"
        },
        "id": "UpbwFCqFEnXW",
        "outputId": "1b9bb0fa-e184-4f94-da38-d3f4b368082a"
      },
      "source": [
        "from sklearn.ensemble import GradientBoostingClassifier\r\n",
        "parameter_candidates = [{'n_estimators': [60,80,100,120,40], 'max_depth': [2,3,4,5]}]\r\n",
        "clf_gbc = GradientBoostingClassifier(random_state=0)\r\n",
        "grid_clf_gbc = GridSearchCV(estimator=clf_gbc, param_grid=parameter_candidates, n_jobs=-1)\r\n",
        "grid_clf_gbc.fit(X_train, y_train)"
      ],
      "execution_count": 28,
      "outputs": [
        {
          "output_type": "execute_result",
          "data": {
            "text/plain": [
              "GridSearchCV(cv=None, error_score=nan,\n",
              "             estimator=GradientBoostingClassifier(ccp_alpha=0.0,\n",
              "                                                  criterion='friedman_mse',\n",
              "                                                  init=None, learning_rate=0.1,\n",
              "                                                  loss='deviance', max_depth=3,\n",
              "                                                  max_features=None,\n",
              "                                                  max_leaf_nodes=None,\n",
              "                                                  min_impurity_decrease=0.0,\n",
              "                                                  min_impurity_split=None,\n",
              "                                                  min_samples_leaf=1,\n",
              "                                                  min_samples_split=2,\n",
              "                                                  min_weight_fraction_leaf=0.0,\n",
              "                                                  n_estimators=100,\n",
              "                                                  n_iter_no_change=None,\n",
              "                                                  presort='deprecated',\n",
              "                                                  random_state=0, subsample=1.0,\n",
              "                                                  tol=0.0001,\n",
              "                                                  validation_fraction=0.1,\n",
              "                                                  verbose=0, warm_start=False),\n",
              "             iid='deprecated', n_jobs=-1,\n",
              "             param_grid=[{'max_depth': [2, 3, 4, 5],\n",
              "                          'n_estimators': [60, 80, 100, 120, 40]}],\n",
              "             pre_dispatch='2*n_jobs', refit=True, return_train_score=False,\n",
              "             scoring=None, verbose=0)"
            ]
          },
          "metadata": {
            "tags": []
          },
          "execution_count": 28
        }
      ]
    },
    {
      "cell_type": "code",
      "metadata": {
        "colab": {
          "base_uri": "https://localhost:8080/"
        },
        "id": "vSklX366lPZJ",
        "outputId": "3b15aa1a-7c55-460b-f12c-374c8ac9952e"
      },
      "source": [
        "grad_boost_best_est_n=grid_clf_gbc.best_estimator_.n_estimators\r\n",
        "grad_boost_best_est_depth=grid_clf_gbc.best_estimator_.max_depth\r\n",
        "print('Best n_estimators:', grid_clf_gbc.best_estimator_.n_estimators) \r\n",
        "print('Best max_depth:', grid_clf_gbc.best_estimator_.max_depth)"
      ],
      "execution_count": 29,
      "outputs": [
        {
          "output_type": "stream",
          "text": [
            "Best n_estimators: 100\n",
            "Best max_depth: 5\n"
          ],
          "name": "stdout"
        }
      ]
    },
    {
      "cell_type": "code",
      "metadata": {
        "colab": {
          "base_uri": "https://localhost:8080/"
        },
        "id": "vyozZLJ1ldLd",
        "outputId": "8e2be4c1-b72f-414b-a42d-5f0306338bc1"
      },
      "source": [
        "clf_gbc = GradientBoostingClassifier(random_state=0, max_depth=grad_boost_best_est_depth, n_estimators=grad_boost_best_est_n)\r\n",
        "clf_gbc.fit(X_train, y_train)"
      ],
      "execution_count": 30,
      "outputs": [
        {
          "output_type": "execute_result",
          "data": {
            "text/plain": [
              "GradientBoostingClassifier(ccp_alpha=0.0, criterion='friedman_mse', init=None,\n",
              "                           learning_rate=0.1, loss='deviance', max_depth=5,\n",
              "                           max_features=None, max_leaf_nodes=None,\n",
              "                           min_impurity_decrease=0.0, min_impurity_split=None,\n",
              "                           min_samples_leaf=1, min_samples_split=2,\n",
              "                           min_weight_fraction_leaf=0.0, n_estimators=100,\n",
              "                           n_iter_no_change=None, presort='deprecated',\n",
              "                           random_state=0, subsample=1.0, tol=0.0001,\n",
              "                           validation_fraction=0.1, verbose=0,\n",
              "                           warm_start=False)"
            ]
          },
          "metadata": {
            "tags": []
          },
          "execution_count": 30
        }
      ]
    },
    {
      "cell_type": "markdown",
      "metadata": {
        "id": "vZENZlIf5mOU"
      },
      "source": [
        "# Evaluation"
      ]
    },
    {
      "cell_type": "markdown",
      "metadata": {
        "id": "B3U06ab3hB3l"
      },
      "source": [
        "Nachdem die ML-Modelle mit den entsprechenden besten Parametern trainiert wurden, werden diese durch Anwendung auf den Testdatensatz evaluiert."
      ]
    },
    {
      "cell_type": "markdown",
      "metadata": {
        "id": "Nlgr1syTl7RG"
      },
      "source": [
        "Logistische Regression"
      ]
    },
    {
      "cell_type": "markdown",
      "metadata": {
        "id": "TGQH-qvIYZUO"
      },
      "source": [
        ""
      ]
    },
    {
      "cell_type": "code",
      "metadata": {
        "colab": {
          "base_uri": "https://localhost:8080/"
        },
        "id": "UEWAGxDDl8wK",
        "outputId": "fa60e832-e55d-4d16-b458-af022e99d093"
      },
      "source": [
        "\r\n",
        "from sklearn.metrics import accuracy_score\r\n",
        "from sklearn.metrics import precision_score\r\n",
        "from sklearn.metrics import recall_score\r\n",
        "\r\n",
        "log_predictions = clf_log.predict(X_test)\r\n",
        "log_acc=accuracy_score(y_test, log_predictions)\r\n",
        "log_prec=precision_score(y_test, log_predictions)\r\n",
        "log_rec=recall_score(y_test, log_predictions)\r\n",
        "\r\n",
        "print(\"Logistic Regression Accuracy:\"+ str(log_acc))\r\n",
        "print(\"Logistic Regression Precision:\"+ str(log_prec))\r\n",
        "print(\"Logistic Regression Recall:\"+ str(log_rec))"
      ],
      "execution_count": 31,
      "outputs": [
        {
          "output_type": "stream",
          "text": [
            "Logistic Regression Accuracy:0.9122562674094707\n",
            "Logistic Regression Precision:0.9087791495198903\n",
            "Logistic Regression Recall:0.78125\n"
          ],
          "name": "stdout"
        }
      ]
    },
    {
      "cell_type": "markdown",
      "metadata": {
        "id": "YDB0_DCtmjf7"
      },
      "source": [
        "Random Forest"
      ]
    },
    {
      "cell_type": "code",
      "metadata": {
        "colab": {
          "base_uri": "https://localhost:8080/"
        },
        "id": "_20nArUwmG76",
        "outputId": "279ea4a1-aafc-4711-f634-3e9a3553de0a"
      },
      "source": [
        "rfc_predictions = clf_rfc.predict(X_test)\r\n",
        "rfc_acc=accuracy_score(y_test, rfc_predictions)\r\n",
        "rfc_prec=precision_score(y_test, rfc_predictions)\r\n",
        "rfc_rec=recall_score(y_test, rfc_predictions)\r\n",
        "\r\n",
        "print(\"Random Forest Accuracy:\"+ str(rfc_acc))\r\n",
        "print(\"Random Forest Precision:\"+ str(rfc_prec))\r\n",
        "print(\"Random Forest Recall:\"+ str(rfc_rec))"
      ],
      "execution_count": 32,
      "outputs": [
        {
          "output_type": "stream",
          "text": [
            "Random Forest Accuracy:0.9089484679665738\n",
            "Random Forest Precision:0.8970886932972241\n",
            "Random Forest Recall:0.78125\n"
          ],
          "name": "stdout"
        }
      ]
    },
    {
      "cell_type": "markdown",
      "metadata": {
        "id": "qQACKC5ym0Xg"
      },
      "source": [
        "Gradient Boosting Classifier"
      ]
    },
    {
      "cell_type": "code",
      "metadata": {
        "colab": {
          "base_uri": "https://localhost:8080/"
        },
        "id": "GqLZIsUHmwNX",
        "outputId": "895076a5-eaca-497d-be48-a5770d5fd211"
      },
      "source": [
        "gbc_predictions = clf_gbc.predict(X_test)\r\n",
        "gbc_acc=accuracy_score(y_test, gbc_predictions)\r\n",
        "gbc_prec=precision_score(y_test, gbc_predictions)\r\n",
        "gbc_rec=recall_score(y_test, gbc_predictions)\r\n",
        "\r\n",
        "print(\"Gradient Boosting Accuracy:\"+ str(gbc_acc))\r\n",
        "print(\"Gradient Boosting Precision:\"+ str(gbc_prec))\r\n",
        "print(\"Gradient Boosting Recall:\"+ str(gbc_rec))"
      ],
      "execution_count": 33,
      "outputs": [
        {
          "output_type": "stream",
          "text": [
            "Gradient Boosting Accuracy:0.9129526462395543\n",
            "Gradient Boosting Precision:0.8873056994818653\n",
            "Gradient Boosting Recall:0.8077830188679245\n"
          ],
          "name": "stdout"
        }
      ]
    },
    {
      "cell_type": "code",
      "metadata": {
        "id": "4ruWol80_3R6"
      },
      "source": [
        "log_pd_dataframe = pd.DataFrame()\r\n",
        "log_pd_dataframe[\"log_predictions\"] = log_predictions.tolist()\r\n",
        "\r\n",
        "rfc_pd_dataframe = pd.DataFrame()\r\n",
        "rfc_pd_dataframe[\"rfc_predictions\"] = rfc_predictions.tolist()\r\n",
        "\r\n",
        "gbc_pd_dataframe = pd.DataFrame()\r\n",
        "gbc_pd_dataframe[\"gbc_predictions\"] = gbc_predictions.tolist()"
      ],
      "execution_count": 110,
      "outputs": []
    },
    {
      "cell_type": "code",
      "metadata": {
        "id": "XxvxJ3ULx405",
        "colab": {
          "base_uri": "https://localhost:8080/"
        },
        "outputId": "dd060e95-c1b3-4123-a766-e326750b25cf"
      },
      "source": [
        "#gbc_pd_dataframe.info()\r\n",
        "#y_test_dataframe.info()\r\n",
        "log_pd_dataframe.isna().sum()"
      ],
      "execution_count": 111,
      "outputs": [
        {
          "output_type": "execute_result",
          "data": {
            "text/plain": [
              "log_predictions    0\n",
              "dtype: int64"
            ]
          },
          "metadata": {
            "tags": []
          },
          "execution_count": 111
        }
      ]
    },
    {
      "cell_type": "code",
      "metadata": {
        "id": "F7Mt3l8HyYsE",
        "outputId": "0bde900f-372d-45f3-aa1c-aa0c75dc9e83",
        "colab": {
          "base_uri": "https://localhost:8080/",
          "height": 415
        }
      },
      "source": [
        "y_test_dataframe = pd.DataFrame()\r\n",
        "y_test_dataframe[\"actual_values\"] = y_test\r\n",
        "y_test_dataframe = y_test_dataframe.reset_index()\r\n",
        "y_test_dataframe= y_test_dataframe.drop(columns=\"index\")\r\n",
        "y_test_dataframe"
      ],
      "execution_count": 112,
      "outputs": [
        {
          "output_type": "execute_result",
          "data": {
            "text/html": [
              "<div>\n",
              "<style scoped>\n",
              "    .dataframe tbody tr th:only-of-type {\n",
              "        vertical-align: middle;\n",
              "    }\n",
              "\n",
              "    .dataframe tbody tr th {\n",
              "        vertical-align: top;\n",
              "    }\n",
              "\n",
              "    .dataframe thead th {\n",
              "        text-align: right;\n",
              "    }\n",
              "</style>\n",
              "<table border=\"1\" class=\"dataframe\">\n",
              "  <thead>\n",
              "    <tr style=\"text-align: right;\">\n",
              "      <th></th>\n",
              "      <th>actual_values</th>\n",
              "    </tr>\n",
              "  </thead>\n",
              "  <tbody>\n",
              "    <tr>\n",
              "      <th>0</th>\n",
              "      <td>1</td>\n",
              "    </tr>\n",
              "    <tr>\n",
              "      <th>1</th>\n",
              "      <td>0</td>\n",
              "    </tr>\n",
              "    <tr>\n",
              "      <th>2</th>\n",
              "      <td>0</td>\n",
              "    </tr>\n",
              "    <tr>\n",
              "      <th>3</th>\n",
              "      <td>1</td>\n",
              "    </tr>\n",
              "    <tr>\n",
              "      <th>4</th>\n",
              "      <td>0</td>\n",
              "    </tr>\n",
              "    <tr>\n",
              "      <th>...</th>\n",
              "      <td>...</td>\n",
              "    </tr>\n",
              "    <tr>\n",
              "      <th>5739</th>\n",
              "      <td>1</td>\n",
              "    </tr>\n",
              "    <tr>\n",
              "      <th>5740</th>\n",
              "      <td>1</td>\n",
              "    </tr>\n",
              "    <tr>\n",
              "      <th>5741</th>\n",
              "      <td>0</td>\n",
              "    </tr>\n",
              "    <tr>\n",
              "      <th>5742</th>\n",
              "      <td>0</td>\n",
              "    </tr>\n",
              "    <tr>\n",
              "      <th>5743</th>\n",
              "      <td>0</td>\n",
              "    </tr>\n",
              "  </tbody>\n",
              "</table>\n",
              "<p>5744 rows × 1 columns</p>\n",
              "</div>"
            ],
            "text/plain": [
              "      actual_values\n",
              "0                 1\n",
              "1                 0\n",
              "2                 0\n",
              "3                 1\n",
              "4                 0\n",
              "...             ...\n",
              "5739              1\n",
              "5740              1\n",
              "5741              0\n",
              "5742              0\n",
              "5743              0\n",
              "\n",
              "[5744 rows x 1 columns]"
            ]
          },
          "metadata": {
            "tags": []
          },
          "execution_count": 112
        }
      ]
    },
    {
      "cell_type": "code",
      "metadata": {
        "id": "k1rkGGncCvEC"
      },
      "source": [
        "log_pd_dataframe[\"actual_values\"] = y_test_dataframe\r\n",
        "rfc_pd_dataframe = rfc_pd_dataframe.join(y_test_dataframe)\r\n",
        "gbc_pd_dataframe = pd.merge(gbc_pd_dataframe, y_test_dataframe, left_index=True, right_index=True)"
      ],
      "execution_count": 113,
      "outputs": []
    },
    {
      "cell_type": "code",
      "metadata": {
        "id": "kmdMKJT4AgOQ"
      },
      "source": [
        "def false_predictions_index(dfi):\r\n",
        "  i=0\r\n",
        "  false_index = []\r\n",
        "  while i<dfi.index.size:\r\n",
        "    if dfi.iloc[i][0] != dfi.iloc[i][1]:\r\n",
        "      false_index.append(i)\r\n",
        "    i=i+1\r\n",
        "  return false_index"
      ],
      "execution_count": 114,
      "outputs": []
    },
    {
      "cell_type": "code",
      "metadata": {
        "id": "fAcW5lmOHihU"
      },
      "source": [
        "false_index_log_pd_dataframe = false_predictions_index(log_pd_dataframe)"
      ],
      "execution_count": 115,
      "outputs": []
    },
    {
      "cell_type": "code",
      "metadata": {
        "id": "C81zx0hXJh_7"
      },
      "source": [
        "false_index_rfc_pd_dataframe = false_predictions_index(rfc_pd_dataframe)"
      ],
      "execution_count": 116,
      "outputs": []
    },
    {
      "cell_type": "code",
      "metadata": {
        "id": "famiygjwJjie"
      },
      "source": [
        "false_index_gbc_pd_dataframe = false_predictions_index(gbc_pd_dataframe)"
      ],
      "execution_count": 117,
      "outputs": []
    },
    {
      "cell_type": "code",
      "metadata": {
        "colab": {
          "base_uri": "https://localhost:8080/"
        },
        "id": "S9L0JPFcLO7Y",
        "outputId": "d960aadb-be9b-45e3-bbf2-bd134357c470"
      },
      "source": [
        "set_log_pd = set()\r\n",
        "set_log_pd.update(false_index_log_pd_dataframe)\r\n",
        "\r\n",
        "set_rfc_pd = set()\r\n",
        "set_rfc_pd.update(false_index_rfc_pd_dataframe)\r\n",
        "\r\n",
        "set_gbc_pd = set()\r\n",
        "set_gbc_pd.update(false_index_gbc_pd_dataframe)\r\n",
        "\r\n",
        "intersection_set = set_log_pd.intersection(set_rfc_pd)\r\n",
        "intersection_set = intersection_set.intersection(set_gbc_pd)\r\n",
        "len(intersection_set)"
      ],
      "execution_count": 118,
      "outputs": [
        {
          "output_type": "execute_result",
          "data": {
            "text/plain": [
              "406"
            ]
          },
          "metadata": {
            "tags": []
          },
          "execution_count": 118
        }
      ]
    },
    {
      "cell_type": "markdown",
      "metadata": {
        "id": "hcqANy9DhOZw"
      },
      "source": [
        "# **Fazit:**\r\n",
        "\r\n",
        "Generell weisen alle drei Modelle unter Anwendung ihrer jeweils am optimalsten geeigneten Parameter extrem hohe Erkennungsraten auf. Der Gradient Boosting Classifier besitzt dabei eine minimal höhere Erkennungsrate als das Logistische Regressionsmodell, während das Modell des Random Forests im direkten Vergleich am \"schlechtesten\" abschneidet, wobei auch dieses Modell mit einer ca. 91%igen Erkennungsrate nicht erheblich schlechter als die anderen beiden ist.\r\n",
        "\r\n",
        "Bei der durch die Precision- und Recall-Raten erweiterte Betrachtung der Modelle lässt sich ebenfalls eine Empfehlung für den Gradient Boosting Classifier aussprechen, indem dieses Modell die höchste Recall-Rate aufweist. Gerade für den vorliegenden Anwendungsfall empfiehlt es sich, die Recall-Rate eines Modells ebenfalls zu berücksichtigen, indem hiermit die Gefahr zu einer fehlerhaften Voraussage des Modells untersucht werden kann.\r\n",
        "Konkret gilt es für den Bücher-Shop einen \"unnötigen Aufwand\" zu vermeiden, sodass die Anzahl der \"false negative\" Klassifizierungen möglichst gering gehalten werden sollte, um so den Aufwand für die Abwicklung einer Bestellung, welche sehr wahrscheinlich sowieso wieder zurückgeschickt wird, zu reduzieren."
      ]
    },
    {
      "cell_type": "code",
      "metadata": {
        "id": "9UVaphljkJ6z"
      },
      "source": [
        ""
      ],
      "execution_count": 42,
      "outputs": []
    }
  ]
}
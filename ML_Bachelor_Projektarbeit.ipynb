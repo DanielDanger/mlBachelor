{
  "nbformat": 4,
  "nbformat_minor": 0,
  "metadata": {
    "colab": {
      "name": "ML_Bachelor_Projektarbeit.ipynb",
      "provenance": [],
      "collapsed_sections": [],
      "include_colab_link": true
    },
    "kernelspec": {
      "name": "python3",
      "display_name": "Python 3"
    }
  },
  "cells": [
    {
      "cell_type": "markdown",
      "metadata": {
        "id": "view-in-github",
        "colab_type": "text"
      },
      "source": [
        "<a href=\"https://colab.research.google.com/github/DanielDanger/mlBachelor/blob/daniel/ML_Bachelor_Projektarbeit.ipynb\" target=\"_parent\"><img src=\"https://colab.research.google.com/assets/colab-badge.svg\" alt=\"Open In Colab\"/></a>"
      ]
    },
    {
      "cell_type": "markdown",
      "metadata": {
        "id": "tlp-hNwS6lYR"
      },
      "source": [
        "# **ML Bachelor Projekt**\r\n",
        "\r\n",
        "**Teamname: 285603**\r\n",
        "- Daniel Degenhardt - Matnr. 72387\r\n",
        "- Christoph Göbler - Matnr. 138478\r\n",
        "- Oktay Kutschera - Matnr. 74738\r\n"
      ]
    },
    {
      "cell_type": "markdown",
      "metadata": {
        "id": "uVLx5etp7yyj"
      },
      "source": [
        "## Erläuterung der Vorgehensweise:\r\n",
        "Zur Entwicklung der verschiedenen Machine Learning Modelle haben wir uns an dem im Bereich der Data Science oft verwendeten CRISP-DM Modell orientiert. Aufgrund der Relevanz für diese Arbeit, haben wir uns hierbei vor allem auf die Schritte der Data Preparation, des Modellings und der Evaluation konzentriert. "
      ]
    },
    {
      "cell_type": "markdown",
      "metadata": {
        "id": "Pr3C6MaR7NTT"
      },
      "source": [
        "### Erster Schritt: Laden der Datensätze in das Dokument & Importieren aller zunächst relevanten Libraries für die Arbeit in Google Colab"
      ]
    },
    {
      "cell_type": "code",
      "metadata": {
        "id": "wU4cCpL63NEi"
      },
      "source": [
        "from pydrive.auth import GoogleAuth \r\n",
        "from pydrive.drive import GoogleDrive \r\n",
        "from google.colab import auth \r\n",
        "from oauth2client.client import GoogleCredentials \r\n",
        "\r\n",
        "\r\n",
        "# Authenticate and create the PyDrive client. \r\n",
        "auth.authenticate_user() \r\n",
        "gauth = GoogleAuth() \r\n",
        "gauth.credentials = GoogleCredentials.get_application_default() \r\n",
        "drive = GoogleDrive(gauth)"
      ],
      "execution_count": 3,
      "outputs": []
    },
    {
      "cell_type": "code",
      "metadata": {
        "id": "aJtH6o8e51az"
      },
      "source": [
        "import pandas as pd\r\n",
        "link = 'https://drive.google.com/file/d/1u1gYmv2sDvoo_Lh6J1QyDlb_ldtiH2G5/view?usp=sharing'\r\n",
        "\r\n",
        "# to get the id part of the file \r\n",
        "id = link.split(\"/\")[-2] \r\n",
        "  \r\n",
        "downloaded = drive.CreateFile({'id':id})  \r\n",
        "downloaded.GetContentFile('train.csv')   \r\n",
        "  \r\n",
        "df_train = pd.read_csv('train.csv') \r\n",
        "\r\n",
        "link = 'https://drive.google.com/file/d/1e-di8EI_pVCowDaZxb_SQlovzfKkB9_Z/view?usp=sharing'\r\n",
        "\r\n",
        "# to get the id part of the file \r\n",
        "id = link.split(\"/\")[-2] \r\n",
        "  \r\n",
        "downloaded = drive.CreateFile({'id':id})  \r\n",
        "downloaded.GetContentFile('test.csv')   \r\n",
        "  \r\n",
        "\r\n"
      ],
      "execution_count": 4,
      "outputs": []
    },
    {
      "cell_type": "markdown",
      "metadata": {
        "id": "hDrZUjps3tzG"
      },
      "source": [
        "# **Business Understanding**"
      ]
    },
    {
      "cell_type": "markdown",
      "metadata": {
        "id": "wEm4rLWY9yIE"
      },
      "source": [
        "Wurde sich durch das zugehörige PDF Dokument, in dem die Aufgabenstellung dargelegt wird, angeeignet."
      ]
    },
    {
      "cell_type": "markdown",
      "metadata": {
        "id": "5aCUeswZ5all"
      },
      "source": [
        "\r\n",
        "\r\n",
        "# **Data Understanding**"
      ]
    },
    {
      "cell_type": "markdown",
      "metadata": {
        "id": "3eGfcYPq9rxP"
      },
      "source": [
        "Darstellung des Test-Datensatzes"
      ]
    },
    {
      "cell_type": "code",
      "metadata": {
        "colab": {
          "base_uri": "https://localhost:8080/",
          "height": 419
        },
        "id": "lAlvoY6T9pNN",
        "outputId": "c0a5c3af-9025-49a5-f58f-6a482e7ceca9"
      },
      "source": [
        "df_test = pd.read_csv('test.csv') \r\n",
        "df_test"
      ],
      "execution_count": 23,
      "outputs": [
        {
          "output_type": "execute_result",
          "data": {
            "text/html": [
              "<div>\n",
              "<style scoped>\n",
              "    .dataframe tbody tr th:only-of-type {\n",
              "        vertical-align: middle;\n",
              "    }\n",
              "\n",
              "    .dataframe tbody tr th {\n",
              "        vertical-align: top;\n",
              "    }\n",
              "\n",
              "    .dataframe thead th {\n",
              "        text-align: right;\n",
              "    }\n",
              "</style>\n",
              "<table border=\"1\" class=\"dataframe\">\n",
              "  <thead>\n",
              "    <tr style=\"text-align: right;\">\n",
              "      <th></th>\n",
              "      <th>transactionId</th>\n",
              "      <th>basket</th>\n",
              "      <th>customerType</th>\n",
              "      <th>totalAmount</th>\n",
              "      <th>returnLabel</th>\n",
              "    </tr>\n",
              "  </thead>\n",
              "  <tbody>\n",
              "    <tr>\n",
              "      <th>0</th>\n",
              "      <td>9605027322</td>\n",
              "      <td>[4, 0, 3, 4, 1, 4, 3, 4]</td>\n",
              "      <td>new</td>\n",
              "      <td>80.0</td>\n",
              "      <td>1</td>\n",
              "    </tr>\n",
              "    <tr>\n",
              "      <th>1</th>\n",
              "      <td>8315649406</td>\n",
              "      <td>[4]</td>\n",
              "      <td>existing</td>\n",
              "      <td>26.0</td>\n",
              "      <td>0</td>\n",
              "    </tr>\n",
              "    <tr>\n",
              "      <th>2</th>\n",
              "      <td>5151646801</td>\n",
              "      <td>[1, 3, 5]</td>\n",
              "      <td>existing</td>\n",
              "      <td>147.0</td>\n",
              "      <td>0</td>\n",
              "    </tr>\n",
              "    <tr>\n",
              "      <th>3</th>\n",
              "      <td>8101967972</td>\n",
              "      <td>[3]</td>\n",
              "      <td>existing</td>\n",
              "      <td>37.0</td>\n",
              "      <td>1</td>\n",
              "    </tr>\n",
              "    <tr>\n",
              "      <th>4</th>\n",
              "      <td>2887044104</td>\n",
              "      <td>[0, 0, 2, 5, 2]</td>\n",
              "      <td>existing</td>\n",
              "      <td>375.0</td>\n",
              "      <td>0</td>\n",
              "    </tr>\n",
              "    <tr>\n",
              "      <th>...</th>\n",
              "      <td>...</td>\n",
              "      <td>...</td>\n",
              "      <td>...</td>\n",
              "      <td>...</td>\n",
              "      <td>...</td>\n",
              "    </tr>\n",
              "    <tr>\n",
              "      <th>5995</th>\n",
              "      <td>8254392242</td>\n",
              "      <td>[3, 4, 4]</td>\n",
              "      <td>existing</td>\n",
              "      <td>192.0</td>\n",
              "      <td>1</td>\n",
              "    </tr>\n",
              "    <tr>\n",
              "      <th>5996</th>\n",
              "      <td>5691788621</td>\n",
              "      <td>[4, 4, 3, 4, 1, 4]</td>\n",
              "      <td>new</td>\n",
              "      <td>360.0</td>\n",
              "      <td>1</td>\n",
              "    </tr>\n",
              "    <tr>\n",
              "      <th>5997</th>\n",
              "      <td>1449561534</td>\n",
              "      <td>[3, 4, 4, 4]</td>\n",
              "      <td>existing</td>\n",
              "      <td>252.0</td>\n",
              "      <td>0</td>\n",
              "    </tr>\n",
              "    <tr>\n",
              "      <th>5998</th>\n",
              "      <td>9039960511</td>\n",
              "      <td>[5, 1]</td>\n",
              "      <td>existing</td>\n",
              "      <td>50.0</td>\n",
              "      <td>0</td>\n",
              "    </tr>\n",
              "    <tr>\n",
              "      <th>5999</th>\n",
              "      <td>9995451059</td>\n",
              "      <td>[1, 4, 5, 0, 3, 0, 3, 0]</td>\n",
              "      <td>existing</td>\n",
              "      <td>512.0</td>\n",
              "      <td>0</td>\n",
              "    </tr>\n",
              "  </tbody>\n",
              "</table>\n",
              "<p>6000 rows × 5 columns</p>\n",
              "</div>"
            ],
            "text/plain": [
              "      transactionId                    basket  ... totalAmount  returnLabel\n",
              "0        9605027322  [4, 0, 3, 4, 1, 4, 3, 4]  ...        80.0            1\n",
              "1        8315649406                       [4]  ...        26.0            0\n",
              "2        5151646801                 [1, 3, 5]  ...       147.0            0\n",
              "3        8101967972                       [3]  ...        37.0            1\n",
              "4        2887044104           [0, 0, 2, 5, 2]  ...       375.0            0\n",
              "...             ...                       ...  ...         ...          ...\n",
              "5995     8254392242                 [3, 4, 4]  ...       192.0            1\n",
              "5996     5691788621        [4, 4, 3, 4, 1, 4]  ...       360.0            1\n",
              "5997     1449561534              [3, 4, 4, 4]  ...       252.0            0\n",
              "5998     9039960511                    [5, 1]  ...        50.0            0\n",
              "5999     9995451059  [1, 4, 5, 0, 3, 0, 3, 0]  ...       512.0            0\n",
              "\n",
              "[6000 rows x 5 columns]"
            ]
          },
          "metadata": {
            "tags": []
          },
          "execution_count": 23
        }
      ]
    },
    {
      "cell_type": "markdown",
      "metadata": {
        "id": "Sql-eCB09vJ8"
      },
      "source": [
        "Untersuchung des Datensatzes nach fehlenden Werten"
      ]
    },
    {
      "cell_type": "code",
      "metadata": {
        "colab": {
          "base_uri": "https://localhost:8080/"
        },
        "id": "DpikhQxM98KI",
        "outputId": "493f9d35-0372-46fb-ed6c-9fa5aedd9ea1"
      },
      "source": [
        "df_test.info()"
      ],
      "execution_count": 24,
      "outputs": [
        {
          "output_type": "stream",
          "text": [
            "<class 'pandas.core.frame.DataFrame'>\n",
            "RangeIndex: 6000 entries, 0 to 5999\n",
            "Data columns (total 5 columns):\n",
            " #   Column         Non-Null Count  Dtype  \n",
            "---  ------         --------------  -----  \n",
            " 0   transactionId  6000 non-null   int64  \n",
            " 1   basket         6000 non-null   object \n",
            " 2   customerType   5876 non-null   object \n",
            " 3   totalAmount    5866 non-null   float64\n",
            " 4   returnLabel    6000 non-null   int64  \n",
            "dtypes: float64(1), int64(2), object(2)\n",
            "memory usage: 234.5+ KB\n"
          ],
          "name": "stdout"
        }
      ]
    },
    {
      "cell_type": "markdown",
      "metadata": {
        "id": "m7hSxF7s5eVc"
      },
      "source": [
        "# **Data Preparation**\r\n",
        "\r\n",
        "Generell wurden die verschiedenen relevanten Transformationen ganz nach dem Prinzip der Modularisierung in verschiedene Funktionen untergliedert. Mithilfe dieser Funktionen kann der Testdatensatz möglichst flexibel transformiert werden."
      ]
    },
    {
      "cell_type": "markdown",
      "metadata": {
        "id": "_Fj7fs5Y9qPv"
      },
      "source": [
        "Als erstes muss der `basket` in eine Liste transformiert werden -> dazu wird eine Funktion geschrieben. "
      ]
    },
    {
      "cell_type": "code",
      "metadata": {
        "id": "su3RCGgK93R9"
      },
      "source": [
        "import ast\r\n",
        "def calculate_basket_size(dfi): \r\n",
        "  dfi[\"basket_size\"] = dfi.basket.apply(lambda x: len(ast.literal_eval(x))) #\r\n",
        "  return dfi\r\n",
        "# Erklärung ast.literal_eval transformiert String in Liste, da die Größe des Baskets nur mithilfe einer Liste kalkuliert werden kann"
      ],
      "execution_count": 25,
      "outputs": []
    },
    {
      "cell_type": "markdown",
      "metadata": {
        "id": "S3qXksrw-ule"
      },
      "source": [
        "Funktion, welche die Fehlenden Werte im Dataframe füllt."
      ]
    },
    {
      "cell_type": "code",
      "metadata": {
        "id": "AW4SR6LM8F6v"
      },
      "source": [
        "import statistics\r\n",
        "def fill_na(df):\r\n",
        "  df['totalAmount'].fillna((df['totalAmount'].mean()), inplace=True)\r\n",
        "  df[\"customerType\"].fillna(statistics.mode(df[\"customerType\"]), inplace= True)\r\n",
        "  return df\r\n",
        "# inplace -> direkt im Dataframe durchführen"
      ],
      "execution_count": 26,
      "outputs": []
    },
    {
      "cell_type": "markdown",
      "metadata": {
        "id": "g-EhZKuoAxG5"
      },
      "source": [
        "Funktion, welche die Spalte `basket` in eine Liste transformiert und dem Dataframe anhängt."
      ]
    },
    {
      "cell_type": "code",
      "metadata": {
        "id": "VGjjVgPMAwaS"
      },
      "source": [
        "import json\r\n",
        "def transform_basket_tolist(dfp):\r\n",
        "  print(dfp)\r\n",
        "  basket_list = dfp[\"basket\"].values.tolist()\r\n",
        "  new_basket_list = []\r\n",
        "  for x in basket_list:\r\n",
        "    basket = json.loads(x) #Transformation der basket_list Strings in Liste\r\n",
        "    new_basket_list.append(basket)\r\n",
        "  dfp[\"basket_new\"] = new_basket_list\r\n",
        "  return dfp"
      ],
      "execution_count": 27,
      "outputs": []
    },
    {
      "cell_type": "code",
      "metadata": {
        "id": "22URLxzBDGK6"
      },
      "source": [
        "def count_occurences(df):\r\n",
        "  df1 = df['basket_new'].explode() # Explode Function löst die Werte im Basket auf -> erstellt für jeden Wert eine neue Zeile, wobei der Zeilenindex der Ursprungstabelle als Referenz verwendet wird\r\n",
        "  df = df.join(pd.crosstab(df1.index, df1).add_prefix('Cat_')) # Crosstab: Aggregiert die Werte des df1 Dataframes anhand der Indizes -> Wie oft kommt dieser Wert im Index vor? -> Spalte für jeden Wert\r\n",
        "  return df\r\n"
      ],
      "execution_count": 28,
      "outputs": []
    },
    {
      "cell_type": "markdown",
      "metadata": {
        "id": "Ecb6r3XA-lJT"
      },
      "source": [
        "Funktion zur Überprüfung, ob eine Kategorie im `basket` vorhanden ist. Konkreter: One Hot Encoding ebendieser verschiedenen Kategorie-Spalten."
      ]
    },
    {
      "cell_type": "code",
      "metadata": {
        "id": "h3ulC6UfJjdC"
      },
      "source": [
        "def cat_in_basket(dfi):\r\n",
        "  i=0\r\n",
        "  while i<=5:\r\n",
        "    cat=\"Cat_\"+str(i)\r\n",
        "    dfi[cat]=dfi[cat].map(lambda x: 1 if x > 0 else 0) # Gehe durch jede einzelne Kategorie, wenn Wert der Kategorie größer 1 ist -> setze Zelleninhalt auf 1\r\n",
        "    i=i+1\r\n",
        "  return dfi"
      ],
      "execution_count": 29,
      "outputs": []
    },
    {
      "cell_type": "markdown",
      "metadata": {
        "id": "7arVoANK-3NR"
      },
      "source": [
        "One Hot Encoding des `customerType`."
      ]
    },
    {
      "cell_type": "code",
      "metadata": {
        "id": "ZrUQVvgmhgnc"
      },
      "source": [
        "from pandas.api.types import is_string_dtype\r\n",
        "def map_customer(df): \r\n",
        "  if (is_string_dtype(df.customerType)):\r\n",
        "    df.customerType=df.customerType.map({'existing':1,'new':0})"
      ],
      "execution_count": 30,
      "outputs": []
    },
    {
      "cell_type": "code",
      "metadata": {
        "id": "GaY01W3q-vqf"
      },
      "source": [
        "# Funktion die Zählt, wie oft ist eine Kategorie in einem Warenkorb vorhanden\r\n",
        "def count_categories(dfi1): \r\n",
        "  df1 = dfi1['basket_new'].explode()\r\n",
        "  dfi1=dfi1[['customerType','totalAmount','returnLabel','basket_size']].join(pd.crosstab(df1.index, df1).add_prefix('Cat_'))\r\n",
        "  dfi1=dfi1[['customerType','Cat_0','Cat_1','Cat_2','Cat_3','Cat_4','Cat_5','totalAmount','returnLabel','basket_size']]\r\n",
        "  return dfi1"
      ],
      "execution_count": 41,
      "outputs": []
    },
    {
      "cell_type": "markdown",
      "metadata": {
        "id": "JZ1lq190_Cf3"
      },
      "source": [
        "Funktion, mit der das Rücksendeverhältnis / die Rücksendewahrscheinlichkeit einer Buchkategorie bestimmt wird."
      ]
    },
    {
      "cell_type": "code",
      "metadata": {
        "id": "V4Oe7BetDE7D"
      },
      "source": [
        "def cal_return_prob(dfi):\r\n",
        "    # Kennzahlen für den Bereich der Rücksendungen ermitteln \r\n",
        "    books_returned = dfi[dfi.returnLabel==1]\r\n",
        "    books_returned = books_returned.sum(axis = 0, skipna = True)\r\n",
        "    books_returned_array = books_returned[[\"Cat_0\",\"Cat_1\",\"Cat_2\",\"Cat_3\",\"Cat_4\",\"Cat_5\"]].to_numpy()  \r\n",
        "    #Ergebnis: Anzahl der Bücher, die pro Kategorie zurückgeschickt wurden\r\n",
        "    #Summe aller Spalten -> dann nur die Kategorien rausfiltern \r\n",
        "    all_books = dfi.sum(axis = 0, skipna = True)\r\n",
        "    all_books_array = all_books[[\"Cat_0\",\"Cat_1\",\"Cat_2\",\"Cat_3\",\"Cat_4\",\"Cat_5\"]].to_numpy()\r\n",
        "\r\n",
        "    #Berechne das Rücksendeverhältnis der einzelnen Kategorien \r\n",
        "    verhältnis = books_returned_array / all_books_array\r\n",
        "\r\n",
        "    return verhältnis"
      ],
      "execution_count": 42,
      "outputs": []
    },
    {
      "cell_type": "markdown",
      "metadata": {
        "id": "oYee780J_Rhj"
      },
      "source": [
        "Funktion, mit der die Rücksendewahrscheinlichkeit eines Warenkorbs kalkuliert wird."
      ]
    },
    {
      "cell_type": "code",
      "metadata": {
        "id": "BIsm7lr-dMOx"
      },
      "source": [
        "def return_prob(dfi):\r\n",
        "  \r\n",
        "  verhältnis = cal_return_prob(dfi)\r\n",
        "  df_return = dfi\r\n",
        "  df_return[\"basket_size\"] = df_return.Cat_0+ df_return.Cat_1+df_return.Cat_2+df_return.Cat_3+df_return.Cat_4+df_return.Cat_5\r\n",
        "  df_return[\"return_prob\"] = (df_return.Cat_0*verhältnis[0]+df_return.Cat_1*verhältnis[1]+df_return.Cat_2*verhältnis[2]+df_return.Cat_3*verhältnis[3]+df_return.Cat_4*verhältnis[4]+df_return.Cat_5*verhältnis[5])/(\r\n",
        "  df_return.basket_size)\r\n",
        "  return df_return"
      ],
      "execution_count": 43,
      "outputs": []
    },
    {
      "cell_type": "markdown",
      "metadata": {
        "id": "UWEVg_3d_Y7a"
      },
      "source": [
        "Funktion, mit der die am häufigsten im Warenkorb vorkommende Buchkategorie bestimmt wird."
      ]
    },
    {
      "cell_type": "code",
      "metadata": {
        "id": "t2aVMlDIDKCW"
      },
      "source": [
        "from collections import Counter\r\n",
        "def top_category(df):\r\n",
        "  df[\"top_cat\"] = df.basket_new.apply(lambda x: Counter(x).most_common(1)[0][0]) # Gibt ein sortiertes Array zurück, häufigster Wert steht an erster Stelle\r\n",
        "  return df"
      ],
      "execution_count": 44,
      "outputs": []
    },
    {
      "cell_type": "markdown",
      "metadata": {
        "id": "uKS27mli_hkF"
      },
      "source": [
        "Funktion zur Datenvorbereitung, wobei hier nur das relevante One Hot Encoding durchgeführt wird."
      ]
    },
    {
      "cell_type": "markdown",
      "metadata": {
        "id": "44q_4n9d_v19"
      },
      "source": [
        "Die für die Skalierung der Daten benötigten Funktionen."
      ]
    },
    {
      "cell_type": "code",
      "metadata": {
        "id": "tVZYePDq-mDD"
      },
      "source": [
        "from sklearn.preprocessing import StandardScaler\r\n",
        " \r\n",
        "#Funktion, um Scaler mit den Parametern zu erstellen\r\n",
        "def get_scaler(dfi):\r\n",
        "  scaler = StandardScaler()\r\n",
        "  df_for_scaling = dfi.drop(columns=['returnLabel'])\r\n",
        "  scaler = scaler.fit(df_for_scaling)\r\n",
        "  return scaler\r\n",
        " \r\n",
        "#Funktion, um Daten zu skalieren\r\n",
        "def scale_data(scaler,dfi):\r\n",
        "  df_for_scaling = dfi.drop(columns=['returnLabel'])\r\n",
        "  scaled_data = scaler.transform(df_for_scaling)\r\n",
        "  return scaled_data"
      ],
      "execution_count": 46,
      "outputs": []
    },
    {
      "cell_type": "markdown",
      "metadata": {
        "id": "QeA0ekYw_7fV"
      },
      "source": [
        "Die \"eigentliche\" finale Transformationsfunktion, die alle vorher aufgelisteten Funktionen zur Datenvorbereitung aufruft. Das Ergebnis dieses Ablaufs ist der finale für das Training bzw. das Testen zu verwendende Datensatz."
      ]
    },
    {
      "cell_type": "code",
      "metadata": {
        "id": "NtMcbMO7ATgG"
      },
      "source": [
        "\r\n",
        "def prepare_train(dfi): \r\n",
        "    #dfi.drop(columns='transactionId',inplace=True)\r\n",
        "    y_train = dfi.returnLabel\r\n",
        "    dfi = fill_na(dfi)\r\n",
        "    map_customer(dfi)\r\n",
        "    dfi = calculate_basket_size(dfi)\r\n",
        "    dfi = transform_basket_tolist(dfi)\r\n",
        "    dfi =  top_category(dfi)\r\n",
        "    # hier ist der Unterschied zur anderen prep. Funktion \r\n",
        "    dfi = count_categories(dfi) # Wichtig ist, dass diese Funktion vor der nächsten steht \r\n",
        "    #transform3 = cal_return_prob(transform2)\r\n",
        "    dfi = return_prob(dfi) \r\n",
        "    scaler = get_scaler(dfi)\r\n",
        "    x_train = scale_data(scaler,dfi)\r\n",
        "    \r\n",
        "    return x_train,y_train, scaler  \r\n",
        "\r\n",
        "def prepare_test(dfi,scaler): \r\n",
        "    dfi.dropna(axis=0, inplace=True)\r\n",
        "    df_test_Y = dfi.returnLabel\r\n",
        "    dfi = dfi.drop(columns=['transactionId'])\r\n",
        "    map_customer(dfi)\r\n",
        "    dfi = calculate_basket_size(dfi)\r\n",
        "    dfi = transform_basket_tolist(dfi)\r\n",
        "    dfi = top_category(dfi)\r\n",
        "    dfi = count_categories(dfi)\r\n",
        "    dfi = return_prob(dfi)\r\n",
        "    df_test_X = scale_data(scaler,dfi)\r\n",
        "    return df_test_X,df_test_Y"
      ],
      "execution_count": 47,
      "outputs": []
    },
    {
      "cell_type": "code",
      "metadata": {
        "colab": {
          "base_uri": "https://localhost:8080/",
          "height": 419
        },
        "id": "_oGmhpd7A3LW",
        "outputId": "435342fc-c0e4-4249-fddb-28a054827574"
      },
      "source": [
        "#x,scaler = prepare_train(df_test1)\r\n",
        "#df = pd.DataFrame(x, columns = [\"customerType\",\t\"Cat_0\",\t\"Cat_1\",\t\"Cat_2\",\t\"Cat_3\",\t\"Cat_4\",\t\"Cat_5\",\t\"totalAmount\"\t,\"basket_size\",\t\"return_prob\"])\r\n",
        "\r\n",
        "df_test"
      ],
      "execution_count": 48,
      "outputs": [
        {
          "output_type": "execute_result",
          "data": {
            "text/html": [
              "<div>\n",
              "<style scoped>\n",
              "    .dataframe tbody tr th:only-of-type {\n",
              "        vertical-align: middle;\n",
              "    }\n",
              "\n",
              "    .dataframe tbody tr th {\n",
              "        vertical-align: top;\n",
              "    }\n",
              "\n",
              "    .dataframe thead th {\n",
              "        text-align: right;\n",
              "    }\n",
              "</style>\n",
              "<table border=\"1\" class=\"dataframe\">\n",
              "  <thead>\n",
              "    <tr style=\"text-align: right;\">\n",
              "      <th></th>\n",
              "      <th>transactionId</th>\n",
              "      <th>basket</th>\n",
              "      <th>customerType</th>\n",
              "      <th>totalAmount</th>\n",
              "      <th>returnLabel</th>\n",
              "    </tr>\n",
              "  </thead>\n",
              "  <tbody>\n",
              "    <tr>\n",
              "      <th>0</th>\n",
              "      <td>9605027322</td>\n",
              "      <td>[4, 0, 3, 4, 1, 4, 3, 4]</td>\n",
              "      <td>new</td>\n",
              "      <td>80.0</td>\n",
              "      <td>1</td>\n",
              "    </tr>\n",
              "    <tr>\n",
              "      <th>1</th>\n",
              "      <td>8315649406</td>\n",
              "      <td>[4]</td>\n",
              "      <td>existing</td>\n",
              "      <td>26.0</td>\n",
              "      <td>0</td>\n",
              "    </tr>\n",
              "    <tr>\n",
              "      <th>2</th>\n",
              "      <td>5151646801</td>\n",
              "      <td>[1, 3, 5]</td>\n",
              "      <td>existing</td>\n",
              "      <td>147.0</td>\n",
              "      <td>0</td>\n",
              "    </tr>\n",
              "    <tr>\n",
              "      <th>3</th>\n",
              "      <td>8101967972</td>\n",
              "      <td>[3]</td>\n",
              "      <td>existing</td>\n",
              "      <td>37.0</td>\n",
              "      <td>1</td>\n",
              "    </tr>\n",
              "    <tr>\n",
              "      <th>4</th>\n",
              "      <td>2887044104</td>\n",
              "      <td>[0, 0, 2, 5, 2]</td>\n",
              "      <td>existing</td>\n",
              "      <td>375.0</td>\n",
              "      <td>0</td>\n",
              "    </tr>\n",
              "    <tr>\n",
              "      <th>...</th>\n",
              "      <td>...</td>\n",
              "      <td>...</td>\n",
              "      <td>...</td>\n",
              "      <td>...</td>\n",
              "      <td>...</td>\n",
              "    </tr>\n",
              "    <tr>\n",
              "      <th>5995</th>\n",
              "      <td>8254392242</td>\n",
              "      <td>[3, 4, 4]</td>\n",
              "      <td>existing</td>\n",
              "      <td>192.0</td>\n",
              "      <td>1</td>\n",
              "    </tr>\n",
              "    <tr>\n",
              "      <th>5996</th>\n",
              "      <td>5691788621</td>\n",
              "      <td>[4, 4, 3, 4, 1, 4]</td>\n",
              "      <td>new</td>\n",
              "      <td>360.0</td>\n",
              "      <td>1</td>\n",
              "    </tr>\n",
              "    <tr>\n",
              "      <th>5997</th>\n",
              "      <td>1449561534</td>\n",
              "      <td>[3, 4, 4, 4]</td>\n",
              "      <td>existing</td>\n",
              "      <td>252.0</td>\n",
              "      <td>0</td>\n",
              "    </tr>\n",
              "    <tr>\n",
              "      <th>5998</th>\n",
              "      <td>9039960511</td>\n",
              "      <td>[5, 1]</td>\n",
              "      <td>existing</td>\n",
              "      <td>50.0</td>\n",
              "      <td>0</td>\n",
              "    </tr>\n",
              "    <tr>\n",
              "      <th>5999</th>\n",
              "      <td>9995451059</td>\n",
              "      <td>[1, 4, 5, 0, 3, 0, 3, 0]</td>\n",
              "      <td>existing</td>\n",
              "      <td>512.0</td>\n",
              "      <td>0</td>\n",
              "    </tr>\n",
              "  </tbody>\n",
              "</table>\n",
              "<p>5744 rows × 5 columns</p>\n",
              "</div>"
            ],
            "text/plain": [
              "      transactionId                    basket  ... totalAmount  returnLabel\n",
              "0        9605027322  [4, 0, 3, 4, 1, 4, 3, 4]  ...        80.0            1\n",
              "1        8315649406                       [4]  ...        26.0            0\n",
              "2        5151646801                 [1, 3, 5]  ...       147.0            0\n",
              "3        8101967972                       [3]  ...        37.0            1\n",
              "4        2887044104           [0, 0, 2, 5, 2]  ...       375.0            0\n",
              "...             ...                       ...  ...         ...          ...\n",
              "5995     8254392242                 [3, 4, 4]  ...       192.0            1\n",
              "5996     5691788621        [4, 4, 3, 4, 1, 4]  ...       360.0            1\n",
              "5997     1449561534              [3, 4, 4, 4]  ...       252.0            0\n",
              "5998     9039960511                    [5, 1]  ...        50.0            0\n",
              "5999     9995451059  [1, 4, 5, 0, 3, 0, 3, 0]  ...       512.0            0\n",
              "\n",
              "[5744 rows x 5 columns]"
            ]
          },
          "metadata": {
            "tags": []
          },
          "execution_count": 48
        }
      ]
    },
    {
      "cell_type": "code",
      "metadata": {
        "colab": {
          "base_uri": "https://localhost:8080/"
        },
        "id": "IsCWTXW5cPOq",
        "outputId": "22d81673-e31a-4aed-c48d-b0b33c81edb6"
      },
      "source": [
        "X_train,y_train,scaler = prepare_train(df_train)\r\n",
        "X_test,y_test = prepare_test(df_test,scaler)\r\n",
        "\r\n"
      ],
      "execution_count": 49,
      "outputs": [
        {
          "output_type": "stream",
          "text": [
            "       transactionId  ... top_cat\n",
            "0         7934161612  ...       3\n",
            "1         5308629088  ...       3\n",
            "2         1951363325  ...       3\n",
            "3         6713597713  ...       2\n",
            "4         8352683669  ...       4\n",
            "...              ...  ...     ...\n",
            "24995     8178087221  ...       4\n",
            "24996     8955146476  ...       5\n",
            "24997     7770630838  ...       4\n",
            "24998     3758775159  ...       5\n",
            "24999     7697226342  ...       4\n",
            "\n",
            "[25000 rows x 8 columns]\n",
            "                        basket  customerType  ...  returnLabel  basket_size\n",
            "0     [4, 0, 3, 4, 1, 4, 3, 4]             0  ...            1            8\n",
            "1                          [4]             1  ...            0            1\n",
            "2                    [1, 3, 5]             1  ...            0            3\n",
            "3                          [3]             1  ...            1            1\n",
            "4              [0, 0, 2, 5, 2]             1  ...            0            5\n",
            "...                        ...           ...  ...          ...          ...\n",
            "5995                 [3, 4, 4]             1  ...            1            3\n",
            "5996        [4, 4, 3, 4, 1, 4]             0  ...            1            6\n",
            "5997              [3, 4, 4, 4]             1  ...            0            4\n",
            "5998                    [5, 1]             1  ...            0            2\n",
            "5999  [1, 4, 5, 0, 3, 0, 3, 0]             1  ...            0            8\n",
            "\n",
            "[5744 rows x 5 columns]\n"
          ],
          "name": "stdout"
        }
      ]
    },
    {
      "cell_type": "markdown",
      "metadata": {
        "id": "jiK1t8lHJXW9"
      },
      "source": [
        "Diese Funktion macht eine Darstellung, wie oft welche Buchkategorien in den Rücksenden enthalten waren.\r\n",
        "\r\n",
        "Das Teil muss isoliert betrachtet werden "
      ]
    },
    {
      "cell_type": "code",
      "metadata": {
        "id": "9h8pVu4p5sws"
      },
      "source": [
        "df_train_new = count_occurences(df=transform_basket_tolist(df_train))\r\n",
        "\r\n",
        "import matplotlib.pyplot as plt\r\n",
        "import numpy as np\r\n",
        "\r\n",
        "\r\n",
        "\r\n",
        "# Hole alle Rücksendungen aus dem Daframe\r\n",
        "df_train_return = df_train_new[df_train['returnLabel']==1] \r\n",
        "\r\n",
        "cat_array = df_train_return.drop(columns=[\"totalAmount\",\"returnLabel\",\"transactionId\",\"basket\",\"basket_new\",\"top_cat\",\"customerType\",\"basket_size\"]) # Wirf alles bis auf die Kategorien raus \r\n",
        "\r\n",
        "# Wie viele Objekte sind im Dataframe vorhanden? \r\n",
        "df_calc = cat_array.sum(axis = 0, skipna = True) \r\n",
        "# Transformiere alle relevaten Spalten in ein NumpyArray damit wir es im Barchart darstellen können \r\n",
        "#cat_array = df_calc.drop(columns=[\"totalAmount\",\"returnLabel\"]).to_numpy()\r\n",
        "\r\n",
        "print(df_calc)\r\n",
        "\r\n",
        "\r\n",
        "fig = plt.figure()\r\n",
        "ax = fig.add_axes([0,0,1,1])\r\n",
        "cats = ['Cat_0', 'Cat_1', 'Cat_2', 'Cat_3', 'Cat_4', 'Cat_5'] #Label für die X Achse \r\n",
        "\r\n",
        "\r\n",
        "ax.bar(cats,list(df_calc))\r\n",
        "plt.show()"
      ],
      "execution_count": null,
      "outputs": []
    },
    {
      "cell_type": "code",
      "metadata": {
        "colab": {
          "base_uri": "https://localhost:8080/",
          "height": 1000
        },
        "id": "0vv-w_R7L-ms",
        "outputId": "e610fb27-edec-4cc1-8b09-e9c1b3cc9de9"
      },
      "source": [
        "#Rausschmeissen? Geht meiner Meinung nach zu stark in die Data Science Richtung -> können wir hieraus für das ML Modell etwas lernen?\r\n",
        "\r\n",
        "import matplotlib.pyplot as plt\r\n",
        "import numpy as np\r\n",
        "\r\n",
        "\r\n",
        "df_train_new = count_occurences(df=transform_basket_tolist(df_train))\r\n",
        "\r\n",
        "N = 6\r\n",
        "books_returned = df_train_new[df_train['returnLabel']==1] \r\n",
        "books_notreturned = df_train_new[df_train['returnLabel']==0]\r\n",
        "\r\n",
        "\r\n",
        "ind = np.arange(N)    # the x locations for the groups\r\n",
        "width = 0.6       # the width of the bars: can also be len(x) sequence\r\n",
        "\r\n",
        "array_books_returned = books_returned.drop(columns=[\"totalAmount\",\"returnLabel\",\"transactionId\",\"basket\",\"basket_new\"]) \r\n",
        "df_calc_books_returned = array_books_returned.sum(axis = 0, skipna = True)\r\n",
        "print(array_books_returned)\r\n",
        "\r\n",
        "array_books_noreturned = books_notreturned.drop(columns=[\"totalAmount\",\"returnLabel\",\"transactionId\",\"basket\",\"basket_new\",\"customerType\"])\r\n",
        "df_calc_books_notreturned = array_books_noreturned.sum(axis = 0, skipna = True) # CustomerType wird automatisch geworfen \r\n",
        "\r\n",
        "plt.figure(figsize=(20,9))\r\n",
        "\r\n",
        "p1 = plt.bar(ind, list(df_calc_books_returned), width)\r\n",
        "p2 = plt.bar(ind, list(df_calc_books_notreturned), width,\r\n",
        "             bottom=list(df_calc_books_returned))\r\n",
        "\r\n",
        "\r\n",
        "plt.ylabel('Sum')\r\n",
        "plt.title('Book returned vs. not Returned')\r\n",
        "plt.xticks(ind, ('Cat_0','Cat_1', 'Cat_2', 'Cat_3', 'Cat_4', 'Cat_5'))\r\n",
        "plt.yticks(np.arange(0, 40000, 5000))\r\n",
        "plt.legend((p1[0], p2[0]), ('Books returned', 'Books no returned'))\r\n",
        "\r\n",
        "plt.show()\r\n"
      ],
      "execution_count": null,
      "outputs": [
        {
          "output_type": "stream",
          "text": [
            "       transactionId  ... top_cat\n",
            "0         7934161612  ...       3\n",
            "1         5308629088  ...       3\n",
            "2         1951363325  ...       3\n",
            "3         6713597713  ...       2\n",
            "4         8352683669  ...       4\n",
            "...              ...  ...     ...\n",
            "24995     8178087221  ...       4\n",
            "24996     8955146476  ...       5\n",
            "24997     7770630838  ...       4\n",
            "24998     3758775159  ...       5\n",
            "24999     7697226342  ...       4\n",
            "\n",
            "[25000 rows x 8 columns]\n",
            "       transactionId                                basket  ...  Cat_4  Cat_5\n",
            "0         7934161612                                   [3]  ...      0      0\n",
            "1         5308629088                          [5, 3, 0, 3]  ...      0      1\n",
            "2         1951363325                          [3, 3, 1, 4]  ...      1      0\n",
            "3         6713597713                                   [2]  ...      0      0\n",
            "4         8352683669                          [4, 4, 4, 4]  ...      4      0\n",
            "...              ...                                   ...  ...    ...    ...\n",
            "24995     8178087221           [4, 3, 2, 4, 2, 2, 4, 1, 0]  ...      3      0\n",
            "24996     8955146476  [5, 5, 5, 0, 0, 2, 4, 1, 2, 4, 5, 2]  ...      2      4\n",
            "24997     7770630838                    [1, 3, 4, 4, 2, 0]  ...      2      0\n",
            "24998     3758775159                                [5, 3]  ...      0      1\n",
            "24999     7697226342                       [4, 4, 0, 3, 4]  ...      3      0\n",
            "\n",
            "[25000 rows x 14 columns]\n",
            "       customerType  basket_size  top_cat  Cat_0  ...  Cat_2  Cat_3  Cat_4  Cat_5\n",
            "2                 0            4        3      0  ...      0      2      1      0\n",
            "4                 0            4        4      0  ...      0      0      4      0\n",
            "5                 0            4        4      0  ...      0      1      3      0\n",
            "6                 1            2        3      0  ...      0      1      1      0\n",
            "7                 0            5        4      0  ...      0      0      4      0\n",
            "...             ...          ...      ...    ...  ...    ...    ...    ...    ...\n",
            "24991             0            4        4      0  ...      0      1      3      0\n",
            "24992             1            6        2      0  ...      3      1      1      0\n",
            "24994             0            7        3      1  ...      0      3      2      0\n",
            "24995             0            9        4      1  ...      3      1      3      0\n",
            "24999             0            5        4      1  ...      0      1      3      0\n",
            "\n",
            "[7457 rows x 9 columns]\n"
          ],
          "name": "stdout"
        },
        {
          "output_type": "error",
          "ename": "ValueError",
          "evalue": "ignored",
          "traceback": [
            "\u001b[0;31m---------------------------------------------------------------------------\u001b[0m",
            "\u001b[0;31mValueError\u001b[0m                                Traceback (most recent call last)",
            "\u001b[0;32m<ipython-input-25-562fc677d15d>\u001b[0m in \u001b[0;36m<module>\u001b[0;34m()\u001b[0m\n\u001b[1;32m     22\u001b[0m \u001b[0mplt\u001b[0m\u001b[0;34m.\u001b[0m\u001b[0mfigure\u001b[0m\u001b[0;34m(\u001b[0m\u001b[0mfigsize\u001b[0m\u001b[0;34m=\u001b[0m\u001b[0;34m(\u001b[0m\u001b[0;36m20\u001b[0m\u001b[0;34m,\u001b[0m\u001b[0;36m9\u001b[0m\u001b[0;34m)\u001b[0m\u001b[0;34m)\u001b[0m\u001b[0;34m\u001b[0m\u001b[0;34m\u001b[0m\u001b[0m\n\u001b[1;32m     23\u001b[0m \u001b[0;34m\u001b[0m\u001b[0m\n\u001b[0;32m---> 24\u001b[0;31m \u001b[0mp1\u001b[0m \u001b[0;34m=\u001b[0m \u001b[0mplt\u001b[0m\u001b[0;34m.\u001b[0m\u001b[0mbar\u001b[0m\u001b[0;34m(\u001b[0m\u001b[0mind\u001b[0m\u001b[0;34m,\u001b[0m \u001b[0mlist\u001b[0m\u001b[0;34m(\u001b[0m\u001b[0mdf_calc_books_returned\u001b[0m\u001b[0;34m)\u001b[0m\u001b[0;34m,\u001b[0m \u001b[0mwidth\u001b[0m\u001b[0;34m)\u001b[0m\u001b[0;34m\u001b[0m\u001b[0;34m\u001b[0m\u001b[0m\n\u001b[0m\u001b[1;32m     25\u001b[0m p2 = plt.bar(ind, list(df_calc_books_notreturned), width,\n\u001b[1;32m     26\u001b[0m              bottom=list(df_calc_books_returned))\n",
            "\u001b[0;32m/usr/local/lib/python3.6/dist-packages/matplotlib/pyplot.py\u001b[0m in \u001b[0;36mbar\u001b[0;34m(x, height, width, bottom, align, data, **kwargs)\u001b[0m\n\u001b[1;32m   2407\u001b[0m     return gca().bar(\n\u001b[1;32m   2408\u001b[0m         \u001b[0mx\u001b[0m\u001b[0;34m,\u001b[0m \u001b[0mheight\u001b[0m\u001b[0;34m,\u001b[0m \u001b[0mwidth\u001b[0m\u001b[0;34m=\u001b[0m\u001b[0mwidth\u001b[0m\u001b[0;34m,\u001b[0m \u001b[0mbottom\u001b[0m\u001b[0;34m=\u001b[0m\u001b[0mbottom\u001b[0m\u001b[0;34m,\u001b[0m \u001b[0malign\u001b[0m\u001b[0;34m=\u001b[0m\u001b[0malign\u001b[0m\u001b[0;34m,\u001b[0m\u001b[0;34m\u001b[0m\u001b[0;34m\u001b[0m\u001b[0m\n\u001b[0;32m-> 2409\u001b[0;31m         **({\"data\": data} if data is not None else {}), **kwargs)\n\u001b[0m\u001b[1;32m   2410\u001b[0m \u001b[0;34m\u001b[0m\u001b[0m\n\u001b[1;32m   2411\u001b[0m \u001b[0;34m\u001b[0m\u001b[0m\n",
            "\u001b[0;32m/usr/local/lib/python3.6/dist-packages/matplotlib/__init__.py\u001b[0m in \u001b[0;36minner\u001b[0;34m(ax, data, *args, **kwargs)\u001b[0m\n\u001b[1;32m   1563\u001b[0m     \u001b[0;32mdef\u001b[0m \u001b[0minner\u001b[0m\u001b[0;34m(\u001b[0m\u001b[0max\u001b[0m\u001b[0;34m,\u001b[0m \u001b[0;34m*\u001b[0m\u001b[0margs\u001b[0m\u001b[0;34m,\u001b[0m \u001b[0mdata\u001b[0m\u001b[0;34m=\u001b[0m\u001b[0;32mNone\u001b[0m\u001b[0;34m,\u001b[0m \u001b[0;34m**\u001b[0m\u001b[0mkwargs\u001b[0m\u001b[0;34m)\u001b[0m\u001b[0;34m:\u001b[0m\u001b[0;34m\u001b[0m\u001b[0;34m\u001b[0m\u001b[0m\n\u001b[1;32m   1564\u001b[0m         \u001b[0;32mif\u001b[0m \u001b[0mdata\u001b[0m \u001b[0;32mis\u001b[0m \u001b[0;32mNone\u001b[0m\u001b[0;34m:\u001b[0m\u001b[0;34m\u001b[0m\u001b[0;34m\u001b[0m\u001b[0m\n\u001b[0;32m-> 1565\u001b[0;31m             \u001b[0;32mreturn\u001b[0m \u001b[0mfunc\u001b[0m\u001b[0;34m(\u001b[0m\u001b[0max\u001b[0m\u001b[0;34m,\u001b[0m \u001b[0;34m*\u001b[0m\u001b[0mmap\u001b[0m\u001b[0;34m(\u001b[0m\u001b[0msanitize_sequence\u001b[0m\u001b[0;34m,\u001b[0m \u001b[0margs\u001b[0m\u001b[0;34m)\u001b[0m\u001b[0;34m,\u001b[0m \u001b[0;34m**\u001b[0m\u001b[0mkwargs\u001b[0m\u001b[0;34m)\u001b[0m\u001b[0;34m\u001b[0m\u001b[0;34m\u001b[0m\u001b[0m\n\u001b[0m\u001b[1;32m   1566\u001b[0m \u001b[0;34m\u001b[0m\u001b[0m\n\u001b[1;32m   1567\u001b[0m         \u001b[0mbound\u001b[0m \u001b[0;34m=\u001b[0m \u001b[0mnew_sig\u001b[0m\u001b[0;34m.\u001b[0m\u001b[0mbind\u001b[0m\u001b[0;34m(\u001b[0m\u001b[0max\u001b[0m\u001b[0;34m,\u001b[0m \u001b[0;34m*\u001b[0m\u001b[0margs\u001b[0m\u001b[0;34m,\u001b[0m \u001b[0;34m**\u001b[0m\u001b[0mkwargs\u001b[0m\u001b[0;34m)\u001b[0m\u001b[0;34m\u001b[0m\u001b[0;34m\u001b[0m\u001b[0m\n",
            "\u001b[0;32m/usr/local/lib/python3.6/dist-packages/matplotlib/axes/_axes.py\u001b[0m in \u001b[0;36mbar\u001b[0;34m(self, x, height, width, bottom, align, **kwargs)\u001b[0m\n\u001b[1;32m   2340\u001b[0m         x, height, width, y, linewidth = np.broadcast_arrays(\n\u001b[1;32m   2341\u001b[0m             \u001b[0;31m# Make args iterable too.\u001b[0m\u001b[0;34m\u001b[0m\u001b[0;34m\u001b[0m\u001b[0;34m\u001b[0m\u001b[0m\n\u001b[0;32m-> 2342\u001b[0;31m             np.atleast_1d(x), height, width, y, linewidth)\n\u001b[0m\u001b[1;32m   2343\u001b[0m \u001b[0;34m\u001b[0m\u001b[0m\n\u001b[1;32m   2344\u001b[0m         \u001b[0;31m# Now that units have been converted, set the tick locations.\u001b[0m\u001b[0;34m\u001b[0m\u001b[0;34m\u001b[0m\u001b[0;34m\u001b[0m\u001b[0m\n",
            "\u001b[0;32m<__array_function__ internals>\u001b[0m in \u001b[0;36mbroadcast_arrays\u001b[0;34m(*args, **kwargs)\u001b[0m\n",
            "\u001b[0;32m/usr/local/lib/python3.6/dist-packages/numpy/lib/stride_tricks.py\u001b[0m in \u001b[0;36mbroadcast_arrays\u001b[0;34m(subok, *args)\u001b[0m\n\u001b[1;32m    256\u001b[0m     \u001b[0margs\u001b[0m \u001b[0;34m=\u001b[0m \u001b[0;34m[\u001b[0m\u001b[0mnp\u001b[0m\u001b[0;34m.\u001b[0m\u001b[0marray\u001b[0m\u001b[0;34m(\u001b[0m\u001b[0m_m\u001b[0m\u001b[0;34m,\u001b[0m \u001b[0mcopy\u001b[0m\u001b[0;34m=\u001b[0m\u001b[0;32mFalse\u001b[0m\u001b[0;34m,\u001b[0m \u001b[0msubok\u001b[0m\u001b[0;34m=\u001b[0m\u001b[0msubok\u001b[0m\u001b[0;34m)\u001b[0m \u001b[0;32mfor\u001b[0m \u001b[0m_m\u001b[0m \u001b[0;32min\u001b[0m \u001b[0margs\u001b[0m\u001b[0;34m]\u001b[0m\u001b[0;34m\u001b[0m\u001b[0;34m\u001b[0m\u001b[0m\n\u001b[1;32m    257\u001b[0m \u001b[0;34m\u001b[0m\u001b[0m\n\u001b[0;32m--> 258\u001b[0;31m     \u001b[0mshape\u001b[0m \u001b[0;34m=\u001b[0m \u001b[0m_broadcast_shape\u001b[0m\u001b[0;34m(\u001b[0m\u001b[0;34m*\u001b[0m\u001b[0margs\u001b[0m\u001b[0;34m)\u001b[0m\u001b[0;34m\u001b[0m\u001b[0;34m\u001b[0m\u001b[0m\n\u001b[0m\u001b[1;32m    259\u001b[0m \u001b[0;34m\u001b[0m\u001b[0m\n\u001b[1;32m    260\u001b[0m     \u001b[0;32mif\u001b[0m \u001b[0mall\u001b[0m\u001b[0;34m(\u001b[0m\u001b[0marray\u001b[0m\u001b[0;34m.\u001b[0m\u001b[0mshape\u001b[0m \u001b[0;34m==\u001b[0m \u001b[0mshape\u001b[0m \u001b[0;32mfor\u001b[0m \u001b[0marray\u001b[0m \u001b[0;32min\u001b[0m \u001b[0margs\u001b[0m\u001b[0;34m)\u001b[0m\u001b[0;34m:\u001b[0m\u001b[0;34m\u001b[0m\u001b[0;34m\u001b[0m\u001b[0m\n",
            "\u001b[0;32m/usr/local/lib/python3.6/dist-packages/numpy/lib/stride_tricks.py\u001b[0m in \u001b[0;36m_broadcast_shape\u001b[0;34m(*args)\u001b[0m\n\u001b[1;32m    187\u001b[0m     \u001b[0;31m# use the old-iterator because np.nditer does not handle size 0 arrays\u001b[0m\u001b[0;34m\u001b[0m\u001b[0;34m\u001b[0m\u001b[0;34m\u001b[0m\u001b[0m\n\u001b[1;32m    188\u001b[0m     \u001b[0;31m# consistently\u001b[0m\u001b[0;34m\u001b[0m\u001b[0;34m\u001b[0m\u001b[0;34m\u001b[0m\u001b[0m\n\u001b[0;32m--> 189\u001b[0;31m     \u001b[0mb\u001b[0m \u001b[0;34m=\u001b[0m \u001b[0mnp\u001b[0m\u001b[0;34m.\u001b[0m\u001b[0mbroadcast\u001b[0m\u001b[0;34m(\u001b[0m\u001b[0;34m*\u001b[0m\u001b[0margs\u001b[0m\u001b[0;34m[\u001b[0m\u001b[0;34m:\u001b[0m\u001b[0;36m32\u001b[0m\u001b[0;34m]\u001b[0m\u001b[0;34m)\u001b[0m\u001b[0;34m\u001b[0m\u001b[0;34m\u001b[0m\u001b[0m\n\u001b[0m\u001b[1;32m    190\u001b[0m     \u001b[0;31m# unfortunately, it cannot handle 32 or more arguments directly\u001b[0m\u001b[0;34m\u001b[0m\u001b[0;34m\u001b[0m\u001b[0;34m\u001b[0m\u001b[0m\n\u001b[1;32m    191\u001b[0m     \u001b[0;32mfor\u001b[0m \u001b[0mpos\u001b[0m \u001b[0;32min\u001b[0m \u001b[0mrange\u001b[0m\u001b[0;34m(\u001b[0m\u001b[0;36m32\u001b[0m\u001b[0;34m,\u001b[0m \u001b[0mlen\u001b[0m\u001b[0;34m(\u001b[0m\u001b[0margs\u001b[0m\u001b[0;34m)\u001b[0m\u001b[0;34m,\u001b[0m \u001b[0;36m31\u001b[0m\u001b[0;34m)\u001b[0m\u001b[0;34m:\u001b[0m\u001b[0;34m\u001b[0m\u001b[0;34m\u001b[0m\u001b[0m\n",
            "\u001b[0;31mValueError\u001b[0m: shape mismatch: objects cannot be broadcast to a single shape"
          ]
        },
        {
          "output_type": "display_data",
          "data": {
            "image/png": "[encoded data removed]",
            "text/plain": [
              "<Figure size 1440x648 with 1 Axes>"
            ]
          },
          "metadata": {
            "tags": [],
            "needs_background": "light"
          }
        }
      ]
    },
    {
      "cell_type": "code",
      "metadata": {
        "id": "AUKsr6BzLEqW",
        "colab": {
          "base_uri": "https://localhost:8080/",
          "height": 1000
        },
        "outputId": "6a2d2dd2-565e-4e59-c6c2-9d69e9f647ed"
      },
      "source": [
        "#Rausschmeissen? Geht meiner Meinung nach zu stark in die Data Science Richtung -> können wir hieraus für das ML Modell etwas lernen?\r\n",
        "\r\n",
        "import matplotlib.pyplot as plt\r\n",
        "import numpy as np\r\n",
        "\r\n",
        "\r\n",
        "df_train_new = count_occurences(df=transform_basket_tolist(df_train))\r\n",
        "\r\n",
        "N = 2\r\n",
        "returned_by_existing_customer = df_train_new[(df_train_new['returnLabel']==1) & (df_train_new['customerType'] == 'existing')][\"customerType\"].count()\r\n",
        "not_returned_by_existing_customer = df_train_new[(df_train_new['returnLabel']==0) & (df_train_new['customerType'] == 'existing')][\"customerType\"].count()\r\n",
        "\r\n",
        "returned_by_new_customer = df_train_new[(df_train_new['returnLabel']==1) & (df_train_new['customerType'] == 'new')][\"customerType\"].count()\r\n",
        "not_returned_by_new_customer = df_train_new[(df_train_new['returnLabel']==0) & (df_train_new['customerType'] == 'new')][\"customerType\"].count()\r\n",
        "\r\n",
        "ind = np.arange(N)    # the x locations for the groups\r\n",
        "width = 0.6       # the width of the bars: can also be len(x) sequence\r\n",
        "\r\n",
        "returned_list = list((returned_by_existing_customer,returned_by_new_customer))\r\n",
        "not_returned_list = list((not_returned_by_existing_customer,not_returned_by_new_customer))\r\n",
        "\r\n",
        "array_books_noreturned = books_notreturned.drop(columns=[\"totalAmount\",\"returnLabel\"])\r\n",
        "df_calc_books_notreturned = array_books_noreturned.sum(axis = 0, skipna = True)\r\n",
        "\r\n",
        "plt.figure(figsize=(20,9))\r\n",
        "\r\n",
        "p1 = plt.bar(ind,returned_list , width)\r\n",
        "p2 = plt.bar(ind, not_returned_list, width,\r\n",
        "             bottom=returned_list)\r\n",
        "\r\n",
        "\r\n",
        "plt.ylabel('Sum')\r\n",
        "plt.title('Book returned vs. not Returned')\r\n",
        "plt.xticks(ind, ('existing customer', 'new customer'))\r\n",
        "plt.yticks(np.arange(0, 40000, 5000))\r\n",
        "plt.legend((p1[0], p2[0]), ('Books returned', 'Books no returned'))\r\n",
        "\r\n",
        "plt.show()"
      ],
      "execution_count": null,
      "outputs": [
        {
          "output_type": "stream",
          "text": [
            "       transactionId  ... top_cat\n",
            "0         7934161612  ...       3\n",
            "1         5308629088  ...       3\n",
            "2         1951363325  ...       3\n",
            "3         6713597713  ...       2\n",
            "4         8352683669  ...       4\n",
            "...              ...  ...     ...\n",
            "24995     8178087221  ...       4\n",
            "24996     8955146476  ...       5\n",
            "24997     7770630838  ...       4\n",
            "24998     3758775159  ...       5\n",
            "24999     7697226342  ...       4\n",
            "\n",
            "[25000 rows x 8 columns]\n",
            "       transactionId                                basket  ...  Cat_4  Cat_5\n",
            "0         7934161612                                   [3]  ...      0      0\n",
            "1         5308629088                          [5, 3, 0, 3]  ...      0      1\n",
            "2         1951363325                          [3, 3, 1, 4]  ...      1      0\n",
            "3         6713597713                                   [2]  ...      0      0\n",
            "4         8352683669                          [4, 4, 4, 4]  ...      4      0\n",
            "...              ...                                   ...  ...    ...    ...\n",
            "24995     8178087221           [4, 3, 2, 4, 2, 2, 4, 1, 0]  ...      3      0\n",
            "24996     8955146476  [5, 5, 5, 0, 0, 2, 4, 1, 2, 4, 5, 2]  ...      2      4\n",
            "24997     7770630838                    [1, 3, 4, 4, 2, 0]  ...      2      0\n",
            "24998     3758775159                                [5, 3]  ...      0      1\n",
            "24999     7697226342                       [4, 4, 0, 3, 4]  ...      3      0\n",
            "\n",
            "[25000 rows x 14 columns]\n"
          ],
          "name": "stdout"
        },
        {
          "output_type": "display_data",
          "data": {
            "image/png": "[encoded data removed]",
            "text/plain": [
              "<Figure size 1440x648 with 1 Axes>"
            ]
          },
          "metadata": {
            "tags": [],
            "needs_background": "light"
          }
        }
      ]
    },
    {
      "cell_type": "code",
      "metadata": {
        "id": "6CNoy5ikXIv2"
      },
      "source": [
        "#Rausschmeissen? Geht meiner Meinung nach zu stark in die Data Science Richtung -> können wir hieraus für das ML Modell etwas lernen?\r\n",
        "\r\n",
        "df_train_new = count_occurences(df=transform_basket_tolist(df_train))\r\n",
        "\r\n",
        "N = 6\r\n",
        "books_returned = df_train_new[(df_train_new['returnLabel']==1) & (df_train_new['customerType'] == 'existing')] \r\n",
        "books_notreturned = df_train_new[(df_train_new['returnLabel']==0) & (df_train_new['customerType'] == 'existing')] \r\n",
        "\r\n",
        "\r\n",
        "books_returned_new_customer = df_train_new[(df_train_new['returnLabel']==1) & (df_train_new['customerType'] == 'new')] \r\n",
        "books_notreturned_new_customer = df_train_new[(df_train_new['returnLabel']==0) & (df_train_new['customerType'] == 'new')] \r\n",
        "\r\n",
        "\r\n",
        "\r\n",
        "ind = np.arange(N)    # the x locations for the groups\r\n",
        "width = 0.6       # the width of the bars: can also be len(x) sequence\r\n",
        "\r\n",
        "array_books_returned = books_returned.drop(columns=[\"totalAmount\",\"returnLabel\",\"transactionId\",\"basket\",\"basket_new\",\"customerType\"]) \r\n",
        "df_calc_books_returned = array_books_returned.sum(axis = 0, skipna = True)\r\n",
        "\r\n",
        "array_books_noreturned = books_notreturned.drop(columns=[\"totalAmount\",\"returnLabel\",\"transactionId\",\"basket\",\"basket_new\",\"customerType\"])\r\n",
        "df_calc_books_notreturned = array_books_noreturned.sum(axis = 0, skipna = True)\r\n",
        "\r\n",
        "############# New Customer ###########\r\n",
        "\r\n",
        "array_books_returned_new = books_returned_new_customer.drop(columns=[\"totalAmount\",\"returnLabel\",\"transactionId\",\"basket\",\"basket_new\",\"customerType\"]) \r\n",
        "df_calc_books_returned_new = array_books_returned_new.sum(axis = 0, skipna = True)\r\n",
        "\r\n",
        "\r\n",
        "array_books_noreturned_new = books_notreturned_new_customer.drop(columns=[\"totalAmount\",\"returnLabel\",\"transactionId\",\"basket\",\"basket_new\",\"customerType\"])\r\n",
        "df_calc_books_notreturned_new = array_books_noreturned_new.sum(axis = 0, skipna = True)\r\n",
        "\r\n",
        "############ ###################\r\n",
        "\r\n",
        "\r\n",
        "\r\n",
        "\r\n",
        "plt.figure(figsize=(20,9))\r\n",
        "\r\n",
        "p1 = plt.bar(ind, list(df_calc_books_returned), width)\r\n",
        "p2 = plt.bar(ind, list(df_calc_books_notreturned), width,\r\n",
        "             bottom=list(df_calc_books_returned))\r\n",
        "\r\n",
        "\r\n",
        "\r\n",
        "\r\n",
        "plt.ylabel('Sum')\r\n",
        "plt.title('Book returned vs. not Returned')\r\n",
        "plt.xticks(ind, ('Cat_0','Cat_1', 'Cat_2', 'Cat_3', 'Cat_4', 'Cat_5'))\r\n",
        "plt.yticks(np.arange(0, 40000, 5000))\r\n",
        "plt.legend((p1[0], p2[0]), ('Books returned', 'Books no returned'))\r\n",
        "\r\n",
        "plt.show()\r\n",
        "\r\n",
        "plt.figure(figsize=(20,9))\r\n",
        "\r\n",
        "p3 = plt.bar(ind, list(df_calc_books_returned_new), width)\r\n",
        "p4 = plt.bar(ind, list(df_calc_books_notreturned_new), width,\r\n",
        "             bottom=list(df_calc_books_notreturned_new))\r\n",
        "\r\n",
        "\r\n",
        "plt.ylabel('Sum')\r\n",
        "plt.title('Book returned vs. not Returned')\r\n",
        "plt.xticks(ind, ('Cat_0','Cat_1', 'Cat_2', 'Cat_3', 'Cat_4', 'Cat_5'))\r\n",
        "plt.yticks(np.arange(0, 40000, 5000))\r\n",
        "plt.legend((p3[0], p4[0]), ('Books returned', 'Books no returned'))\r\n",
        "\r\n",
        "plt.show()"
      ],
      "execution_count": null,
      "outputs": []
    },
    {
      "cell_type": "markdown",
      "metadata": {
        "id": "VP9oSXSg5i1z"
      },
      "source": [
        "# Modeling"
      ]
    },
    {
      "cell_type": "markdown",
      "metadata": {
        "id": "X8h73mspkavp"
      },
      "source": [
        "Logistische Regression"
      ]
    },
    {
      "cell_type": "code",
      "metadata": {
        "colab": {
          "base_uri": "https://localhost:8080/"
        },
        "id": "sCzgn7tIHEOv",
        "outputId": "73d08f84-f8ae-4bae-9d9c-dd3726ba8516"
      },
      "source": [
        "from sklearn.linear_model import LogisticRegression\r\n",
        "from sklearn.model_selection import GridSearchCV\r\n",
        "\r\n",
        "parameter_candidates = [{'C': [0.1,1,4,5,6,10,30,100], 'penalty': ['l1','l2']}]\r\n",
        "clf_log = LogisticRegression(random_state=0)\r\n",
        "grid_clf_log = GridSearchCV(estimator=clf_log, param_grid=parameter_candidates, n_jobs=-1)\r\n",
        "grid_clf_log.fit(X_train, y_train)\r\n"
      ],
      "execution_count": 50,
      "outputs": [
        {
          "output_type": "execute_result",
          "data": {
            "text/plain": [
              "GridSearchCV(cv=None, error_score=nan,\n",
              "             estimator=LogisticRegression(C=1.0, class_weight=None, dual=False,\n",
              "                                          fit_intercept=True,\n",
              "                                          intercept_scaling=1, l1_ratio=None,\n",
              "                                          max_iter=100, multi_class='auto',\n",
              "                                          n_jobs=None, penalty='l2',\n",
              "                                          random_state=0, solver='lbfgs',\n",
              "                                          tol=0.0001, verbose=0,\n",
              "                                          warm_start=False),\n",
              "             iid='deprecated', n_jobs=-1,\n",
              "             param_grid=[{'C': [0.1, 1, 4, 5, 6, 10, 30, 100],\n",
              "                          'penalty': ['l1', 'l2']}],\n",
              "             pre_dispatch='2*n_jobs', refit=True, return_train_score=False,\n",
              "             scoring=None, verbose=0)"
            ]
          },
          "metadata": {
            "tags": []
          },
          "execution_count": 50
        }
      ]
    },
    {
      "cell_type": "code",
      "metadata": {
        "id": "tTX9-VXtfjLf",
        "colab": {
          "base_uri": "https://localhost:8080/"
        },
        "outputId": "e9fe0c92-afcf-4801-d15f-7fb2c32c4549"
      },
      "source": [
        "log_reg_best_est_C= grid_clf_log.best_estimator_.C\r\n",
        "log_reg_best_est_pen=grid_clf_log.best_estimator_.penalty\r\n",
        "print('Best C:', grid_clf_log.best_estimator_.C) \r\n",
        "print('Best penalty:', grid_clf_log.best_estimator_.penalty)"
      ],
      "execution_count": 51,
      "outputs": [
        {
          "output_type": "stream",
          "text": [
            "Best C: 30\n",
            "Best penalty: l2\n"
          ],
          "name": "stdout"
        }
      ]
    },
    {
      "cell_type": "code",
      "metadata": {
        "colab": {
          "base_uri": "https://localhost:8080/"
        },
        "id": "yI1jHn83kI4N",
        "outputId": "b3f179de-118d-41cb-b3cc-90f0355ed018"
      },
      "source": [
        "#Trainieren des optimalen Modells\r\n",
        "clf_log = LogisticRegression(random_state=0, C=log_reg_best_est_C, penalty=log_reg_best_est_pen)\r\n",
        "clf_log.fit(X_train, y_train)"
      ],
      "execution_count": 52,
      "outputs": [
        {
          "output_type": "execute_result",
          "data": {
            "text/plain": [
              "LogisticRegression(C=30, class_weight=None, dual=False, fit_intercept=True,\n",
              "                   intercept_scaling=1, l1_ratio=None, max_iter=100,\n",
              "                   multi_class='auto', n_jobs=None, penalty='l2',\n",
              "                   random_state=0, solver='lbfgs', tol=0.0001, verbose=0,\n",
              "                   warm_start=False)"
            ]
          },
          "metadata": {
            "tags": []
          },
          "execution_count": 52
        }
      ]
    },
    {
      "cell_type": "markdown",
      "metadata": {
        "id": "ZtZ-VwuDkdTb"
      },
      "source": [
        "Random Forest"
      ]
    },
    {
      "cell_type": "code",
      "metadata": {
        "colab": {
          "base_uri": "https://localhost:8080/"
        },
        "id": "IYYZJIT2igPo",
        "outputId": "47ced1fe-77c5-45cd-afbd-21b2070e7ed2"
      },
      "source": [
        "from sklearn.ensemble import RandomForestClassifier\r\n",
        "parameter_candidates = [{'n_estimators': [60,80,100,120,40], 'max_depth': [2,3,4,5]}]\r\n",
        "clf_rfc = RandomForestClassifier(random_state=0)\r\n",
        "grid_clf_rfc = GridSearchCV(estimator=clf_rfc, param_grid=parameter_candidates, n_jobs=-1)\r\n",
        "grid_clf_rfc.fit(X_train, y_train)"
      ],
      "execution_count": 53,
      "outputs": [
        {
          "output_type": "execute_result",
          "data": {
            "text/plain": [
              "GridSearchCV(cv=None, error_score=nan,\n",
              "             estimator=RandomForestClassifier(bootstrap=True, ccp_alpha=0.0,\n",
              "                                              class_weight=None,\n",
              "                                              criterion='gini', max_depth=None,\n",
              "                                              max_features='auto',\n",
              "                                              max_leaf_nodes=None,\n",
              "                                              max_samples=None,\n",
              "                                              min_impurity_decrease=0.0,\n",
              "                                              min_impurity_split=None,\n",
              "                                              min_samples_leaf=1,\n",
              "                                              min_samples_split=2,\n",
              "                                              min_weight_fraction_leaf=0.0,\n",
              "                                              n_estimators=100, n_jobs=None,\n",
              "                                              oob_score=False, random_state=0,\n",
              "                                              verbose=0, warm_start=False),\n",
              "             iid='deprecated', n_jobs=-1,\n",
              "             param_grid=[{'max_depth': [2, 3, 4, 5],\n",
              "                          'n_estimators': [60, 80, 100, 120, 40]}],\n",
              "             pre_dispatch='2*n_jobs', refit=True, return_train_score=False,\n",
              "             scoring=None, verbose=0)"
            ]
          },
          "metadata": {
            "tags": []
          },
          "execution_count": 53
        }
      ]
    },
    {
      "cell_type": "code",
      "metadata": {
        "colab": {
          "base_uri": "https://localhost:8080/"
        },
        "id": "oY4ekmP6kIea",
        "outputId": "d18f476b-b324-4931-ed4c-59010653c59b"
      },
      "source": [
        "ran_for_best_est_n=grid_clf_rfc.best_estimator_.n_estimators\r\n",
        "ran_for_best_est_depth=grid_clf_rfc.best_estimator_.max_depth\r\n",
        "print('Best n_estimators:', grid_clf_rfc.best_estimator_.n_estimators) \r\n",
        "print('Best max_depth:', grid_clf_rfc.best_estimator_.max_depth)"
      ],
      "execution_count": 54,
      "outputs": [
        {
          "output_type": "stream",
          "text": [
            "Best n_estimators: 80\n",
            "Best max_depth: 5\n"
          ],
          "name": "stdout"
        }
      ]
    },
    {
      "cell_type": "code",
      "metadata": {
        "colab": {
          "base_uri": "https://localhost:8080/"
        },
        "id": "64dR-udLk5HG",
        "outputId": "27c119c9-1485-4b25-894e-12b4f87d08aa"
      },
      "source": [
        "clf_rfc = RandomForestClassifier(random_state=0, max_depth=ran_for_best_est_depth, n_estimators=ran_for_best_est_n)\r\n",
        "clf_rfc.fit(X_train, y_train)"
      ],
      "execution_count": 55,
      "outputs": [
        {
          "output_type": "execute_result",
          "data": {
            "text/plain": [
              "RandomForestClassifier(bootstrap=True, ccp_alpha=0.0, class_weight=None,\n",
              "                       criterion='gini', max_depth=5, max_features='auto',\n",
              "                       max_leaf_nodes=None, max_samples=None,\n",
              "                       min_impurity_decrease=0.0, min_impurity_split=None,\n",
              "                       min_samples_leaf=1, min_samples_split=2,\n",
              "                       min_weight_fraction_leaf=0.0, n_estimators=80,\n",
              "                       n_jobs=None, oob_score=False, random_state=0, verbose=0,\n",
              "                       warm_start=False)"
            ]
          },
          "metadata": {
            "tags": []
          },
          "execution_count": 55
        }
      ]
    },
    {
      "cell_type": "markdown",
      "metadata": {
        "id": "NkhTP5YClBV7"
      },
      "source": [
        "Gradient Boosting Tree"
      ]
    },
    {
      "cell_type": "code",
      "metadata": {
        "colab": {
          "base_uri": "https://localhost:8080/"
        },
        "id": "UpbwFCqFEnXW",
        "outputId": "130a6904-06ac-4dc9-90a9-30bd7c347222"
      },
      "source": [
        "from sklearn.ensemble import GradientBoostingClassifier\r\n",
        "parameter_candidates = [{'n_estimators': [60,80,100,120,40], 'max_depth': [2,3,4,5]}]\r\n",
        "clf_gbc = GradientBoostingClassifier(random_state=0)\r\n",
        "grid_clf_gbc = GridSearchCV(estimator=clf_gbc, param_grid=parameter_candidates, n_jobs=-1)\r\n",
        "grid_clf_gbc.fit(X_train, y_train)"
      ],
      "execution_count": 56,
      "outputs": [
        {
          "output_type": "execute_result",
          "data": {
            "text/plain": [
              "GridSearchCV(cv=None, error_score=nan,\n",
              "             estimator=GradientBoostingClassifier(ccp_alpha=0.0,\n",
              "                                                  criterion='friedman_mse',\n",
              "                                                  init=None, learning_rate=0.1,\n",
              "                                                  loss='deviance', max_depth=3,\n",
              "                                                  max_features=None,\n",
              "                                                  max_leaf_nodes=None,\n",
              "                                                  min_impurity_decrease=0.0,\n",
              "                                                  min_impurity_split=None,\n",
              "                                                  min_samples_leaf=1,\n",
              "                                                  min_samples_split=2,\n",
              "                                                  min_weight_fraction_leaf=0.0,\n",
              "                                                  n_estimators=100,\n",
              "                                                  n_iter_no_change=None,\n",
              "                                                  presort='deprecated',\n",
              "                                                  random_state=0, subsample=1.0,\n",
              "                                                  tol=0.0001,\n",
              "                                                  validation_fraction=0.1,\n",
              "                                                  verbose=0, warm_start=False),\n",
              "             iid='deprecated', n_jobs=-1,\n",
              "             param_grid=[{'max_depth': [2, 3, 4, 5],\n",
              "                          'n_estimators': [60, 80, 100, 120, 40]}],\n",
              "             pre_dispatch='2*n_jobs', refit=True, return_train_score=False,\n",
              "             scoring=None, verbose=0)"
            ]
          },
          "metadata": {
            "tags": []
          },
          "execution_count": 56
        }
      ]
    },
    {
      "cell_type": "code",
      "metadata": {
        "colab": {
          "base_uri": "https://localhost:8080/"
        },
        "id": "vSklX366lPZJ",
        "outputId": "e635181e-3102-407f-9e2d-d490ddc0bff0"
      },
      "source": [
        "grad_boost_best_est_n=grid_clf_gbc.best_estimator_.n_estimators\r\n",
        "grad_boost_best_est_depth=grid_clf_gbc.best_estimator_.max_depth\r\n",
        "print('Best n_estimators:', grid_clf_gbc.best_estimator_.n_estimators) \r\n",
        "print('Best max_depth:', grid_clf_gbc.best_estimator_.max_depth)"
      ],
      "execution_count": 57,
      "outputs": [
        {
          "output_type": "stream",
          "text": [
            "Best n_estimators: 100\n",
            "Best max_depth: 5\n"
          ],
          "name": "stdout"
        }
      ]
    },
    {
      "cell_type": "code",
      "metadata": {
        "colab": {
          "base_uri": "https://localhost:8080/"
        },
        "id": "vyozZLJ1ldLd",
        "outputId": "6d5c14c7-6727-48ee-d462-9bb5b5bab14e"
      },
      "source": [
        "clf_gbc = GradientBoostingClassifier(random_state=0, max_depth=grad_boost_best_est_depth, n_estimators=grad_boost_best_est_n)\r\n",
        "clf_gbc.fit(X_train, y_train)"
      ],
      "execution_count": 58,
      "outputs": [
        {
          "output_type": "execute_result",
          "data": {
            "text/plain": [
              "GradientBoostingClassifier(ccp_alpha=0.0, criterion='friedman_mse', init=None,\n",
              "                           learning_rate=0.1, loss='deviance', max_depth=5,\n",
              "                           max_features=None, max_leaf_nodes=None,\n",
              "                           min_impurity_decrease=0.0, min_impurity_split=None,\n",
              "                           min_samples_leaf=1, min_samples_split=2,\n",
              "                           min_weight_fraction_leaf=0.0, n_estimators=100,\n",
              "                           n_iter_no_change=None, presort='deprecated',\n",
              "                           random_state=0, subsample=1.0, tol=0.0001,\n",
              "                           validation_fraction=0.1, verbose=0,\n",
              "                           warm_start=False)"
            ]
          },
          "metadata": {
            "tags": []
          },
          "execution_count": 58
        }
      ]
    },
    {
      "cell_type": "markdown",
      "metadata": {
        "id": "vZENZlIf5mOU"
      },
      "source": [
        "# Evaluation"
      ]
    },
    {
      "cell_type": "markdown",
      "metadata": {
        "id": "Nlgr1syTl7RG"
      },
      "source": [
        "Logistische Regression"
      ]
    },
    {
      "cell_type": "code",
      "metadata": {
        "colab": {
          "base_uri": "https://localhost:8080/"
        },
        "id": "UEWAGxDDl8wK",
        "outputId": "7cbf8b76-6edf-490e-a084-4dfcae7f2bd5"
      },
      "source": [
        "\r\n",
        "from sklearn.metrics import accuracy_score\r\n",
        "from sklearn.metrics import precision_score\r\n",
        "from sklearn.metrics import recall_score\r\n",
        "\r\n",
        "log_predictions = clf_log.predict(X_test)\r\n",
        "log_acc=accuracy_score(y_test, log_predictions)\r\n",
        "log_prec=precision_score(y_test, log_predictions)\r\n",
        "log_rec=recall_score(y_test, log_predictions)\r\n",
        "\r\n",
        "print(\"Logistic Regression Accuracy:\"+ str(log_acc))\r\n",
        "print(\"Logistic Regression Precision:\"+ str(log_prec))\r\n",
        "print(\"Logistic Regression Recall:\"+ str(log_rec))"
      ],
      "execution_count": 59,
      "outputs": [
        {
          "output_type": "stream",
          "text": [
            "Logistic Regression Accuracy:0.9122562674094707\n",
            "Logistic Regression Precision:0.9087791495198903\n",
            "Logistic Regression Recall:0.78125\n"
          ],
          "name": "stdout"
        }
      ]
    },
    {
      "cell_type": "markdown",
      "metadata": {
        "id": "YDB0_DCtmjf7"
      },
      "source": [
        "Random Forest"
      ]
    },
    {
      "cell_type": "code",
      "metadata": {
        "colab": {
          "base_uri": "https://localhost:8080/"
        },
        "id": "_20nArUwmG76",
        "outputId": "edd77704-ae5f-45a4-823f-92c4f644f254"
      },
      "source": [
        "rfc_predictions = clf_rfc.predict(X_test)\r\n",
        "rfc_acc=accuracy_score(y_test, rfc_predictions)\r\n",
        "rfc_prec=precision_score(y_test, rfc_predictions)\r\n",
        "rfc_rec=recall_score(y_test, rfc_predictions)\r\n",
        "\r\n",
        "print(\"Random Forest Accuracy:\"+ str(rfc_acc))\r\n",
        "print(\"Random Forest Precision:\"+ str(rfc_prec))\r\n",
        "print(\"Random Forest Recall:\"+ str(rfc_rec))"
      ],
      "execution_count": 60,
      "outputs": [
        {
          "output_type": "stream",
          "text": [
            "Logistic Regression Accuracy:0.9089484679665738\n",
            "Logistic Regression Precision:0.8970886932972241\n",
            "Logistic Regression Recall:0.78125\n"
          ],
          "name": "stdout"
        }
      ]
    },
    {
      "cell_type": "markdown",
      "metadata": {
        "id": "qQACKC5ym0Xg"
      },
      "source": [
        "Gradient Boosting Classifier"
      ]
    },
    {
      "cell_type": "code",
      "metadata": {
        "colab": {
          "base_uri": "https://localhost:8080/"
        },
        "id": "GqLZIsUHmwNX",
        "outputId": "ddf4034d-33af-412b-cd38-c5d8868942a0"
      },
      "source": [
        "gbc_predictions = clf_gbc.predict(X_test)\r\n",
        "gbc_acc=accuracy_score(y_test, gbc_predictions)\r\n",
        "gbc_prec=precision_score(y_test, gbc_predictions)\r\n",
        "gbc_rec=recall_score(y_test, gbc_predictions)\r\n",
        "\r\n",
        "print(\"Gradient Boosting Accuracy:\"+ str(gbc_acc))\r\n",
        "print(\"Gradient Boosting Precision:\"+ str(gbc_prec))\r\n",
        "print(\"Gradient Boosting Recall:\"+ str(gbc_rec))"
      ],
      "execution_count": 61,
      "outputs": [
        {
          "output_type": "stream",
          "text": [
            "Logistic Regression Accuracy:0.9129526462395543\n",
            "Logistic Regression Precision:0.8873056994818653\n",
            "Logistic Regression Recall:0.8077830188679245\n"
          ],
          "name": "stdout"
        }
      ]
    },
    {
      "cell_type": "code",
      "metadata": {
        "id": "qewxzkiAnA-Z"
      },
      "source": [
        ""
      ],
      "execution_count": 61,
      "outputs": []
    }
  ]
}
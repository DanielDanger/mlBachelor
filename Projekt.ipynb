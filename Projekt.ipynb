{
  "nbformat": 4,
  "nbformat_minor": 0,
  "metadata": {
    "colab": {
      "name": "Projekt.ipynb",
      "provenance": [],
      "authorship_tag": "ABX9TyNwaMu4TdDhOxvDU7+aPIwc",
      "include_colab_link": true
    },
    "kernelspec": {
      "name": "python3",
      "display_name": "Python 3"
    }
  },
  "cells": [
    {
      "cell_type": "markdown",
      "metadata": {
        "id": "view-in-github",
        "colab_type": "text"
      },
      "source": [
        "<a href=\"https://colab.research.google.com/github/DanielDanger/mlBachelor/blob/main/Projekt.ipynb\" target=\"_parent\"><img src=\"https://colab.research.google.com/assets/colab-badge.svg\" alt=\"Open In Colab\"/></a>"
      ]
    },
    {
      "cell_type": "code",
      "metadata": {
        "id": "2Q1VYXkxr95o"
      },
      "source": [
        "import numpy as np\r\n",
        "import csv as csv\r\n",
        "import matplotlib.pyplot as plt\r\n",
        "import pandas as pd\r\n",
        "import itertools\r\n",
        "%matplotlib inline\r\n",
        "\r\n",
        "from pydrive.auth import GoogleAuth \r\n",
        "from pydrive.drive import GoogleDrive \r\n",
        "from google.colab import auth \r\n",
        "from oauth2client.client import GoogleCredentials \r\n",
        "\r\n",
        "# Authenticate and create the PyDrive client. \r\n",
        "auth.authenticate_user() \r\n",
        "gauth = GoogleAuth() \r\n",
        "gauth.credentials = GoogleCredentials.get_application_default() \r\n",
        "drive = GoogleDrive(gauth)"
      ],
      "execution_count": 24,
      "outputs": []
    },
    {
      "cell_type": "markdown",
      "metadata": {
        "id": "aS6fI4Dxti7o"
      },
      "source": [
        "Laden der Testdaten "
      ]
    },
    {
      "cell_type": "code",
      "metadata": {
        "colab": {
          "base_uri": "https://localhost:8080/"
        },
        "id": "5D6kTUrosSz4",
        "outputId": "7a4ca599-d779-4f9d-dc77-915a6fed2b28"
      },
      "source": [
        "link_test = 'https://drive.google.com/file/d/1072G70y5ZM1J0Wcj-zF4SJgMCpsVMdqg/view?usp=sharing'\r\n",
        "\r\n",
        "# to get the id part of the file \r\n",
        "id = link.split(\"/\")[-2] \r\n",
        "  \r\n",
        "downloaded = drive.CreateFile({'id':id})  \r\n",
        "downloaded.GetContentFile('test.csv')   \r\n",
        "\r\n",
        "#df_train = pd.read_csv('train.csv') \r\n",
        "df_test = pd.read_csv('test.csv') \r\n",
        "df_test.info()"
      ],
      "execution_count": 25,
      "outputs": [
        {
          "output_type": "stream",
          "text": [
            "<class 'pandas.core.frame.DataFrame'>\n",
            "RangeIndex: 6000 entries, 0 to 5999\n",
            "Data columns (total 5 columns):\n",
            " #   Column         Non-Null Count  Dtype  \n",
            "---  ------         --------------  -----  \n",
            " 0   transactionId  6000 non-null   int64  \n",
            " 1   basket         6000 non-null   object \n",
            " 2   customerType   5876 non-null   object \n",
            " 3   totalAmount    5866 non-null   float64\n",
            " 4   returnLabel    6000 non-null   int64  \n",
            "dtypes: float64(1), int64(2), object(2)\n",
            "memory usage: 234.5+ KB\n"
          ],
          "name": "stdout"
        }
      ]
    },
    {
      "cell_type": "markdown",
      "metadata": {
        "id": "xNw-HC8qt32A"
      },
      "source": [
        "Laden der Traindaten"
      ]
    },
    {
      "cell_type": "code",
      "metadata": {
        "id": "izvu9QY-tiPZ",
        "colab": {
          "base_uri": "https://localhost:8080/"
        },
        "outputId": "853d3fd9-32b2-4d7e-af07-59618f5726c8"
      },
      "source": [
        "link_train = 'https://drive.google.com/file/d/1YxQJjLoRp3HfJpNgHAlU80UtrbhQqqXo/view?usp=sharing'\r\n",
        "\r\n",
        "# to get the id part of the file \r\n",
        "id = link.split(\"/\")[-2] \r\n",
        "  \r\n",
        "downloaded = drive.CreateFile({'id':id})  \r\n",
        "downloaded.GetContentFile('train.csv')   \r\n",
        "\r\n",
        "#df_train = pd.read_csv('train.csv') \r\n",
        "df_train = pd.read_csv('train.csv') \r\n",
        "df_train.info()"
      ],
      "execution_count": 26,
      "outputs": [
        {
          "output_type": "stream",
          "text": [
            "<class 'pandas.core.frame.DataFrame'>\n",
            "RangeIndex: 6000 entries, 0 to 5999\n",
            "Data columns (total 5 columns):\n",
            " #   Column         Non-Null Count  Dtype  \n",
            "---  ------         --------------  -----  \n",
            " 0   transactionId  6000 non-null   int64  \n",
            " 1   basket         6000 non-null   object \n",
            " 2   customerType   5876 non-null   object \n",
            " 3   totalAmount    5866 non-null   float64\n",
            " 4   returnLabel    6000 non-null   int64  \n",
            "dtypes: float64(1), int64(2), object(2)\n",
            "memory usage: 234.5+ KB\n"
          ],
          "name": "stdout"
        }
      ]
    },
    {
      "cell_type": "markdown",
      "metadata": {
        "id": "xbSD66Jh7r8C"
      },
      "source": [
        "![CRISP-DM.png](data:image/png;base64,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)"
      ]
    },
    {
      "cell_type": "markdown",
      "metadata": {
        "id": "ky79NC0vvB7R"
      },
      "source": [
        "Im ersten Schritt wird eine Datenanalyse / Bereinigung durchgeführt - also welche NA-Werte sind im Datensatz vorhanden. Bei Numerischen werden diese dann durch den Mittelwert des jeweiligen Features ersetzt. Bei nicht numerischen Werten, wird der Modus eingesetzt. \r\n"
      ]
    },
    {
      "cell_type": "code",
      "metadata": {
        "colab": {
          "base_uri": "https://localhost:8080/"
        },
        "id": "dsRpk4R59Orx",
        "outputId": "dd1e8e11-5226-40d7-d0a2-c30dbb9a55b2"
      },
      "source": [
        " df_train.drop(columns=['transactionId']) #Spalte mit Transaction ID rauswerden - ist eine fortlaufende Nummer mit der wir so nichts anfangen können. \r\n",
        " \r\n",
        " df_train[\"totalAmount\"].isna().sum() # Gibt es NAN Werte in total Amount?  \r\n",
        " df_train[\"customerType\"].isna().sum() #"
      ],
      "execution_count": 28,
      "outputs": [
        {
          "output_type": "execute_result",
          "data": {
            "text/plain": [
              "134"
            ]
          },
          "metadata": {
            "tags": []
          },
          "execution_count": 28
        }
      ]
    },
    {
      "cell_type": "code",
      "metadata": {
        "colab": {
          "base_uri": "https://localhost:8080/",
          "height": 204
        },
        "id": "hknnq9OOCNY7",
        "outputId": "9b0c2a43-da48-497c-d02f-65787d4c5c64"
      },
      "source": [
        "percent_missing = df_train.isnull().sum() * 100 / len(df_train)  # Ermittel pro Spalte, wie viel % der Daten fehlen dafür zähle pro Spalte die fehlenden Werte multipliziere diese mit 100 und teile diese dann durch die Gesamtlänge -> erste Analyse \r\n",
        "missing_value_df = pd.DataFrame({'column_name': df_train.columns,\r\n",
        "                                 'percent_missing': percent_missing})\r\n",
        "\r\n",
        "missing_value_df # Neuer Dataframe "
      ],
      "execution_count": 36,
      "outputs": [
        {
          "output_type": "execute_result",
          "data": {
            "text/html": [
              "<div>\n",
              "<style scoped>\n",
              "    .dataframe tbody tr th:only-of-type {\n",
              "        vertical-align: middle;\n",
              "    }\n",
              "\n",
              "    .dataframe tbody tr th {\n",
              "        vertical-align: top;\n",
              "    }\n",
              "\n",
              "    .dataframe thead th {\n",
              "        text-align: right;\n",
              "    }\n",
              "</style>\n",
              "<table border=\"1\" class=\"dataframe\">\n",
              "  <thead>\n",
              "    <tr style=\"text-align: right;\">\n",
              "      <th></th>\n",
              "      <th>column_name</th>\n",
              "      <th>percent_missing</th>\n",
              "    </tr>\n",
              "  </thead>\n",
              "  <tbody>\n",
              "    <tr>\n",
              "      <th>transactionId</th>\n",
              "      <td>transactionId</td>\n",
              "      <td>0.000000</td>\n",
              "    </tr>\n",
              "    <tr>\n",
              "      <th>basket</th>\n",
              "      <td>basket</td>\n",
              "      <td>0.000000</td>\n",
              "    </tr>\n",
              "    <tr>\n",
              "      <th>customerType</th>\n",
              "      <td>customerType</td>\n",
              "      <td>2.066667</td>\n",
              "    </tr>\n",
              "    <tr>\n",
              "      <th>totalAmount</th>\n",
              "      <td>totalAmount</td>\n",
              "      <td>2.233333</td>\n",
              "    </tr>\n",
              "    <tr>\n",
              "      <th>returnLabel</th>\n",
              "      <td>returnLabel</td>\n",
              "      <td>0.000000</td>\n",
              "    </tr>\n",
              "  </tbody>\n",
              "</table>\n",
              "</div>"
            ],
            "text/plain": [
              "                 column_name  percent_missing\n",
              "transactionId  transactionId         0.000000\n",
              "basket                basket         0.000000\n",
              "customerType    customerType         2.066667\n",
              "totalAmount      totalAmount         2.233333\n",
              "returnLabel      returnLabel         0.000000"
            ]
          },
          "metadata": {
            "tags": []
          },
          "execution_count": 36
        }
      ]
    },
    {
      "cell_type": "markdown",
      "metadata": {
        "id": "lub2smDTDZ6r"
      },
      "source": [
        "Fehlende Datenwerte ersetzen im Fall von CustomerType nehmen wir den Modus, da es sich um ein nominales Feature handelt. \r\n",
        "\r\n",
        "Im Fall von totalAmount wird der Durschnitt genommen -> da rational "
      ]
    },
    {
      "cell_type": "code",
      "metadata": {
        "colab": {
          "base_uri": "https://localhost:8080/"
        },
        "id": "7lU5-W5EDY0T",
        "outputId": "d75d230d-77ca-4f2a-a38d-79ec39471aa9"
      },
      "source": [
        "import statistics\r\n",
        "statistics.mode(df_train[\"customerType\"]) #Sind beide gleich \r\n",
        "df_train[\"customerType\"].mode()           "
      ],
      "execution_count": 45,
      "outputs": [
        {
          "output_type": "execute_result",
          "data": {
            "text/plain": [
              "0    existing\n",
              "dtype: object"
            ]
          },
          "metadata": {
            "tags": []
          },
          "execution_count": 45
        }
      ]
    },
    {
      "cell_type": "code",
      "metadata": {
        "id": "lHuEC4PuFM9L"
      },
      "source": [
        ""
      ],
      "execution_count": null,
      "outputs": []
    },
    {
      "cell_type": "markdown",
      "metadata": {
        "id": "Etxa2jpa-Bb5"
      },
      "source": [
        "Ausprobieren von einfachen Visualisierungen"
      ]
    },
    {
      "cell_type": "code",
      "metadata": {
        "colab": {
          "base_uri": "https://localhost:8080/",
          "height": 497
        },
        "id": "1DJFksZp9_zK",
        "outputId": "67f26329-237f-42a8-dd64-f6102e540c77"
      },
      "source": [
        "import matplotlib.pyplot as plt\r\n",
        "\r\n",
        "plt.figure(figsize=(16, 8))\r\n",
        "plt.scatter(df_train['customerType'], df_train['totalAmount'])\r\n",
        "plt.xlabel(\"customerType\")\r\n",
        "plt.ylabel(\"totalAmount\")\r\n",
        "plt.show()"
      ],
      "execution_count": 17,
      "outputs": [
        {
          "output_type": "display_data",
          "data": {
            "image/png": "[encoded data removed]",
            "text/plain": [
              "<Figure size 1152x576 with 1 Axes>"
            ]
          },
          "metadata": {
            "tags": [],
            "needs_background": "light"
          }
        }
      ]
    }
  ]
}